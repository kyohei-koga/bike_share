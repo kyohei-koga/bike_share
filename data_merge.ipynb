{
 "cells": [
  {
   "cell_type": "code",
   "execution_count": 1,
   "metadata": {
    "collapsed": true
   },
   "outputs": [],
   "source": [
    "import pandas as pd\n",
    "import numpy as np"
   ]
  },
  {
   "cell_type": "code",
   "execution_count": 2,
   "metadata": {
    "collapsed": true
   },
   "outputs": [],
   "source": [
    "station_data_1 = pd.read_csv('/home/kyohei/bike_share_data/201402_babs_open_data/201402_station_data.csv')\n",
    "station_data_2 = pd.read_csv('/home/kyohei/bike_share_data/201408_babs_open_data/201408_station_data.csv')\n",
    "station_data_3 = pd.read_csv('/home/kyohei/bike_share_data/201508_station_data.csv')\n",
    "station_data_4 = pd.read_csv('/home/kyohei/bike_share_data/201608_station_data.csv')"
   ]
  },
  {
   "cell_type": "code",
   "execution_count": 3,
   "metadata": {
    "collapsed": false
   },
   "outputs": [
    {
     "name": "stdout",
     "output_type": "stream",
     "text": [
      "<class 'pandas.core.frame.DataFrame'>\n",
      "RangeIndex: 69 entries, 0 to 68\n",
      "Data columns (total 7 columns):\n",
      "station_id      69 non-null int64\n",
      "name            69 non-null object\n",
      "lat             69 non-null float64\n",
      "long            69 non-null float64\n",
      "dockcount       69 non-null int64\n",
      "landmark        69 non-null object\n",
      "installation    69 non-null object\n",
      "dtypes: float64(2), int64(2), object(3)\n",
      "memory usage: 3.8+ KB\n"
     ]
    }
   ],
   "source": [
    "station_data_1.info()"
   ]
  },
  {
   "cell_type": "code",
   "execution_count": 4,
   "metadata": {
    "collapsed": false
   },
   "outputs": [
    {
     "name": "stdout",
     "output_type": "stream",
     "text": [
      "<class 'pandas.core.frame.DataFrame'>\n",
      "RangeIndex: 70 entries, 0 to 69\n",
      "Data columns (total 7 columns):\n",
      "station_id      70 non-null int64\n",
      "name            70 non-null object\n",
      "lat             70 non-null float64\n",
      "long            70 non-null float64\n",
      "dockcount       70 non-null int64\n",
      "landmark        70 non-null object\n",
      "installation    70 non-null object\n",
      "dtypes: float64(2), int64(2), object(3)\n",
      "memory usage: 3.9+ KB\n"
     ]
    }
   ],
   "source": [
    "station_data_2.info()"
   ]
  },
  {
   "cell_type": "code",
   "execution_count": 5,
   "metadata": {
    "collapsed": false
   },
   "outputs": [
    {
     "name": "stdout",
     "output_type": "stream",
     "text": [
      "<class 'pandas.core.frame.DataFrame'>\n",
      "RangeIndex: 70 entries, 0 to 69\n",
      "Data columns (total 7 columns):\n",
      "station_id      70 non-null int64\n",
      "name            70 non-null object\n",
      "lat             70 non-null float64\n",
      "long            70 non-null float64\n",
      "dockcount       70 non-null int64\n",
      "landmark        70 non-null object\n",
      "installation    70 non-null object\n",
      "dtypes: float64(2), int64(2), object(3)\n",
      "memory usage: 3.9+ KB\n"
     ]
    }
   ],
   "source": [
    "station_data_3.info()"
   ]
  },
  {
   "cell_type": "code",
   "execution_count": 6,
   "metadata": {
    "collapsed": false
   },
   "outputs": [
    {
     "name": "stdout",
     "output_type": "stream",
     "text": [
      "<class 'pandas.core.frame.DataFrame'>\n",
      "RangeIndex: 992 entries, 0 to 991\n",
      "Data columns (total 7 columns):\n",
      "station_id      67 non-null float64\n",
      "name            67 non-null object\n",
      "lat             67 non-null float64\n",
      "long            67 non-null float64\n",
      "dockcount       67 non-null float64\n",
      "landmark        67 non-null object\n",
      "installation    67 non-null object\n",
      "dtypes: float64(4), object(3)\n",
      "memory usage: 54.3+ KB\n"
     ]
    }
   ],
   "source": [
    "station_data_4.info()"
   ]
  },
  {
   "cell_type": "code",
   "execution_count": 8,
   "metadata": {
    "collapsed": false
   },
   "outputs": [
    {
     "data": {
      "text/html": [
       "<div>\n",
       "<table border=\"1\" class=\"dataframe\">\n",
       "  <thead>\n",
       "    <tr style=\"text-align: right;\">\n",
       "      <th></th>\n",
       "      <th>station_id</th>\n",
       "      <th>name</th>\n",
       "      <th>lat</th>\n",
       "      <th>long</th>\n",
       "      <th>dockcount</th>\n",
       "      <th>landmark</th>\n",
       "      <th>installation</th>\n",
       "    </tr>\n",
       "  </thead>\n",
       "  <tbody>\n",
       "    <tr>\n",
       "      <th>65</th>\n",
       "      <td>77</td>\n",
       "      <td>Market at Sansome</td>\n",
       "      <td>37.789625</td>\n",
       "      <td>-122.400811</td>\n",
       "      <td>27</td>\n",
       "      <td>San Francisco</td>\n",
       "      <td>8/25/2013</td>\n",
       "    </tr>\n",
       "    <tr>\n",
       "      <th>66</th>\n",
       "      <td>80</td>\n",
       "      <td>San Jose Government Center</td>\n",
       "      <td>37.352601</td>\n",
       "      <td>-121.905733</td>\n",
       "      <td>15</td>\n",
       "      <td>San Jose</td>\n",
       "      <td>12/31/2013</td>\n",
       "    </tr>\n",
       "    <tr>\n",
       "      <th>67</th>\n",
       "      <td>82</td>\n",
       "      <td>Broadway St at Battery St</td>\n",
       "      <td>37.798541</td>\n",
       "      <td>-122.400862</td>\n",
       "      <td>15</td>\n",
       "      <td>San Francisco</td>\n",
       "      <td>1/22/2014</td>\n",
       "    </tr>\n",
       "    <tr>\n",
       "      <th>68</th>\n",
       "      <td>83</td>\n",
       "      <td>Mezes Park</td>\n",
       "      <td>37.491269</td>\n",
       "      <td>-122.236234</td>\n",
       "      <td>15</td>\n",
       "      <td>Redwood City</td>\n",
       "      <td>2/20/2014</td>\n",
       "    </tr>\n",
       "    <tr>\n",
       "      <th>69</th>\n",
       "      <td>84</td>\n",
       "      <td>Ryland Park</td>\n",
       "      <td>37.342725</td>\n",
       "      <td>-121.895617</td>\n",
       "      <td>15</td>\n",
       "      <td>San Jose</td>\n",
       "      <td>4/9/2014</td>\n",
       "    </tr>\n",
       "  </tbody>\n",
       "</table>\n",
       "</div>"
      ],
      "text/plain": [
       "    station_id                        name        lat        long  dockcount  \\\n",
       "65          77           Market at Sansome  37.789625 -122.400811         27   \n",
       "66          80  San Jose Government Center  37.352601 -121.905733         15   \n",
       "67          82   Broadway St at Battery St  37.798541 -122.400862         15   \n",
       "68          83                  Mezes Park  37.491269 -122.236234         15   \n",
       "69          84                 Ryland Park  37.342725 -121.895617         15   \n",
       "\n",
       "         landmark installation  \n",
       "65  San Francisco    8/25/2013  \n",
       "66       San Jose   12/31/2013  \n",
       "67  San Francisco    1/22/2014  \n",
       "68   Redwood City    2/20/2014  \n",
       "69       San Jose     4/9/2014  "
      ]
     },
     "execution_count": 8,
     "metadata": {},
     "output_type": "execute_result"
    }
   ],
   "source": [
    "station_data_2.tail()"
   ]
  },
  {
   "cell_type": "code",
   "execution_count": 29,
   "metadata": {
    "collapsed": false
   },
   "outputs": [],
   "source": [
    "station_data_1['installation'] = pd.to_datetime(station_data_1.installation)\n",
    "station_data_2['installation'] = pd.to_datetime(station_data_2.installation)\n",
    "station_data_3['installation'] = pd.to_datetime(station_data_3.installation)\n",
    "station_data_4['installation'] = pd.to_datetime(station_data_4.installation)"
   ]
  },
  {
   "cell_type": "code",
   "execution_count": 30,
   "metadata": {
    "collapsed": false
   },
   "outputs": [],
   "source": [
    "station_data_4.dropna(inplace=True)"
   ]
  },
  {
   "cell_type": "code",
   "execution_count": 34,
   "metadata": {
    "collapsed": false
   },
   "outputs": [],
   "source": [
    "station_data_4['station_id'] = station_data_4['station_id'].astype(int)"
   ]
  },
  {
   "cell_type": "code",
   "execution_count": 41,
   "metadata": {
    "collapsed": false
   },
   "outputs": [],
   "source": [
    "a = pd.concat([station_data_1,station_data_2,station_data_3,station_data_4],axis=0).drop_duplicates()"
   ]
  },
  {
   "cell_type": "code",
   "execution_count": 58,
   "metadata": {
    "collapsed": false
   },
   "outputs": [
    {
     "data": {
      "text/html": [
       "<div>\n",
       "<table border=\"1\" class=\"dataframe\">\n",
       "  <thead>\n",
       "    <tr style=\"text-align: right;\">\n",
       "      <th></th>\n",
       "      <th>station_id</th>\n",
       "      <th>name</th>\n",
       "      <th>lat</th>\n",
       "      <th>long</th>\n",
       "      <th>dockcount</th>\n",
       "      <th>landmark</th>\n",
       "      <th>installation</th>\n",
       "    </tr>\n",
       "  </thead>\n",
       "  <tbody>\n",
       "    <tr>\n",
       "      <th>16</th>\n",
       "      <td>23</td>\n",
       "      <td>San Mateo County Center</td>\n",
       "      <td>37.488501</td>\n",
       "      <td>-122.231061</td>\n",
       "      <td>15.0</td>\n",
       "      <td>Redwood City</td>\n",
       "      <td>2013-08-15</td>\n",
       "    </tr>\n",
       "    <tr>\n",
       "      <th>16</th>\n",
       "      <td>23</td>\n",
       "      <td>San Mateo County Center</td>\n",
       "      <td>37.487616</td>\n",
       "      <td>-122.229951</td>\n",
       "      <td>15.0</td>\n",
       "      <td>Redwood City</td>\n",
       "      <td>2013-08-15</td>\n",
       "    </tr>\n",
       "    <tr>\n",
       "      <th>18</th>\n",
       "      <td>25</td>\n",
       "      <td>Broadway at Main</td>\n",
       "      <td>37.486725</td>\n",
       "      <td>-122.225551</td>\n",
       "      <td>15.0</td>\n",
       "      <td>Redwood City</td>\n",
       "      <td>2013-08-12</td>\n",
       "    </tr>\n",
       "    <tr>\n",
       "      <th>18</th>\n",
       "      <td>25</td>\n",
       "      <td>Stanford in Redwood City</td>\n",
       "      <td>37.485370</td>\n",
       "      <td>-122.203288</td>\n",
       "      <td>15.0</td>\n",
       "      <td>Redwood City</td>\n",
       "      <td>2013-08-12</td>\n",
       "    </tr>\n",
       "    <tr>\n",
       "      <th>23</th>\n",
       "      <td>30</td>\n",
       "      <td>Evelyn Park and Ride</td>\n",
       "      <td>37.390277</td>\n",
       "      <td>-122.066553</td>\n",
       "      <td>15.0</td>\n",
       "      <td>Mountain View</td>\n",
       "      <td>2013-08-16</td>\n",
       "    </tr>\n",
       "    <tr>\n",
       "      <th>63</th>\n",
       "      <td>30</td>\n",
       "      <td>Middlefield Light Rail Station</td>\n",
       "      <td>37.395337</td>\n",
       "      <td>-122.052476</td>\n",
       "      <td>15.0</td>\n",
       "      <td>Mountain View</td>\n",
       "      <td>2015-09-28</td>\n",
       "    </tr>\n",
       "    <tr>\n",
       "      <th>66</th>\n",
       "      <td>33</td>\n",
       "      <td>Charleston Park/ North Bayshore Area</td>\n",
       "      <td>37.420909</td>\n",
       "      <td>-122.080623</td>\n",
       "      <td>15.0</td>\n",
       "      <td>Mountain View</td>\n",
       "      <td>2015-09-28</td>\n",
       "    </tr>\n",
       "    <tr>\n",
       "      <th>26</th>\n",
       "      <td>33</td>\n",
       "      <td>Rengstorff Avenue / California Street</td>\n",
       "      <td>37.400241</td>\n",
       "      <td>-122.099076</td>\n",
       "      <td>15.0</td>\n",
       "      <td>Mountain View</td>\n",
       "      <td>2013-08-16</td>\n",
       "    </tr>\n",
       "    <tr>\n",
       "      <th>39</th>\n",
       "      <td>49</td>\n",
       "      <td>Spear at Folsom</td>\n",
       "      <td>37.789625</td>\n",
       "      <td>-122.390264</td>\n",
       "      <td>19.0</td>\n",
       "      <td>San Francisco</td>\n",
       "      <td>2013-08-20</td>\n",
       "    </tr>\n",
       "    <tr>\n",
       "      <th>38</th>\n",
       "      <td>49</td>\n",
       "      <td>Spear at Folsom</td>\n",
       "      <td>37.790302</td>\n",
       "      <td>-122.390637</td>\n",
       "      <td>19.0</td>\n",
       "      <td>San Francisco</td>\n",
       "      <td>2013-08-20</td>\n",
       "    </tr>\n",
       "    <tr>\n",
       "      <th>57</th>\n",
       "      <td>69</td>\n",
       "      <td>San Francisco Caltrain 2 (330 Townsend)</td>\n",
       "      <td>37.776377</td>\n",
       "      <td>-122.396070</td>\n",
       "      <td>23.0</td>\n",
       "      <td>San Francisco</td>\n",
       "      <td>2013-08-23</td>\n",
       "    </tr>\n",
       "    <tr>\n",
       "      <th>57</th>\n",
       "      <td>69</td>\n",
       "      <td>San Francisco Caltrain 2 (330 Townsend)</td>\n",
       "      <td>37.776600</td>\n",
       "      <td>-122.395470</td>\n",
       "      <td>23.0</td>\n",
       "      <td>San Francisco</td>\n",
       "      <td>2013-08-23</td>\n",
       "    </tr>\n",
       "    <tr>\n",
       "      <th>60</th>\n",
       "      <td>72</td>\n",
       "      <td>Civic Center BART (7th at Market)</td>\n",
       "      <td>37.781039</td>\n",
       "      <td>-122.411748</td>\n",
       "      <td>23.0</td>\n",
       "      <td>San Francisco</td>\n",
       "      <td>2013-08-23</td>\n",
       "    </tr>\n",
       "    <tr>\n",
       "      <th>60</th>\n",
       "      <td>72</td>\n",
       "      <td>Civic Center BART (7th at Market)</td>\n",
       "      <td>37.780356</td>\n",
       "      <td>-122.412919</td>\n",
       "      <td>23.0</td>\n",
       "      <td>San Francisco</td>\n",
       "      <td>2013-08-23</td>\n",
       "    </tr>\n",
       "    <tr>\n",
       "      <th>61</th>\n",
       "      <td>73</td>\n",
       "      <td>Grant Avenue at Columbus Avenue</td>\n",
       "      <td>37.798522</td>\n",
       "      <td>-122.407245</td>\n",
       "      <td>15.0</td>\n",
       "      <td>San Francisco</td>\n",
       "      <td>2013-08-21</td>\n",
       "    </tr>\n",
       "    <tr>\n",
       "      <th>47</th>\n",
       "      <td>73</td>\n",
       "      <td>Grant Avenue at Columbus Avenue</td>\n",
       "      <td>37.797900</td>\n",
       "      <td>-122.405942</td>\n",
       "      <td>19.0</td>\n",
       "      <td>San Francisco</td>\n",
       "      <td>2016-05-19</td>\n",
       "    </tr>\n",
       "    <tr>\n",
       "      <th>66</th>\n",
       "      <td>80</td>\n",
       "      <td>Santa Clara County Civic Center</td>\n",
       "      <td>37.352601</td>\n",
       "      <td>-121.905733</td>\n",
       "      <td>15.0</td>\n",
       "      <td>San Jose</td>\n",
       "      <td>2013-12-31</td>\n",
       "    </tr>\n",
       "    <tr>\n",
       "      <th>66</th>\n",
       "      <td>80</td>\n",
       "      <td>San Jose Government Center</td>\n",
       "      <td>37.352601</td>\n",
       "      <td>-121.905733</td>\n",
       "      <td>15.0</td>\n",
       "      <td>San Jose</td>\n",
       "      <td>2013-12-31</td>\n",
       "    </tr>\n",
       "  </tbody>\n",
       "</table>\n",
       "</div>"
      ],
      "text/plain": [
       "    station_id                                     name        lat  \\\n",
       "16          23                  San Mateo County Center  37.488501   \n",
       "16          23                  San Mateo County Center  37.487616   \n",
       "18          25                         Broadway at Main  37.486725   \n",
       "18          25                 Stanford in Redwood City  37.485370   \n",
       "23          30                     Evelyn Park and Ride  37.390277   \n",
       "63          30           Middlefield Light Rail Station  37.395337   \n",
       "66          33     Charleston Park/ North Bayshore Area  37.420909   \n",
       "26          33    Rengstorff Avenue / California Street  37.400241   \n",
       "39          49                          Spear at Folsom  37.789625   \n",
       "38          49                          Spear at Folsom  37.790302   \n",
       "57          69  San Francisco Caltrain 2 (330 Townsend)  37.776377   \n",
       "57          69  San Francisco Caltrain 2 (330 Townsend)  37.776600   \n",
       "60          72        Civic Center BART (7th at Market)  37.781039   \n",
       "60          72        Civic Center BART (7th at Market)  37.780356   \n",
       "61          73          Grant Avenue at Columbus Avenue  37.798522   \n",
       "47          73          Grant Avenue at Columbus Avenue  37.797900   \n",
       "66          80          Santa Clara County Civic Center  37.352601   \n",
       "66          80               San Jose Government Center  37.352601   \n",
       "\n",
       "          long  dockcount       landmark installation  \n",
       "16 -122.231061       15.0   Redwood City   2013-08-15  \n",
       "16 -122.229951       15.0   Redwood City   2013-08-15  \n",
       "18 -122.225551       15.0   Redwood City   2013-08-12  \n",
       "18 -122.203288       15.0   Redwood City   2013-08-12  \n",
       "23 -122.066553       15.0  Mountain View   2013-08-16  \n",
       "63 -122.052476       15.0  Mountain View   2015-09-28  \n",
       "66 -122.080623       15.0  Mountain View   2015-09-28  \n",
       "26 -122.099076       15.0  Mountain View   2013-08-16  \n",
       "39 -122.390264       19.0  San Francisco   2013-08-20  \n",
       "38 -122.390637       19.0  San Francisco   2013-08-20  \n",
       "57 -122.396070       23.0  San Francisco   2013-08-23  \n",
       "57 -122.395470       23.0  San Francisco   2013-08-23  \n",
       "60 -122.411748       23.0  San Francisco   2013-08-23  \n",
       "60 -122.412919       23.0  San Francisco   2013-08-23  \n",
       "61 -122.407245       15.0  San Francisco   2013-08-21  \n",
       "47 -122.405942       19.0  San Francisco   2016-05-19  \n",
       "66 -121.905733       15.0       San Jose   2013-12-31  \n",
       "66 -121.905733       15.0       San Jose   2013-12-31  "
      ]
     },
     "execution_count": 58,
     "metadata": {},
     "output_type": "execute_result"
    }
   ],
   "source": [
    "a[a.station_id.isin(a[a.station_id.duplicated()]['station_id'])].sort_values('station_id')"
   ]
  },
  {
   "cell_type": "code",
   "execution_count": 61,
   "metadata": {
    "collapsed": false
   },
   "outputs": [
    {
     "data": {
      "text/html": [
       "<div>\n",
       "<table border=\"1\" class=\"dataframe\">\n",
       "  <thead>\n",
       "    <tr style=\"text-align: right;\">\n",
       "      <th></th>\n",
       "      <th>station_id</th>\n",
       "      <th>name</th>\n",
       "      <th>lat</th>\n",
       "      <th>long</th>\n",
       "      <th>dockcount</th>\n",
       "      <th>landmark</th>\n",
       "      <th>installation</th>\n",
       "    </tr>\n",
       "  </thead>\n",
       "  <tbody>\n",
       "    <tr>\n",
       "      <th>66</th>\n",
       "      <td>80</td>\n",
       "      <td>San Jose Government Center</td>\n",
       "      <td>37.352601</td>\n",
       "      <td>-121.905733</td>\n",
       "      <td>15</td>\n",
       "      <td>San Jose</td>\n",
       "      <td>2013-12-31</td>\n",
       "    </tr>\n",
       "  </tbody>\n",
       "</table>\n",
       "</div>"
      ],
      "text/plain": [
       "    station_id                        name        lat        long  dockcount  \\\n",
       "66          80  San Jose Government Center  37.352601 -121.905733         15   \n",
       "\n",
       "    landmark installation  \n",
       "66  San Jose   2013-12-31  "
      ]
     },
     "execution_count": 61,
     "metadata": {},
     "output_type": "execute_result"
    }
   ],
   "source": [
    "station_data_1[station_data_1.station_id==80]"
   ]
  },
  {
   "cell_type": "code",
   "execution_count": 62,
   "metadata": {
    "collapsed": false
   },
   "outputs": [
    {
     "data": {
      "text/html": [
       "<div>\n",
       "<table border=\"1\" class=\"dataframe\">\n",
       "  <thead>\n",
       "    <tr style=\"text-align: right;\">\n",
       "      <th></th>\n",
       "      <th>station_id</th>\n",
       "      <th>name</th>\n",
       "      <th>lat</th>\n",
       "      <th>long</th>\n",
       "      <th>dockcount</th>\n",
       "      <th>landmark</th>\n",
       "      <th>installation</th>\n",
       "    </tr>\n",
       "  </thead>\n",
       "  <tbody>\n",
       "    <tr>\n",
       "      <th>66</th>\n",
       "      <td>80</td>\n",
       "      <td>San Jose Government Center</td>\n",
       "      <td>37.352601</td>\n",
       "      <td>-121.905733</td>\n",
       "      <td>15</td>\n",
       "      <td>San Jose</td>\n",
       "      <td>2013-12-31</td>\n",
       "    </tr>\n",
       "  </tbody>\n",
       "</table>\n",
       "</div>"
      ],
      "text/plain": [
       "    station_id                        name        lat        long  dockcount  \\\n",
       "66          80  San Jose Government Center  37.352601 -121.905733         15   \n",
       "\n",
       "    landmark installation  \n",
       "66  San Jose   2013-12-31  "
      ]
     },
     "execution_count": 62,
     "metadata": {},
     "output_type": "execute_result"
    }
   ],
   "source": [
    "station_data_2[station_data_2.station_id==80]"
   ]
  },
  {
   "cell_type": "code",
   "execution_count": 63,
   "metadata": {
    "collapsed": false
   },
   "outputs": [
    {
     "data": {
      "text/html": [
       "<div>\n",
       "<table border=\"1\" class=\"dataframe\">\n",
       "  <thead>\n",
       "    <tr style=\"text-align: right;\">\n",
       "      <th></th>\n",
       "      <th>station_id</th>\n",
       "      <th>name</th>\n",
       "      <th>lat</th>\n",
       "      <th>long</th>\n",
       "      <th>dockcount</th>\n",
       "      <th>landmark</th>\n",
       "      <th>installation</th>\n",
       "    </tr>\n",
       "  </thead>\n",
       "  <tbody>\n",
       "    <tr>\n",
       "      <th>66</th>\n",
       "      <td>80</td>\n",
       "      <td>Santa Clara County Civic Center</td>\n",
       "      <td>37.352601</td>\n",
       "      <td>-121.905733</td>\n",
       "      <td>15</td>\n",
       "      <td>San Jose</td>\n",
       "      <td>2013-12-31</td>\n",
       "    </tr>\n",
       "  </tbody>\n",
       "</table>\n",
       "</div>"
      ],
      "text/plain": [
       "    station_id                             name        lat        long  \\\n",
       "66          80  Santa Clara County Civic Center  37.352601 -121.905733   \n",
       "\n",
       "    dockcount  landmark installation  \n",
       "66         15  San Jose   2013-12-31  "
      ]
     },
     "execution_count": 63,
     "metadata": {},
     "output_type": "execute_result"
    }
   ],
   "source": [
    "station_data_3[station_data_3.station_id==80]"
   ]
  },
  {
   "cell_type": "code",
   "execution_count": 64,
   "metadata": {
    "collapsed": false
   },
   "outputs": [
    {
     "data": {
      "text/html": [
       "<div>\n",
       "<table border=\"1\" class=\"dataframe\">\n",
       "  <thead>\n",
       "    <tr style=\"text-align: right;\">\n",
       "      <th></th>\n",
       "      <th>station_id</th>\n",
       "      <th>name</th>\n",
       "      <th>lat</th>\n",
       "      <th>long</th>\n",
       "      <th>dockcount</th>\n",
       "      <th>landmark</th>\n",
       "      <th>installation</th>\n",
       "    </tr>\n",
       "  </thead>\n",
       "  <tbody>\n",
       "    <tr>\n",
       "      <th>14</th>\n",
       "      <td>80</td>\n",
       "      <td>Santa Clara County Civic Center</td>\n",
       "      <td>37.352601</td>\n",
       "      <td>-121.905733</td>\n",
       "      <td>15.0</td>\n",
       "      <td>San Jose</td>\n",
       "      <td>2013-12-31</td>\n",
       "    </tr>\n",
       "  </tbody>\n",
       "</table>\n",
       "</div>"
      ],
      "text/plain": [
       "    station_id                             name        lat        long  \\\n",
       "14          80  Santa Clara County Civic Center  37.352601 -121.905733   \n",
       "\n",
       "    dockcount  landmark installation  \n",
       "14       15.0  San Jose   2013-12-31  "
      ]
     },
     "execution_count": 64,
     "metadata": {},
     "output_type": "execute_result"
    }
   ],
   "source": [
    "station_data_4[station_data_4.station_id==80]"
   ]
  },
  {
   "cell_type": "code",
   "execution_count": 54,
   "metadata": {
    "collapsed": false
   },
   "outputs": [
    {
     "data": {
      "text/plain": [
       "array([23, 25, 49, 69, 72, 80, 73, 30, 33])"
      ]
     },
     "execution_count": 54,
     "metadata": {},
     "output_type": "execute_result"
    }
   ],
   "source": [
    "a[a.station_id.duplicated()]['station_id'].values"
   ]
  },
  {
   "cell_type": "code",
   "execution_count": 56,
   "metadata": {
    "collapsed": false,
    "scrolled": true
   },
   "outputs": [
    {
     "data": {
      "text/plain": [
       "0     False\n",
       "1     False\n",
       "2     False\n",
       "3     False\n",
       "4     False\n",
       "5     False\n",
       "6     False\n",
       "7     False\n",
       "8     False\n",
       "9     False\n",
       "10    False\n",
       "11    False\n",
       "12    False\n",
       "13    False\n",
       "14    False\n",
       "15    False\n",
       "16     True\n",
       "17    False\n",
       "18     True\n",
       "19    False\n",
       "20    False\n",
       "21    False\n",
       "22    False\n",
       "23     True\n",
       "24    False\n",
       "25    False\n",
       "26     True\n",
       "27    False\n",
       "28    False\n",
       "29    False\n",
       "      ...  \n",
       "53    False\n",
       "54    False\n",
       "55    False\n",
       "56    False\n",
       "57     True\n",
       "58    False\n",
       "59    False\n",
       "60     True\n",
       "61     True\n",
       "62    False\n",
       "63    False\n",
       "64    False\n",
       "65    False\n",
       "66     True\n",
       "67    False\n",
       "68    False\n",
       "69    False\n",
       "16     True\n",
       "18     True\n",
       "38     True\n",
       "57     True\n",
       "60     True\n",
       "66     True\n",
       "16    False\n",
       "17    False\n",
       "47     True\n",
       "53    False\n",
       "54    False\n",
       "63     True\n",
       "66     True\n",
       "Name: station_id, dtype: bool"
      ]
     },
     "execution_count": 56,
     "metadata": {},
     "output_type": "execute_result"
    }
   ],
   "source": [
    "a.station_id.isin(a[a.station_id.duplicated()]['station_id'])"
   ]
  },
  {
   "cell_type": "code",
   "execution_count": null,
   "metadata": {
    "collapsed": true
   },
   "outputs": [],
   "source": []
  }
 ],
 "metadata": {
  "anaconda-cloud": {},
  "kernelspec": {
   "display_name": "Python [conda root]",
   "language": "python",
   "name": "conda-root-py"
  },
  "language_info": {
   "codemirror_mode": {
    "name": "ipython",
    "version": 2
   },
   "file_extension": ".py",
   "mimetype": "text/x-python",
   "name": "python",
   "nbconvert_exporter": "python",
   "pygments_lexer": "ipython2",
   "version": "2.7.12"
  }
 },
 "nbformat": 4,
 "nbformat_minor": 1
}
