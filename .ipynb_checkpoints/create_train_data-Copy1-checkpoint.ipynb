{
 "cells": [
  {
   "cell_type": "code",
   "execution_count": 1,
   "metadata": {
    "collapsed": true
   },
   "outputs": [],
   "source": [
    "import pandas as pd\n",
    "import numpy as np\n",
    "import matplotlib.pyplot as plt\n",
    "import seaborn as sns\n",
    "%matplotlib inline"
   ]
  },
  {
   "cell_type": "markdown",
   "metadata": {},
   "source": [
    "# Harry Bridges Plaza (Ferry Building)の需要予測"
   ]
  },
  {
   "cell_type": "code",
   "execution_count": 2,
   "metadata": {
    "collapsed": true
   },
   "outputs": [],
   "source": [
    "trip1 = pd.read_csv('/home/kyohei/bike_share_data/201402_babs_open_data/201402_trip_data.csv')\n",
    "trip2 = pd.read_csv('/home/kyohei/bike_share_data/201408_babs_open_data/201408_trip_data.csv')\n",
    "trip3 = pd.read_csv('/home/kyohei/bike_share_data/201508_trip_data.csv')\n",
    "trip4 = pd.read_csv('/home/kyohei/bike_share_data/201608_trip_data.csv')"
   ]
  },
  {
   "cell_type": "code",
   "execution_count": 3,
   "metadata": {
    "collapsed": false
   },
   "outputs": [],
   "source": [
    "#trip1のcolumns名の変更\n",
    "trip1.rename(columns={'Subscription Type':'Subscriber Type'},inplace=True)"
   ]
  },
  {
   "cell_type": "code",
   "execution_count": 4,
   "metadata": {
    "collapsed": false
   },
   "outputs": [],
   "source": [
    "#tripdataの結合\n",
    "trip = pd.concat([trip1,trip2,trip3,trip4],axis=0,ignore_index=True)"
   ]
  },
  {
   "cell_type": "code",
   "execution_count": 5,
   "metadata": {
    "collapsed": false
   },
   "outputs": [
    {
     "name": "stderr",
     "output_type": "stream",
     "text": [
      "/home/kyohei/anaconda2/lib/python2.7/site-packages/ipykernel/__main__.py:5: SettingWithCopyWarning: \n",
      "A value is trying to be set on a copy of a slice from a DataFrame.\n",
      "Try using .loc[row_indexer,col_indexer] = value instead\n",
      "\n",
      "See the caveats in the documentation: http://pandas.pydata.org/pandas-docs/stable/indexing.html#indexing-view-versus-copy\n",
      "/home/kyohei/anaconda2/lib/python2.7/site-packages/ipykernel/__main__.py:8: SettingWithCopyWarning: \n",
      "A value is trying to be set on a copy of a slice from a DataFrame.\n",
      "Try using .loc[row_indexer,col_indexer] = value instead\n",
      "\n",
      "See the caveats in the documentation: http://pandas.pydata.org/pandas-docs/stable/indexing.html#indexing-view-versus-copy\n",
      "/home/kyohei/anaconda2/lib/python2.7/site-packages/ipykernel/__main__.py:11: SettingWithCopyWarning: \n",
      "A value is trying to be set on a copy of a slice from a DataFrame.\n",
      "Try using .loc[row_indexer,col_indexer] = value instead\n",
      "\n",
      "See the caveats in the documentation: http://pandas.pydata.org/pandas-docs/stable/indexing.html#indexing-view-versus-copy\n",
      "/home/kyohei/anaconda2/lib/python2.7/site-packages/ipykernel/__main__.py:14: SettingWithCopyWarning: \n",
      "A value is trying to be set on a copy of a slice from a DataFrame.\n",
      "Try using .loc[row_indexer,col_indexer] = value instead\n",
      "\n",
      "See the caveats in the documentation: http://pandas.pydata.org/pandas-docs/stable/indexing.html#indexing-view-versus-copy\n",
      "/home/kyohei/anaconda2/lib/python2.7/site-packages/ipykernel/__main__.py:18: SettingWithCopyWarning: \n",
      "A value is trying to be set on a copy of a slice from a DataFrame.\n",
      "Try using .loc[row_indexer,col_indexer] = value instead\n",
      "\n",
      "See the caveats in the documentation: http://pandas.pydata.org/pandas-docs/stable/indexing.html#indexing-view-versus-copy\n"
     ]
    }
   ],
   "source": [
    "#tripのスタートターミナルの限定\n",
    "trip_hbp_start = trip[trip['Start Terminal']==50]\n",
    "\n",
    "#datetimeに変換\n",
    "trip_hbp_start['Start Date'] = trip_hbp_start['Start Date'].apply(lambda x:pd.to_datetime(x))\n",
    "\n",
    "#年\n",
    "trip_hbp_start['start_year'] = trip_hbp_start['Start Date'].apply(lambda x:x.date().year)\n",
    "\n",
    "#月\n",
    "trip_hbp_start['start_month'] = trip_hbp_start['Start Date'].apply(lambda x:x.date().month)\n",
    "\n",
    "#曜日\n",
    "trip_hbp_start['start_dayofweek'] = trip_hbp_start['Start Date'].apply(lambda x:x.dayofweek)\n",
    "\n",
    "import datetime\n",
    "#時刻\n",
    "trip_hbp_start['start_time'] = trip_hbp_start['Start Date'].apply(lambda x:x.time())"
   ]
  },
  {
   "cell_type": "code",
   "execution_count": 6,
   "metadata": {
    "collapsed": false
   },
   "outputs": [
    {
     "data": {
      "text/html": [
       "<div>\n",
       "<table border=\"1\" class=\"dataframe\">\n",
       "  <thead>\n",
       "    <tr style=\"text-align: right;\">\n",
       "      <th></th>\n",
       "      <th>Trip ID</th>\n",
       "      <th>Duration</th>\n",
       "      <th>Start Date</th>\n",
       "      <th>Start Station</th>\n",
       "      <th>Start Terminal</th>\n",
       "      <th>End Date</th>\n",
       "      <th>End Station</th>\n",
       "      <th>End Terminal</th>\n",
       "      <th>Bike #</th>\n",
       "      <th>Subscriber Type</th>\n",
       "      <th>Zip Code</th>\n",
       "      <th>start_year</th>\n",
       "      <th>start_month</th>\n",
       "      <th>start_dayofweek</th>\n",
       "      <th>start_time</th>\n",
       "    </tr>\n",
       "  </thead>\n",
       "  <tbody>\n",
       "    <tr>\n",
       "      <th>67</th>\n",
       "      <td>4748</td>\n",
       "      <td>240</td>\n",
       "      <td>2013-08-29 16:56:00</td>\n",
       "      <td>Harry Bridges Plaza (Ferry Building)</td>\n",
       "      <td>50</td>\n",
       "      <td>8/29/2013 17:00</td>\n",
       "      <td>Beale at Market</td>\n",
       "      <td>56</td>\n",
       "      <td>626</td>\n",
       "      <td>Subscriber</td>\n",
       "      <td>94122</td>\n",
       "      <td>2013</td>\n",
       "      <td>8</td>\n",
       "      <td>3</td>\n",
       "      <td>16:56:00</td>\n",
       "    </tr>\n",
       "    <tr>\n",
       "      <th>76</th>\n",
       "      <td>4423</td>\n",
       "      <td>254</td>\n",
       "      <td>2013-08-29 12:50:00</td>\n",
       "      <td>Harry Bridges Plaza (Ferry Building)</td>\n",
       "      <td>50</td>\n",
       "      <td>8/29/2013 12:54</td>\n",
       "      <td>Clay at Battery</td>\n",
       "      <td>41</td>\n",
       "      <td>544</td>\n",
       "      <td>Subscriber</td>\n",
       "      <td>94070</td>\n",
       "      <td>2013</td>\n",
       "      <td>8</td>\n",
       "      <td>3</td>\n",
       "      <td>12:50:00</td>\n",
       "    </tr>\n",
       "    <tr>\n",
       "      <th>110</th>\n",
       "      <td>4392</td>\n",
       "      <td>323</td>\n",
       "      <td>2013-08-29 12:34:00</td>\n",
       "      <td>Harry Bridges Plaza (Ferry Building)</td>\n",
       "      <td>50</td>\n",
       "      <td>8/29/2013 12:39</td>\n",
       "      <td>Embarcadero at Vallejo</td>\n",
       "      <td>48</td>\n",
       "      <td>428</td>\n",
       "      <td>Subscriber</td>\n",
       "      <td>94123</td>\n",
       "      <td>2013</td>\n",
       "      <td>8</td>\n",
       "      <td>3</td>\n",
       "      <td>12:34:00</td>\n",
       "    </tr>\n",
       "    <tr>\n",
       "      <th>131</th>\n",
       "      <td>4570</td>\n",
       "      <td>351</td>\n",
       "      <td>2013-08-29 14:06:00</td>\n",
       "      <td>Harry Bridges Plaza (Ferry Building)</td>\n",
       "      <td>50</td>\n",
       "      <td>8/29/2013 14:12</td>\n",
       "      <td>Washington at Kearney</td>\n",
       "      <td>46</td>\n",
       "      <td>275</td>\n",
       "      <td>Subscriber</td>\n",
       "      <td>94109</td>\n",
       "      <td>2013</td>\n",
       "      <td>8</td>\n",
       "      <td>3</td>\n",
       "      <td>14:06:00</td>\n",
       "    </tr>\n",
       "    <tr>\n",
       "      <th>132</th>\n",
       "      <td>4278</td>\n",
       "      <td>353</td>\n",
       "      <td>2013-08-29 11:52:00</td>\n",
       "      <td>Harry Bridges Plaza (Ferry Building)</td>\n",
       "      <td>50</td>\n",
       "      <td>8/29/2013 11:58</td>\n",
       "      <td>Commercial at Montgomery</td>\n",
       "      <td>45</td>\n",
       "      <td>596</td>\n",
       "      <td>Subscriber</td>\n",
       "      <td>94123</td>\n",
       "      <td>2013</td>\n",
       "      <td>8</td>\n",
       "      <td>3</td>\n",
       "      <td>11:52:00</td>\n",
       "    </tr>\n",
       "  </tbody>\n",
       "</table>\n",
       "</div>"
      ],
      "text/plain": [
       "     Trip ID  Duration          Start Date  \\\n",
       "67      4748       240 2013-08-29 16:56:00   \n",
       "76      4423       254 2013-08-29 12:50:00   \n",
       "110     4392       323 2013-08-29 12:34:00   \n",
       "131     4570       351 2013-08-29 14:06:00   \n",
       "132     4278       353 2013-08-29 11:52:00   \n",
       "\n",
       "                            Start Station  Start Terminal         End Date  \\\n",
       "67   Harry Bridges Plaza (Ferry Building)              50  8/29/2013 17:00   \n",
       "76   Harry Bridges Plaza (Ferry Building)              50  8/29/2013 12:54   \n",
       "110  Harry Bridges Plaza (Ferry Building)              50  8/29/2013 12:39   \n",
       "131  Harry Bridges Plaza (Ferry Building)              50  8/29/2013 14:12   \n",
       "132  Harry Bridges Plaza (Ferry Building)              50  8/29/2013 11:58   \n",
       "\n",
       "                  End Station  End Terminal  Bike # Subscriber Type Zip Code  \\\n",
       "67            Beale at Market            56     626      Subscriber    94122   \n",
       "76            Clay at Battery            41     544      Subscriber    94070   \n",
       "110    Embarcadero at Vallejo            48     428      Subscriber    94123   \n",
       "131     Washington at Kearney            46     275      Subscriber    94109   \n",
       "132  Commercial at Montgomery            45     596      Subscriber    94123   \n",
       "\n",
       "     start_year  start_month  start_dayofweek start_time  \n",
       "67         2013            8                3   16:56:00  \n",
       "76         2013            8                3   12:50:00  \n",
       "110        2013            8                3   12:34:00  \n",
       "131        2013            8                3   14:06:00  \n",
       "132        2013            8                3   11:52:00  "
      ]
     },
     "execution_count": 6,
     "metadata": {},
     "output_type": "execute_result"
    }
   ],
   "source": [
    "trip_hbp_start.head()"
   ]
  },
  {
   "cell_type": "markdown",
   "metadata": {},
   "source": [
    "### weather"
   ]
  },
  {
   "cell_type": "code",
   "execution_count": 7,
   "metadata": {
    "collapsed": true
   },
   "outputs": [],
   "source": [
    "weather1 = pd.read_csv('/home/kyohei/bike_share_data/201402_babs_open_data/201402_weather_data.csv')\n",
    "weather2 = pd.read_csv('/home/kyohei/bike_share_data/201408_babs_open_data/201408_weather_data.csv')\n",
    "weather3 = pd.read_csv('/home/kyohei/bike_share_data/201508_weather_data.csv')\n",
    "weather4 = pd.read_csv('/home/kyohei/bike_share_data/201608_weather_data.csv')"
   ]
  },
  {
   "cell_type": "code",
   "execution_count": 8,
   "metadata": {
    "collapsed": false
   },
   "outputs": [],
   "source": [
    "#columnsの修正\n",
    "weather2.columns = weather2.columns.str.strip()\n",
    "weather3.columns = weather3.columns.str.strip()\n",
    "weather4.columns = weather4.columns.str.strip()\n",
    "weather1.columns = weather2.columns\n",
    "weather4.rename(columns={'ZIP':'Zip'},inplace=True)"
   ]
  },
  {
   "cell_type": "code",
   "execution_count": 9,
   "metadata": {
    "collapsed": false
   },
   "outputs": [],
   "source": [
    "#weatherの統合\n",
    "weather = pd.concat([weather1,weather2,weather3,weather4],axis=0)"
   ]
  },
  {
   "cell_type": "code",
   "execution_count": 10,
   "metadata": {
    "collapsed": false
   },
   "outputs": [],
   "source": [
    "#dateの変換\n",
    "weather['PDT'] = weather['PDT'].apply(lambda x:pd.to_datetime(x))"
   ]
  },
  {
   "cell_type": "code",
   "execution_count": 11,
   "metadata": {
    "collapsed": false
   },
   "outputs": [],
   "source": [
    "weather_SF = weather[weather.Zip==95113]"
   ]
  },
  {
   "cell_type": "markdown",
   "metadata": {},
   "source": [
    "### status"
   ]
  },
  {
   "cell_type": "code",
   "execution_count": 12,
   "metadata": {
    "collapsed": true
   },
   "outputs": [],
   "source": [
    "status1 = pd.read_csv('/home/kyohei/bike_share/data_split_2013/San Francisco_station_status_stid50.csv')\n",
    "status2 = pd.read_csv('/home/kyohei/bike_share/data_split_2014/San Francisco_station_status_stid50.csv')\n",
    "status3 = pd.read_csv('/home/kyohei/bike_share/data_split_2015/San Francisco_station_status_stid50.csv')"
   ]
  },
  {
   "cell_type": "code",
   "execution_count": 13,
   "metadata": {
    "collapsed": true
   },
   "outputs": [],
   "source": [
    "status = pd.concat([status1,status2,status3],axis=0)"
   ]
  },
  {
   "cell_type": "code",
   "execution_count": 14,
   "metadata": {
    "collapsed": false
   },
   "outputs": [],
   "source": [
    "#datetime\n",
    "status['time'] = status['time'].apply(lambda x:pd.to_datetime(x))\n",
    "\n",
    "#時間情報\n",
    "status['time_hour_minute'] = status['time'].apply(lambda x:datetime.time(x.time().hour,x.time().minute))"
   ]
  },
  {
   "cell_type": "code",
   "execution_count": 15,
   "metadata": {
    "collapsed": false
   },
   "outputs": [],
   "source": [
    "status = status.reset_index()"
   ]
  },
  {
   "cell_type": "code",
   "execution_count": 16,
   "metadata": {
    "collapsed": false
   },
   "outputs": [
    {
     "data": {
      "text/html": [
       "<div>\n",
       "<table border=\"1\" class=\"dataframe\">\n",
       "  <thead>\n",
       "    <tr style=\"text-align: right;\">\n",
       "      <th></th>\n",
       "      <th>index</th>\n",
       "      <th>Unnamed: 0</th>\n",
       "      <th>station_id</th>\n",
       "      <th>bikes_available</th>\n",
       "      <th>docks_available</th>\n",
       "      <th>time</th>\n",
       "      <th>time_hour_minute</th>\n",
       "    </tr>\n",
       "  </thead>\n",
       "  <tbody>\n",
       "    <tr>\n",
       "      <th>0</th>\n",
       "      <td>0</td>\n",
       "      <td>9809414</td>\n",
       "      <td>50</td>\n",
       "      <td>7</td>\n",
       "      <td>16</td>\n",
       "      <td>2013-08-29 12:06:01</td>\n",
       "      <td>12:06:00</td>\n",
       "    </tr>\n",
       "    <tr>\n",
       "      <th>1</th>\n",
       "      <td>1</td>\n",
       "      <td>9809415</td>\n",
       "      <td>50</td>\n",
       "      <td>7</td>\n",
       "      <td>16</td>\n",
       "      <td>2013-08-29 12:07:01</td>\n",
       "      <td>12:07:00</td>\n",
       "    </tr>\n",
       "    <tr>\n",
       "      <th>2</th>\n",
       "      <td>2</td>\n",
       "      <td>9809416</td>\n",
       "      <td>50</td>\n",
       "      <td>7</td>\n",
       "      <td>16</td>\n",
       "      <td>2013-08-29 12:08:01</td>\n",
       "      <td>12:08:00</td>\n",
       "    </tr>\n",
       "    <tr>\n",
       "      <th>3</th>\n",
       "      <td>3</td>\n",
       "      <td>9809417</td>\n",
       "      <td>50</td>\n",
       "      <td>7</td>\n",
       "      <td>16</td>\n",
       "      <td>2013-08-29 12:09:01</td>\n",
       "      <td>12:09:00</td>\n",
       "    </tr>\n",
       "    <tr>\n",
       "      <th>4</th>\n",
       "      <td>4</td>\n",
       "      <td>9809418</td>\n",
       "      <td>50</td>\n",
       "      <td>7</td>\n",
       "      <td>16</td>\n",
       "      <td>2013-08-29 12:10:01</td>\n",
       "      <td>12:10:00</td>\n",
       "    </tr>\n",
       "  </tbody>\n",
       "</table>\n",
       "</div>"
      ],
      "text/plain": [
       "   index  Unnamed: 0  station_id  bikes_available  docks_available  \\\n",
       "0      0     9809414          50                7               16   \n",
       "1      1     9809415          50                7               16   \n",
       "2      2     9809416          50                7               16   \n",
       "3      3     9809417          50                7               16   \n",
       "4      4     9809418          50                7               16   \n",
       "\n",
       "                 time time_hour_minute  \n",
       "0 2013-08-29 12:06:01         12:06:00  \n",
       "1 2013-08-29 12:07:01         12:07:00  \n",
       "2 2013-08-29 12:08:01         12:08:00  \n",
       "3 2013-08-29 12:09:01         12:09:00  \n",
       "4 2013-08-29 12:10:01         12:10:00  "
      ]
     },
     "execution_count": 16,
     "metadata": {},
     "output_type": "execute_result"
    }
   ],
   "source": [
    "status.head()"
   ]
  },
  {
   "cell_type": "code",
   "execution_count": 17,
   "metadata": {
    "collapsed": false
   },
   "outputs": [],
   "source": [
    "status['time'] = status['time'].apply(lambda x:datetime.datetime(x.year,x.month,x.day,x.hour,x.minute))"
   ]
  },
  {
   "cell_type": "markdown",
   "metadata": {},
   "source": [
    "### 統合前のデータ準備"
   ]
  },
  {
   "cell_type": "code",
   "execution_count": 18,
   "metadata": {
    "collapsed": false
   },
   "outputs": [],
   "source": [
    "#目的変数の作成\n",
    "target = pd.DataFrame(trip_hbp_start.groupby('Start Date').size()).reset_index()\n",
    "\n",
    "#columnの変換\n",
    "target.rename(columns={0:'Count'},inplace=True)"
   ]
  },
  {
   "cell_type": "code",
   "execution_count": 19,
   "metadata": {
    "collapsed": false
   },
   "outputs": [
    {
     "name": "stderr",
     "output_type": "stream",
     "text": [
      "/home/kyohei/anaconda2/lib/python2.7/site-packages/ipykernel/__main__.py:4: SettingWithCopyWarning: \n",
      "A value is trying to be set on a copy of a slice from a DataFrame.\n",
      "Try using .loc[row_indexer,col_indexer] = value instead\n",
      "\n",
      "See the caveats in the documentation: http://pandas.pydata.org/pandas-docs/stable/indexing.html#indexing-view-versus-copy\n"
     ]
    }
   ],
   "source": [
    "#weather\n",
    "T_mapping = {'T':0}\n",
    "f = lambda x:T_mapping.get(x,x)\n",
    "weather_SF['PrecipitationIn'] = weather_SF.PrecipitationIn.map(f).astype(float)"
   ]
  },
  {
   "cell_type": "code",
   "execution_count": 20,
   "metadata": {
    "collapsed": false
   },
   "outputs": [],
   "source": [
    "#weather\n",
    "event_dummy = pd.get_dummies(weather_SF.Events)\n",
    "\n",
    "weather_SF_mod = pd.concat([weather_SF,event_dummy],axis=1)\n",
    "\n",
    "weather_SF_sub = weather_SF_mod.drop(['Events','Max Gust SpeedMPH','Zip'],axis=1)\n",
    "\n",
    "#前日データ\n",
    "weather_SF_sub_yesterday = pd.concat([weather_SF_sub[['PDT']],weather_SF_sub.shift(1).drop(['PDT'],axis=1)],axis=1).dropna()"
   ]
  },
  {
   "cell_type": "code",
   "execution_count": 79,
   "metadata": {
    "collapsed": false
   },
   "outputs": [
    {
     "data": {
      "text/html": [
       "<div>\n",
       "<table border=\"1\" class=\"dataframe\">\n",
       "  <thead>\n",
       "    <tr style=\"text-align: right;\">\n",
       "      <th></th>\n",
       "      <th>PDT</th>\n",
       "      <th>Max TemperatureF</th>\n",
       "      <th>Mean TemperatureF</th>\n",
       "      <th>Min TemperatureF</th>\n",
       "      <th>Max Dew PointF</th>\n",
       "      <th>MeanDew PointF</th>\n",
       "      <th>Min DewpointF</th>\n",
       "      <th>Max Humidity</th>\n",
       "      <th>Mean Humidity</th>\n",
       "      <th>Min Humidity</th>\n",
       "      <th>...</th>\n",
       "      <th>Min VisibilityMiles</th>\n",
       "      <th>Max Wind SpeedMPH</th>\n",
       "      <th>Mean Wind SpeedMPH</th>\n",
       "      <th>PrecipitationIn</th>\n",
       "      <th>CloudCover</th>\n",
       "      <th>WindDirDegrees</th>\n",
       "      <th>Fog</th>\n",
       "      <th>Fog-Rain</th>\n",
       "      <th>Rain</th>\n",
       "      <th>Rain-Thunderstorm</th>\n",
       "    </tr>\n",
       "  </thead>\n",
       "  <tbody>\n",
       "    <tr>\n",
       "      <th>737</th>\n",
       "      <td>2013-08-30</td>\n",
       "      <td>81.0</td>\n",
       "      <td>72.0</td>\n",
       "      <td>63.0</td>\n",
       "      <td>62.0</td>\n",
       "      <td>61.0</td>\n",
       "      <td>59.0</td>\n",
       "      <td>87.0</td>\n",
       "      <td>69.0</td>\n",
       "      <td>51.0</td>\n",
       "      <td>...</td>\n",
       "      <td>10.0</td>\n",
       "      <td>16.0</td>\n",
       "      <td>7.0</td>\n",
       "      <td>0.0</td>\n",
       "      <td>4.0</td>\n",
       "      <td>320.0</td>\n",
       "      <td>0.0</td>\n",
       "      <td>0.0</td>\n",
       "      <td>0.0</td>\n",
       "      <td>0.0</td>\n",
       "    </tr>\n",
       "    <tr>\n",
       "      <th>738</th>\n",
       "      <td>2013-08-31</td>\n",
       "      <td>88.0</td>\n",
       "      <td>76.0</td>\n",
       "      <td>63.0</td>\n",
       "      <td>63.0</td>\n",
       "      <td>60.0</td>\n",
       "      <td>55.0</td>\n",
       "      <td>93.0</td>\n",
       "      <td>65.0</td>\n",
       "      <td>37.0</td>\n",
       "      <td>...</td>\n",
       "      <td>10.0</td>\n",
       "      <td>18.0</td>\n",
       "      <td>5.0</td>\n",
       "      <td>0.0</td>\n",
       "      <td>2.0</td>\n",
       "      <td>316.0</td>\n",
       "      <td>0.0</td>\n",
       "      <td>0.0</td>\n",
       "      <td>0.0</td>\n",
       "      <td>0.0</td>\n",
       "    </tr>\n",
       "    <tr>\n",
       "      <th>739</th>\n",
       "      <td>2013-09-01</td>\n",
       "      <td>80.0</td>\n",
       "      <td>71.0</td>\n",
       "      <td>62.0</td>\n",
       "      <td>59.0</td>\n",
       "      <td>57.0</td>\n",
       "      <td>54.0</td>\n",
       "      <td>90.0</td>\n",
       "      <td>66.0</td>\n",
       "      <td>42.0</td>\n",
       "      <td>...</td>\n",
       "      <td>10.0</td>\n",
       "      <td>18.0</td>\n",
       "      <td>8.0</td>\n",
       "      <td>0.0</td>\n",
       "      <td>0.0</td>\n",
       "      <td>309.0</td>\n",
       "      <td>0.0</td>\n",
       "      <td>0.0</td>\n",
       "      <td>0.0</td>\n",
       "      <td>0.0</td>\n",
       "    </tr>\n",
       "    <tr>\n",
       "      <th>740</th>\n",
       "      <td>2013-09-02</td>\n",
       "      <td>81.0</td>\n",
       "      <td>72.0</td>\n",
       "      <td>62.0</td>\n",
       "      <td>61.0</td>\n",
       "      <td>57.0</td>\n",
       "      <td>51.0</td>\n",
       "      <td>84.0</td>\n",
       "      <td>62.0</td>\n",
       "      <td>39.0</td>\n",
       "      <td>...</td>\n",
       "      <td>10.0</td>\n",
       "      <td>20.0</td>\n",
       "      <td>7.0</td>\n",
       "      <td>0.0</td>\n",
       "      <td>2.0</td>\n",
       "      <td>308.0</td>\n",
       "      <td>0.0</td>\n",
       "      <td>0.0</td>\n",
       "      <td>0.0</td>\n",
       "      <td>0.0</td>\n",
       "    </tr>\n",
       "    <tr>\n",
       "      <th>741</th>\n",
       "      <td>2013-09-03</td>\n",
       "      <td>79.0</td>\n",
       "      <td>73.0</td>\n",
       "      <td>66.0</td>\n",
       "      <td>62.0</td>\n",
       "      <td>61.0</td>\n",
       "      <td>59.0</td>\n",
       "      <td>81.0</td>\n",
       "      <td>68.0</td>\n",
       "      <td>54.0</td>\n",
       "      <td>...</td>\n",
       "      <td>10.0</td>\n",
       "      <td>21.0</td>\n",
       "      <td>8.0</td>\n",
       "      <td>0.0</td>\n",
       "      <td>5.0</td>\n",
       "      <td>315.0</td>\n",
       "      <td>0.0</td>\n",
       "      <td>0.0</td>\n",
       "      <td>1.0</td>\n",
       "      <td>0.0</td>\n",
       "    </tr>\n",
       "  </tbody>\n",
       "</table>\n",
       "<p>5 rows × 25 columns</p>\n",
       "</div>"
      ],
      "text/plain": [
       "           PDT  Max TemperatureF  Mean TemperatureF  Min TemperatureF  \\\n",
       "737 2013-08-30              81.0               72.0              63.0   \n",
       "738 2013-08-31              88.0               76.0              63.0   \n",
       "739 2013-09-01              80.0               71.0              62.0   \n",
       "740 2013-09-02              81.0               72.0              62.0   \n",
       "741 2013-09-03              79.0               73.0              66.0   \n",
       "\n",
       "     Max Dew PointF  MeanDew PointF  Min DewpointF  Max Humidity  \\\n",
       "737            62.0            61.0           59.0          87.0   \n",
       "738            63.0            60.0           55.0          93.0   \n",
       "739            59.0            57.0           54.0          90.0   \n",
       "740            61.0            57.0           51.0          84.0   \n",
       "741            62.0            61.0           59.0          81.0   \n",
       "\n",
       "     Mean Humidity  Min Humidity        ...          Min VisibilityMiles  \\\n",
       "737           69.0          51.0        ...                         10.0   \n",
       "738           65.0          37.0        ...                         10.0   \n",
       "739           66.0          42.0        ...                         10.0   \n",
       "740           62.0          39.0        ...                         10.0   \n",
       "741           68.0          54.0        ...                         10.0   \n",
       "\n",
       "     Max Wind SpeedMPH  Mean Wind SpeedMPH  PrecipitationIn  CloudCover  \\\n",
       "737               16.0                 7.0              0.0         4.0   \n",
       "738               18.0                 5.0              0.0         2.0   \n",
       "739               18.0                 8.0              0.0         0.0   \n",
       "740               20.0                 7.0              0.0         2.0   \n",
       "741               21.0                 8.0              0.0         5.0   \n",
       "\n",
       "     WindDirDegrees  Fog  Fog-Rain  Rain  Rain-Thunderstorm  \n",
       "737           320.0  0.0       0.0   0.0                0.0  \n",
       "738           316.0  0.0       0.0   0.0                0.0  \n",
       "739           309.0  0.0       0.0   0.0                0.0  \n",
       "740           308.0  0.0       0.0   0.0                0.0  \n",
       "741           315.0  0.0       0.0   1.0                0.0  \n",
       "\n",
       "[5 rows x 25 columns]"
      ]
     },
     "execution_count": 79,
     "metadata": {},
     "output_type": "execute_result"
    }
   ],
   "source": [
    "weather_SF_sub_yesterday.head()"
   ]
  },
  {
   "cell_type": "code",
   "execution_count": 21,
   "metadata": {
    "collapsed": false,
    "scrolled": true
   },
   "outputs": [
    {
     "name": "stderr",
     "output_type": "stream",
     "text": [
      "/home/kyohei/anaconda2/lib/python2.7/site-packages/ipykernel/__main__.py:5: SettingWithCopyWarning: \n",
      "A value is trying to be set on a copy of a slice from a DataFrame.\n",
      "Try using .loc[row_indexer,col_indexer] = value instead\n",
      "\n",
      "See the caveats in the documentation: http://pandas.pydata.org/pandas-docs/stable/indexing.html#indexing-view-versus-copy\n",
      "/home/kyohei/anaconda2/lib/python2.7/site-packages/ipykernel/__main__.py:8: SettingWithCopyWarning: \n",
      "A value is trying to be set on a copy of a slice from a DataFrame.\n",
      "Try using .loc[row_indexer,col_indexer] = value instead\n",
      "\n",
      "See the caveats in the documentation: http://pandas.pydata.org/pandas-docs/stable/indexing.html#indexing-view-versus-copy\n"
     ]
    }
   ],
   "source": [
    "#Status\n",
    "status_sub = status[['bikes_available','docks_available','time','time_hour_minute']]\n",
    "\n",
    "#年\n",
    "status_sub['year'] = status_sub['time'].apply(lambda x:x.year)\n",
    "\n",
    "#月\n",
    "status_sub['month'] = status_sub['time'].apply(lambda x:x.month)\n",
    "\n",
    "#曜日\n",
    "status_sub['dayofweek'] = status_sub['time'].apply(lambda x:x.dayofweek)\n",
    "weekday = {0:'monday',1:'tuseday',2:'wednseday',3:'thursday',4:'friday',5:'saturday',6:'sunday'}\n",
    "status_sub['dayofweek'] = status_sub['dayofweek'].map(weekday)\n",
    "\n",
    "#時\n",
    "status_sub['hour'] = status_sub['time'].apply(lambda x:x.hour)\n",
    "\n",
    "#日付\n",
    "status_sub['day'] = status['time'].apply(lambda x:pd.to_datetime(x.date()))"
   ]
  },
  {
   "cell_type": "code",
   "execution_count": 50,
   "metadata": {
    "collapsed": false
   },
   "outputs": [],
   "source": [
    "#dummy変数づくり\n",
    "#年\n",
    "dummy_year = pd.get_dummies(status_sub.year,prefix='year')\n",
    "\n",
    "#時刻\n",
    "#dummy_time = pd.get_dummies(status_sub.time_hour_minute)\n",
    "dummy_hour = pd.get_dummies(status_sub.hour,prefix='time')\n",
    "\n",
    "#月\n",
    "dummy_month = pd.get_dummies(status_sub.month,prefix='month')\n",
    "\n",
    "#曜日\n",
    "dummy_weekday = pd.get_dummies(status_sub.dayofweek)\n"
   ]
  },
  {
   "cell_type": "code",
   "execution_count": 65,
   "metadata": {
    "collapsed": false
   },
   "outputs": [],
   "source": [
    "#dummyの統合\n",
    "status_dummies = pd.concat([dummy_year,dummy_hour,dummy_month,dummy_weekday],axis=1)"
   ]
  },
  {
   "cell_type": "code",
   "execution_count": 88,
   "metadata": {
    "collapsed": false
   },
   "outputs": [],
   "source": [
    "#元データと統合\n",
    "status_train = pd.concat([status_sub[['bikes_available','docks_available','time','day']],status_dummies],axis=1)"
   ]
  },
  {
   "cell_type": "markdown",
   "metadata": {},
   "source": [
    "### 天気、ステータス、目的変数の統合"
   ]
  },
  {
   "cell_type": "code",
   "execution_count": 89,
   "metadata": {
    "collapsed": true
   },
   "outputs": [],
   "source": [
    "data = status_train.merge(weather_SF_sub_yesterday,left_on='day',right_on='PDT',how='inner')"
   ]
  },
  {
   "cell_type": "code",
   "execution_count": 96,
   "metadata": {
    "collapsed": true
   },
   "outputs": [],
   "source": [
    "data_comp = data.merge(target,left_on='time',right_on='Start Date',how='left')"
   ]
  },
  {
   "cell_type": "code",
   "execution_count": 99,
   "metadata": {
    "collapsed": false
   },
   "outputs": [],
   "source": [
    "data_comp_sub = data_comp.drop(['time','day','PDT','Start Date'],axis=1)"
   ]
  },
  {
   "cell_type": "code",
   "execution_count": 104,
   "metadata": {
    "collapsed": false
   },
   "outputs": [],
   "source": [
    "data_comp_sub_drop_dup = data_comp_sub.drop_duplicates()"
   ]
  },
  {
   "cell_type": "code",
   "execution_count": 105,
   "metadata": {
    "collapsed": false
   },
   "outputs": [
    {
     "name": "stderr",
     "output_type": "stream",
     "text": [
      "/home/kyohei/anaconda2/lib/python2.7/site-packages/pandas/core/frame.py:2762: SettingWithCopyWarning: \n",
      "A value is trying to be set on a copy of a slice from a DataFrame\n",
      "\n",
      "See the caveats in the documentation: http://pandas.pydata.org/pandas-docs/stable/indexing.html#indexing-view-versus-copy\n",
      "  downcast=downcast, **kwargs)\n"
     ]
    }
   ],
   "source": [
    "data_comp_sub_drop_dup.fillna(0,inplace=True)"
   ]
  },
  {
   "cell_type": "code",
   "execution_count": 162,
   "metadata": {
    "collapsed": true
   },
   "outputs": [],
   "source": [
    "simple_feature = ['bikes_available','time_0','time_1','time_2','time_3','time_4','time_5','time_6','time_7','time_8','time_9'\n",
    "                 ,'time_10','time_11','time_12','time_13','time_14','time_15','time_16','time_17','time_18','time_19','time_20'\n",
    "                  ,'time_21','time_22','time_23','monday','friday','saturday','sunday','thursday','tuseday','wednseday'\n",
    "                 ,'Fog','Fog-Rain','Rain','Rain-Thunderstorm']"
   ]
  },
  {
   "cell_type": "code",
   "execution_count": 172,
   "metadata": {
    "collapsed": false
   },
   "outputs": [],
   "source": [
    "y = data_comp_sub_drop_dup['Count']\n",
    "X = data_comp_sub_drop_dup.drop('Count',axis=1)"
   ]
  },
  {
   "cell_type": "code",
   "execution_count": 173,
   "metadata": {
    "collapsed": false,
    "scrolled": true
   },
   "outputs": [
    {
     "name": "stdout",
     "output_type": "stream",
     "text": [
      "<class 'pandas.core.frame.DataFrame'>\n",
      "Int64Index: 121606 entries, 0 to 1558735\n",
      "Data columns (total 73 columns):\n",
      "bikes_available              121606 non-null int64\n",
      "docks_available              121606 non-null int64\n",
      "year_2013                    121606 non-null float64\n",
      "year_2014                    121606 non-null float64\n",
      "year_2015                    121606 non-null float64\n",
      "year_2016                    121606 non-null float64\n",
      "time_0                       121606 non-null float64\n",
      "time_1                       121606 non-null float64\n",
      "time_2                       121606 non-null float64\n",
      "time_3                       121606 non-null float64\n",
      "time_4                       121606 non-null float64\n",
      "time_5                       121606 non-null float64\n",
      "time_6                       121606 non-null float64\n",
      "time_7                       121606 non-null float64\n",
      "time_8                       121606 non-null float64\n",
      "time_9                       121606 non-null float64\n",
      "time_10                      121606 non-null float64\n",
      "time_11                      121606 non-null float64\n",
      "time_12                      121606 non-null float64\n",
      "time_13                      121606 non-null float64\n",
      "time_14                      121606 non-null float64\n",
      "time_15                      121606 non-null float64\n",
      "time_16                      121606 non-null float64\n",
      "time_17                      121606 non-null float64\n",
      "time_18                      121606 non-null float64\n",
      "time_19                      121606 non-null float64\n",
      "time_20                      121606 non-null float64\n",
      "time_21                      121606 non-null float64\n",
      "time_22                      121606 non-null float64\n",
      "time_23                      121606 non-null float64\n",
      "month_1                      121606 non-null float64\n",
      "month_2                      121606 non-null float64\n",
      "month_3                      121606 non-null float64\n",
      "month_4                      121606 non-null float64\n",
      "month_5                      121606 non-null float64\n",
      "month_6                      121606 non-null float64\n",
      "month_7                      121606 non-null float64\n",
      "month_8                      121606 non-null float64\n",
      "month_9                      121606 non-null float64\n",
      "month_10                     121606 non-null float64\n",
      "month_11                     121606 non-null float64\n",
      "month_12                     121606 non-null float64\n",
      "friday                       121606 non-null float64\n",
      "monday                       121606 non-null float64\n",
      "saturday                     121606 non-null float64\n",
      "sunday                       121606 non-null float64\n",
      "thursday                     121606 non-null float64\n",
      "tuseday                      121606 non-null float64\n",
      "wednseday                    121606 non-null float64\n",
      "Max TemperatureF             121606 non-null float64\n",
      "Mean TemperatureF            121606 non-null float64\n",
      "Min TemperatureF             121606 non-null float64\n",
      "Max Dew PointF               121606 non-null float64\n",
      "MeanDew PointF               121606 non-null float64\n",
      "Min DewpointF                121606 non-null float64\n",
      "Max Humidity                 121606 non-null float64\n",
      "Mean Humidity                121606 non-null float64\n",
      "Min Humidity                 121606 non-null float64\n",
      "Max Sea Level PressureIn     121606 non-null float64\n",
      "Mean Sea Level PressureIn    121606 non-null float64\n",
      "Min Sea Level PressureIn     121606 non-null float64\n",
      "Max VisibilityMiles          121606 non-null float64\n",
      "Mean VisibilityMiles         121606 non-null float64\n",
      "Min VisibilityMiles          121606 non-null float64\n",
      "Max Wind SpeedMPH            121606 non-null float64\n",
      "Mean Wind SpeedMPH           121606 non-null float64\n",
      "PrecipitationIn              121606 non-null float64\n",
      "CloudCover                   121606 non-null float64\n",
      "WindDirDegrees               121606 non-null float64\n",
      "Fog                          121606 non-null float64\n",
      "Fog-Rain                     121606 non-null float64\n",
      "Rain                         121606 non-null float64\n",
      "Rain-Thunderstorm            121606 non-null float64\n",
      "dtypes: float64(71), int64(2)\n",
      "memory usage: 68.7 MB\n"
     ]
    }
   ],
   "source": [
    "X.info()"
   ]
  },
  {
   "cell_type": "code",
   "execution_count": 174,
   "metadata": {
    "collapsed": true
   },
   "outputs": [],
   "source": [
    "from sklearn.cross_validation import train_test_split\n",
    "\n",
    "X_train,X_test,y_train,y_test = train_test_split(X,y,random_state=0)"
   ]
  },
  {
   "cell_type": "code",
   "execution_count": 177,
   "metadata": {
    "collapsed": true
   },
   "outputs": [],
   "source": [
    "from sklearn.preprocessing import StandardScaler\n",
    "\n",
    "std = StandardScaler()\n",
    "#std_columns = ['bikes_available','docks_available','Max TemperatureF','Mean TemperatureF','Min TemperatureF','Max Dew PointF',\n",
    "#'MeanDew PointF','Min DewpointF','Max Humidity','Mean Humidity','Min Humidity','Max Sea Level PressureIn',\n",
    "#'Mean Sea Level PressureIn','Min Sea Level PressureIn','Max Wind SpeedMPH','Mean Wind SpeedMPH','PrecipitationIn',\n",
    "#'CloudCover','WindDirDegrees']\n",
    "std.fit(X_train)\n",
    "X_train_std = std.transform(X_train)\n",
    "X_test_std = std.transform(X_test)"
   ]
  },
  {
   "cell_type": "code",
   "execution_count": 179,
   "metadata": {
    "collapsed": false
   },
   "outputs": [
    {
     "name": "stdout",
     "output_type": "stream",
     "text": [
      "LinearRegression train_socre:0.073\n",
      "LinearRegression test_score:0.077\n",
      "\n",
      "\n",
      "DecisionTreeRegressor train_socre:0.558\n",
      "DecisionTreeRegressor test_score:-1.222\n",
      "\n",
      "\n",
      "KNeighborsRegressor train_socre:0.210\n",
      "KNeighborsRegressor test_score:-0.154\n",
      "\n",
      "\n",
      "RandomForestRegressor train_socre:0.457\n",
      "RandomForestRegressor test_score:-0.588\n",
      "\n",
      "\n"
     ]
    }
   ],
   "source": [
    "from sklearn.linear_model import LinearRegression\n",
    "from sklearn.tree import DecisionTreeRegressor\n",
    "from sklearn.neighbors import KNeighborsRegressor\n",
    "from sklearn.ensemble import RandomForestRegressor\n",
    "\n",
    "models = [LinearRegression(),\n",
    "         DecisionTreeRegressor(),\n",
    "         KNeighborsRegressor(),\n",
    "         RandomForestRegressor()]\n",
    "\n",
    "\n",
    "for model in models:\n",
    "    model.fit(X_train_std,y_train)\n",
    "    print('%s train_socre:%.3f' %(model.__class__.__name__,model.score(X_train_std,y_train)))\n",
    "    print('%s test_score:%.3f' %(model.__class__.__name__,model.score(X_test_std,y_test)))\n",
    "    print('\\n')\n"
   ]
  },
  {
   "cell_type": "code",
   "execution_count": null,
   "metadata": {
    "collapsed": true
   },
   "outputs": [],
   "source": []
  }
 ],
 "metadata": {
  "anaconda-cloud": {},
  "kernelspec": {
   "display_name": "Python [conda root]",
   "language": "python",
   "name": "conda-root-py"
  },
  "language_info": {
   "codemirror_mode": {
    "name": "ipython",
    "version": 2
   },
   "file_extension": ".py",
   "mimetype": "text/x-python",
   "name": "python",
   "nbconvert_exporter": "python",
   "pygments_lexer": "ipython2",
   "version": "2.7.12"
  }
 },
 "nbformat": 4,
 "nbformat_minor": 1
}
