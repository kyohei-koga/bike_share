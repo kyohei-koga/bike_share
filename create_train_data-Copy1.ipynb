{
 "cells": [
  {
   "cell_type": "code",
   "execution_count": 1,
   "metadata": {
    "collapsed": true
   },
   "outputs": [],
   "source": [
    "import pandas as pd\n",
    "import numpy as np\n",
    "import matplotlib.pyplot as plt\n",
    "import seaborn as sns\n",
    "%matplotlib inline"
   ]
  },
  {
   "cell_type": "markdown",
   "metadata": {},
   "source": [
    "# Harry Bridges Plaza (Ferry Building)の需要予測"
   ]
  },
  {
   "cell_type": "code",
   "execution_count": 2,
   "metadata": {
    "collapsed": true
   },
   "outputs": [],
   "source": [
    "trip1 = pd.read_csv('/home/kyohei/bike_share_data/201402_babs_open_data/201402_trip_data.csv')\n",
    "trip2 = pd.read_csv('/home/kyohei/bike_share_data/201408_babs_open_data/201408_trip_data.csv')\n",
    "trip3 = pd.read_csv('/home/kyohei/bike_share_data/201508_trip_data.csv')\n",
    "trip4 = pd.read_csv('/home/kyohei/bike_share_data/201608_trip_data.csv')"
   ]
  },
  {
   "cell_type": "code",
   "execution_count": 3,
   "metadata": {
    "collapsed": false
   },
   "outputs": [],
   "source": [
    "#trip1のcolumns名の変更\n",
    "trip1.rename(columns={'Subscription Type':'Subscriber Type'},inplace=True)"
   ]
  },
  {
   "cell_type": "code",
   "execution_count": 4,
   "metadata": {
    "collapsed": false
   },
   "outputs": [],
   "source": [
    "#tripdataの結合\n",
    "trip = pd.concat([trip1,trip2,trip3,trip4],axis=0,ignore_index=True)"
   ]
  },
  {
   "cell_type": "code",
   "execution_count": 5,
   "metadata": {
    "collapsed": false
   },
   "outputs": [
    {
     "name": "stderr",
     "output_type": "stream",
     "text": [
      "/home/kyohei/anaconda2/lib/python2.7/site-packages/ipykernel/__main__.py:5: SettingWithCopyWarning: \n",
      "A value is trying to be set on a copy of a slice from a DataFrame.\n",
      "Try using .loc[row_indexer,col_indexer] = value instead\n",
      "\n",
      "See the caveats in the documentation: http://pandas.pydata.org/pandas-docs/stable/indexing.html#indexing-view-versus-copy\n",
      "/home/kyohei/anaconda2/lib/python2.7/site-packages/ipykernel/__main__.py:8: SettingWithCopyWarning: \n",
      "A value is trying to be set on a copy of a slice from a DataFrame.\n",
      "Try using .loc[row_indexer,col_indexer] = value instead\n",
      "\n",
      "See the caveats in the documentation: http://pandas.pydata.org/pandas-docs/stable/indexing.html#indexing-view-versus-copy\n",
      "/home/kyohei/anaconda2/lib/python2.7/site-packages/ipykernel/__main__.py:11: SettingWithCopyWarning: \n",
      "A value is trying to be set on a copy of a slice from a DataFrame.\n",
      "Try using .loc[row_indexer,col_indexer] = value instead\n",
      "\n",
      "See the caveats in the documentation: http://pandas.pydata.org/pandas-docs/stable/indexing.html#indexing-view-versus-copy\n",
      "/home/kyohei/anaconda2/lib/python2.7/site-packages/ipykernel/__main__.py:14: SettingWithCopyWarning: \n",
      "A value is trying to be set on a copy of a slice from a DataFrame.\n",
      "Try using .loc[row_indexer,col_indexer] = value instead\n",
      "\n",
      "See the caveats in the documentation: http://pandas.pydata.org/pandas-docs/stable/indexing.html#indexing-view-versus-copy\n",
      "/home/kyohei/anaconda2/lib/python2.7/site-packages/ipykernel/__main__.py:18: SettingWithCopyWarning: \n",
      "A value is trying to be set on a copy of a slice from a DataFrame.\n",
      "Try using .loc[row_indexer,col_indexer] = value instead\n",
      "\n",
      "See the caveats in the documentation: http://pandas.pydata.org/pandas-docs/stable/indexing.html#indexing-view-versus-copy\n"
     ]
    }
   ],
   "source": [
    "#tripのスタートターミナルの限定\n",
    "trip_hbp_start = trip[trip['Start Terminal']==50]\n",
    "\n",
    "#datetimeに変換\n",
    "trip_hbp_start['Start Date'] = trip_hbp_start['Start Date'].apply(lambda x:pd.to_datetime(x))\n",
    "\n",
    "#年\n",
    "trip_hbp_start['start_year'] = trip_hbp_start['Start Date'].apply(lambda x:x.date().year)\n",
    "\n",
    "#月\n",
    "trip_hbp_start['start_month'] = trip_hbp_start['Start Date'].apply(lambda x:x.date().month)\n",
    "\n",
    "#曜日\n",
    "trip_hbp_start['start_dayofweek'] = trip_hbp_start['Start Date'].apply(lambda x:x.dayofweek)\n",
    "\n",
    "import datetime\n",
    "#時刻\n",
    "trip_hbp_start['start_time'] = trip_hbp_start['Start Date'].apply(lambda x:x.time())\n",
    "\n",
    "#hour\n",
    "trip_hbp_start['hour'] = trip_hbp_start['Start Date'].apply(lambda x:x.hour)\n",
    "\n",
    "#時刻hour\n",
    "trip_hbp_start['start_time_hour'] = trip_hbp_start['Start Date'].apply(lambda x:datetime.datetime(x.year,x.month,x.day,x.hour))"
   ]
  },
  {
   "cell_type": "markdown",
   "metadata": {},
   "source": [
    "### weather"
   ]
  },
  {
   "cell_type": "code",
   "execution_count": 6,
   "metadata": {
    "collapsed": true
   },
   "outputs": [],
   "source": [
    "weather1 = pd.read_csv('/home/kyohei/bike_share_data/201402_babs_open_data/201402_weather_data.csv')\n",
    "weather2 = pd.read_csv('/home/kyohei/bike_share_data/201408_babs_open_data/201408_weather_data.csv')\n",
    "weather3 = pd.read_csv('/home/kyohei/bike_share_data/201508_weather_data.csv')\n",
    "weather4 = pd.read_csv('/home/kyohei/bike_share_data/201608_weather_data.csv')"
   ]
  },
  {
   "cell_type": "code",
   "execution_count": 7,
   "metadata": {
    "collapsed": false
   },
   "outputs": [],
   "source": [
    "#columnsの修正\n",
    "weather2.columns = weather2.columns.str.strip()\n",
    "weather3.columns = weather3.columns.str.strip()\n",
    "weather4.columns = weather4.columns.str.strip()\n",
    "weather1.columns = weather2.columns\n",
    "weather4.rename(columns={'ZIP':'Zip'},inplace=True)"
   ]
  },
  {
   "cell_type": "code",
   "execution_count": 8,
   "metadata": {
    "collapsed": false
   },
   "outputs": [],
   "source": [
    "#weatherの統合\n",
    "weather = pd.concat([weather1,weather2,weather3,weather4],axis=0)"
   ]
  },
  {
   "cell_type": "code",
   "execution_count": 9,
   "metadata": {
    "collapsed": false
   },
   "outputs": [],
   "source": [
    "#dateの変換\n",
    "weather['PDT'] = weather['PDT'].apply(lambda x:pd.to_datetime(x))"
   ]
  },
  {
   "cell_type": "code",
   "execution_count": 10,
   "metadata": {
    "collapsed": false
   },
   "outputs": [],
   "source": [
    "weather_SF = weather[weather.Zip==95113]"
   ]
  },
  {
   "cell_type": "markdown",
   "metadata": {},
   "source": [
    "### status"
   ]
  },
  {
   "cell_type": "code",
   "execution_count": 11,
   "metadata": {
    "collapsed": true
   },
   "outputs": [],
   "source": [
    "status1 = pd.read_csv('/home/kyohei/bike_share/data_split_2013/San Francisco_station_status_stid50.csv')\n",
    "status2 = pd.read_csv('/home/kyohei/bike_share/data_split_2014/San Francisco_station_status_stid50.csv')\n",
    "status3 = pd.read_csv('/home/kyohei/bike_share/data_split_2015/San Francisco_station_status_stid50.csv')"
   ]
  },
  {
   "cell_type": "code",
   "execution_count": 12,
   "metadata": {
    "collapsed": true
   },
   "outputs": [],
   "source": [
    "status = pd.concat([status1,status2,status3],axis=0)"
   ]
  },
  {
   "cell_type": "code",
   "execution_count": 13,
   "metadata": {
    "collapsed": false
   },
   "outputs": [],
   "source": [
    "#datetime\n",
    "status['time'] = status['time'].apply(lambda x:pd.to_datetime(x))\n",
    "\n",
    "#時間情報\n",
    "status['time_hour_minute'] = status['time'].apply(lambda x:datetime.time(x.time().hour,x.time().minute))"
   ]
  },
  {
   "cell_type": "code",
   "execution_count": 14,
   "metadata": {
    "collapsed": false
   },
   "outputs": [],
   "source": [
    "status = status.reset_index()"
   ]
  },
  {
   "cell_type": "code",
   "execution_count": 15,
   "metadata": {
    "collapsed": false
   },
   "outputs": [
    {
     "data": {
      "text/html": [
       "<div>\n",
       "<table border=\"1\" class=\"dataframe\">\n",
       "  <thead>\n",
       "    <tr style=\"text-align: right;\">\n",
       "      <th></th>\n",
       "      <th>index</th>\n",
       "      <th>Unnamed: 0</th>\n",
       "      <th>station_id</th>\n",
       "      <th>bikes_available</th>\n",
       "      <th>docks_available</th>\n",
       "      <th>time</th>\n",
       "      <th>time_hour_minute</th>\n",
       "    </tr>\n",
       "  </thead>\n",
       "  <tbody>\n",
       "    <tr>\n",
       "      <th>0</th>\n",
       "      <td>0</td>\n",
       "      <td>9809414</td>\n",
       "      <td>50</td>\n",
       "      <td>7</td>\n",
       "      <td>16</td>\n",
       "      <td>2013-08-29 12:06:01</td>\n",
       "      <td>12:06:00</td>\n",
       "    </tr>\n",
       "    <tr>\n",
       "      <th>1</th>\n",
       "      <td>1</td>\n",
       "      <td>9809415</td>\n",
       "      <td>50</td>\n",
       "      <td>7</td>\n",
       "      <td>16</td>\n",
       "      <td>2013-08-29 12:07:01</td>\n",
       "      <td>12:07:00</td>\n",
       "    </tr>\n",
       "    <tr>\n",
       "      <th>2</th>\n",
       "      <td>2</td>\n",
       "      <td>9809416</td>\n",
       "      <td>50</td>\n",
       "      <td>7</td>\n",
       "      <td>16</td>\n",
       "      <td>2013-08-29 12:08:01</td>\n",
       "      <td>12:08:00</td>\n",
       "    </tr>\n",
       "    <tr>\n",
       "      <th>3</th>\n",
       "      <td>3</td>\n",
       "      <td>9809417</td>\n",
       "      <td>50</td>\n",
       "      <td>7</td>\n",
       "      <td>16</td>\n",
       "      <td>2013-08-29 12:09:01</td>\n",
       "      <td>12:09:00</td>\n",
       "    </tr>\n",
       "    <tr>\n",
       "      <th>4</th>\n",
       "      <td>4</td>\n",
       "      <td>9809418</td>\n",
       "      <td>50</td>\n",
       "      <td>7</td>\n",
       "      <td>16</td>\n",
       "      <td>2013-08-29 12:10:01</td>\n",
       "      <td>12:10:00</td>\n",
       "    </tr>\n",
       "  </tbody>\n",
       "</table>\n",
       "</div>"
      ],
      "text/plain": [
       "   index  Unnamed: 0  station_id  bikes_available  docks_available  \\\n",
       "0      0     9809414          50                7               16   \n",
       "1      1     9809415          50                7               16   \n",
       "2      2     9809416          50                7               16   \n",
       "3      3     9809417          50                7               16   \n",
       "4      4     9809418          50                7               16   \n",
       "\n",
       "                 time time_hour_minute  \n",
       "0 2013-08-29 12:06:01         12:06:00  \n",
       "1 2013-08-29 12:07:01         12:07:00  \n",
       "2 2013-08-29 12:08:01         12:08:00  \n",
       "3 2013-08-29 12:09:01         12:09:00  \n",
       "4 2013-08-29 12:10:01         12:10:00  "
      ]
     },
     "execution_count": 15,
     "metadata": {},
     "output_type": "execute_result"
    }
   ],
   "source": [
    "status.head()"
   ]
  },
  {
   "cell_type": "code",
   "execution_count": 16,
   "metadata": {
    "collapsed": false
   },
   "outputs": [],
   "source": [
    "status['time'] = status['time'].apply(lambda x:datetime.datetime(x.year,x.month,x.day,x.hour,x.minute))"
   ]
  },
  {
   "cell_type": "markdown",
   "metadata": {},
   "source": [
    "### 統合前のデータ準備"
   ]
  },
  {
   "cell_type": "code",
   "execution_count": 76,
   "metadata": {
    "collapsed": false
   },
   "outputs": [],
   "source": [
    "#目的変数の作成\n",
    "target = pd.DataFrame(trip_hbp_start.groupby('start_time_hour').size()).reset_index()\n",
    "\n",
    "#columnの変換\n",
    "target.rename(columns={0:'Count'},inplace=True)"
   ]
  },
  {
   "cell_type": "code",
   "execution_count": 77,
   "metadata": {
    "collapsed": false
   },
   "outputs": [
    {
     "data": {
      "text/html": [
       "<div>\n",
       "<table border=\"1\" class=\"dataframe\">\n",
       "  <thead>\n",
       "    <tr style=\"text-align: right;\">\n",
       "      <th></th>\n",
       "      <th>start_time_hour</th>\n",
       "      <th>Count</th>\n",
       "    </tr>\n",
       "  </thead>\n",
       "  <tbody>\n",
       "    <tr>\n",
       "      <th>0</th>\n",
       "      <td>2013-08-29 11:00:00</td>\n",
       "      <td>4</td>\n",
       "    </tr>\n",
       "    <tr>\n",
       "      <th>1</th>\n",
       "      <td>2013-08-29 12:00:00</td>\n",
       "      <td>10</td>\n",
       "    </tr>\n",
       "    <tr>\n",
       "      <th>2</th>\n",
       "      <td>2013-08-29 13:00:00</td>\n",
       "      <td>3</td>\n",
       "    </tr>\n",
       "    <tr>\n",
       "      <th>3</th>\n",
       "      <td>2013-08-29 14:00:00</td>\n",
       "      <td>2</td>\n",
       "    </tr>\n",
       "    <tr>\n",
       "      <th>4</th>\n",
       "      <td>2013-08-29 15:00:00</td>\n",
       "      <td>4</td>\n",
       "    </tr>\n",
       "  </tbody>\n",
       "</table>\n",
       "</div>"
      ],
      "text/plain": [
       "      start_time_hour  Count\n",
       "0 2013-08-29 11:00:00      4\n",
       "1 2013-08-29 12:00:00     10\n",
       "2 2013-08-29 13:00:00      3\n",
       "3 2013-08-29 14:00:00      2\n",
       "4 2013-08-29 15:00:00      4"
      ]
     },
     "execution_count": 77,
     "metadata": {},
     "output_type": "execute_result"
    }
   ],
   "source": [
    "target.head()"
   ]
  },
  {
   "cell_type": "code",
   "execution_count": 36,
   "metadata": {
    "collapsed": false,
    "scrolled": true
   },
   "outputs": [
    {
     "name": "stderr",
     "output_type": "stream",
     "text": [
      "/home/kyohei/anaconda2/lib/python2.7/site-packages/ipykernel/__main__.py:4: SettingWithCopyWarning: \n",
      "A value is trying to be set on a copy of a slice from a DataFrame.\n",
      "Try using .loc[row_indexer,col_indexer] = value instead\n",
      "\n",
      "See the caveats in the documentation: http://pandas.pydata.org/pandas-docs/stable/indexing.html#indexing-view-versus-copy\n"
     ]
    }
   ],
   "source": [
    "#weather\n",
    "T_mapping = {'T':0}\n",
    "f = lambda x:T_mapping.get(x,x)\n",
    "weather_SF['PrecipitationIn'] = weather_SF.PrecipitationIn.map(f).astype(float)"
   ]
  },
  {
   "cell_type": "code",
   "execution_count": 37,
   "metadata": {
    "collapsed": false
   },
   "outputs": [],
   "source": [
    "#weather\n",
    "event_dummy = pd.get_dummies(weather_SF.Events)\n",
    "\n",
    "weather_SF_mod = pd.concat([weather_SF,event_dummy],axis=1)\n",
    "\n",
    "weather_SF_sub = weather_SF_mod.drop(['Events','Max Gust SpeedMPH','Zip'],axis=1)\n",
    "\n",
    "#前日データ\n",
    "weather_SF_sub_yesterday = pd.concat([weather_SF_sub[['PDT']],weather_SF_sub.shift(1).drop(['PDT'],axis=1)],axis=1).dropna()"
   ]
  },
  {
   "cell_type": "code",
   "execution_count": 34,
   "metadata": {
    "collapsed": false
   },
   "outputs": [
    {
     "data": {
      "text/html": [
       "<div>\n",
       "<table border=\"1\" class=\"dataframe\">\n",
       "  <thead>\n",
       "    <tr style=\"text-align: right;\">\n",
       "      <th></th>\n",
       "      <th>index</th>\n",
       "      <th>Unnamed: 0</th>\n",
       "      <th>station_id</th>\n",
       "      <th>bikes_available</th>\n",
       "      <th>docks_available</th>\n",
       "      <th>time</th>\n",
       "      <th>time_hour_minute</th>\n",
       "    </tr>\n",
       "  </thead>\n",
       "  <tbody>\n",
       "    <tr>\n",
       "      <th>0</th>\n",
       "      <td>0</td>\n",
       "      <td>9809414</td>\n",
       "      <td>50</td>\n",
       "      <td>7</td>\n",
       "      <td>16</td>\n",
       "      <td>2013-08-29 12:06:00</td>\n",
       "      <td>12:06:00</td>\n",
       "    </tr>\n",
       "    <tr>\n",
       "      <th>1</th>\n",
       "      <td>1</td>\n",
       "      <td>9809415</td>\n",
       "      <td>50</td>\n",
       "      <td>7</td>\n",
       "      <td>16</td>\n",
       "      <td>2013-08-29 12:07:00</td>\n",
       "      <td>12:07:00</td>\n",
       "    </tr>\n",
       "    <tr>\n",
       "      <th>2</th>\n",
       "      <td>2</td>\n",
       "      <td>9809416</td>\n",
       "      <td>50</td>\n",
       "      <td>7</td>\n",
       "      <td>16</td>\n",
       "      <td>2013-08-29 12:08:00</td>\n",
       "      <td>12:08:00</td>\n",
       "    </tr>\n",
       "    <tr>\n",
       "      <th>3</th>\n",
       "      <td>3</td>\n",
       "      <td>9809417</td>\n",
       "      <td>50</td>\n",
       "      <td>7</td>\n",
       "      <td>16</td>\n",
       "      <td>2013-08-29 12:09:00</td>\n",
       "      <td>12:09:00</td>\n",
       "    </tr>\n",
       "    <tr>\n",
       "      <th>4</th>\n",
       "      <td>4</td>\n",
       "      <td>9809418</td>\n",
       "      <td>50</td>\n",
       "      <td>7</td>\n",
       "      <td>16</td>\n",
       "      <td>2013-08-29 12:10:00</td>\n",
       "      <td>12:10:00</td>\n",
       "    </tr>\n",
       "  </tbody>\n",
       "</table>\n",
       "</div>"
      ],
      "text/plain": [
       "   index  Unnamed: 0  station_id  bikes_available  docks_available  \\\n",
       "0      0     9809414          50                7               16   \n",
       "1      1     9809415          50                7               16   \n",
       "2      2     9809416          50                7               16   \n",
       "3      3     9809417          50                7               16   \n",
       "4      4     9809418          50                7               16   \n",
       "\n",
       "                 time time_hour_minute  \n",
       "0 2013-08-29 12:06:00         12:06:00  \n",
       "1 2013-08-29 12:07:00         12:07:00  \n",
       "2 2013-08-29 12:08:00         12:08:00  \n",
       "3 2013-08-29 12:09:00         12:09:00  \n",
       "4 2013-08-29 12:10:00         12:10:00  "
      ]
     },
     "execution_count": 34,
     "metadata": {},
     "output_type": "execute_result"
    }
   ],
   "source": [
    "status.head()"
   ]
  },
  {
   "cell_type": "code",
   "execution_count": 39,
   "metadata": {
    "collapsed": false
   },
   "outputs": [],
   "source": [
    "status['minute'] = status['time'].apply(lambda x:x.minute)"
   ]
  },
  {
   "cell_type": "code",
   "execution_count": 45,
   "metadata": {
    "collapsed": true
   },
   "outputs": [],
   "source": [
    "status_sub = status[status['minute']==0]"
   ]
  },
  {
   "cell_type": "code",
   "execution_count": 46,
   "metadata": {
    "collapsed": false
   },
   "outputs": [
    {
     "data": {
      "text/html": [
       "<div>\n",
       "<table border=\"1\" class=\"dataframe\">\n",
       "  <thead>\n",
       "    <tr style=\"text-align: right;\">\n",
       "      <th></th>\n",
       "      <th>index</th>\n",
       "      <th>Unnamed: 0</th>\n",
       "      <th>station_id</th>\n",
       "      <th>bikes_available</th>\n",
       "      <th>docks_available</th>\n",
       "      <th>time</th>\n",
       "      <th>time_hour_minute</th>\n",
       "      <th>minute</th>\n",
       "    </tr>\n",
       "  </thead>\n",
       "  <tbody>\n",
       "    <tr>\n",
       "      <th>48</th>\n",
       "      <td>48</td>\n",
       "      <td>9809462</td>\n",
       "      <td>50</td>\n",
       "      <td>9</td>\n",
       "      <td>14</td>\n",
       "      <td>2013-08-29 13:00:00</td>\n",
       "      <td>13:00:00</td>\n",
       "      <td>0</td>\n",
       "    </tr>\n",
       "    <tr>\n",
       "      <th>101</th>\n",
       "      <td>101</td>\n",
       "      <td>9809515</td>\n",
       "      <td>50</td>\n",
       "      <td>7</td>\n",
       "      <td>16</td>\n",
       "      <td>2013-08-29 14:00:00</td>\n",
       "      <td>14:00:00</td>\n",
       "      <td>0</td>\n",
       "    </tr>\n",
       "    <tr>\n",
       "      <th>157</th>\n",
       "      <td>157</td>\n",
       "      <td>9809571</td>\n",
       "      <td>50</td>\n",
       "      <td>8</td>\n",
       "      <td>15</td>\n",
       "      <td>2013-08-29 15:00:00</td>\n",
       "      <td>15:00:00</td>\n",
       "      <td>0</td>\n",
       "    </tr>\n",
       "    <tr>\n",
       "      <th>211</th>\n",
       "      <td>211</td>\n",
       "      <td>9809625</td>\n",
       "      <td>50</td>\n",
       "      <td>13</td>\n",
       "      <td>10</td>\n",
       "      <td>2013-08-29 16:00:00</td>\n",
       "      <td>16:00:00</td>\n",
       "      <td>0</td>\n",
       "    </tr>\n",
       "    <tr>\n",
       "      <th>266</th>\n",
       "      <td>266</td>\n",
       "      <td>9809680</td>\n",
       "      <td>50</td>\n",
       "      <td>6</td>\n",
       "      <td>17</td>\n",
       "      <td>2013-08-29 17:00:00</td>\n",
       "      <td>17:00:00</td>\n",
       "      <td>0</td>\n",
       "    </tr>\n",
       "  </tbody>\n",
       "</table>\n",
       "</div>"
      ],
      "text/plain": [
       "     index  Unnamed: 0  station_id  bikes_available  docks_available  \\\n",
       "48      48     9809462          50                9               14   \n",
       "101    101     9809515          50                7               16   \n",
       "157    157     9809571          50                8               15   \n",
       "211    211     9809625          50               13               10   \n",
       "266    266     9809680          50                6               17   \n",
       "\n",
       "                   time time_hour_minute  minute  \n",
       "48  2013-08-29 13:00:00         13:00:00       0  \n",
       "101 2013-08-29 14:00:00         14:00:00       0  \n",
       "157 2013-08-29 15:00:00         15:00:00       0  \n",
       "211 2013-08-29 16:00:00         16:00:00       0  \n",
       "266 2013-08-29 17:00:00         17:00:00       0  "
      ]
     },
     "execution_count": 46,
     "metadata": {},
     "output_type": "execute_result"
    }
   ],
   "source": [
    "status_sub.head()"
   ]
  },
  {
   "cell_type": "code",
   "execution_count": 47,
   "metadata": {
    "collapsed": false,
    "scrolled": true
   },
   "outputs": [
    {
     "name": "stderr",
     "output_type": "stream",
     "text": [
      "/home/kyohei/anaconda2/lib/python2.7/site-packages/ipykernel/__main__.py:5: SettingWithCopyWarning: \n",
      "A value is trying to be set on a copy of a slice from a DataFrame.\n",
      "Try using .loc[row_indexer,col_indexer] = value instead\n",
      "\n",
      "See the caveats in the documentation: http://pandas.pydata.org/pandas-docs/stable/indexing.html#indexing-view-versus-copy\n",
      "/home/kyohei/anaconda2/lib/python2.7/site-packages/ipykernel/__main__.py:8: SettingWithCopyWarning: \n",
      "A value is trying to be set on a copy of a slice from a DataFrame.\n",
      "Try using .loc[row_indexer,col_indexer] = value instead\n",
      "\n",
      "See the caveats in the documentation: http://pandas.pydata.org/pandas-docs/stable/indexing.html#indexing-view-versus-copy\n",
      "/home/kyohei/anaconda2/lib/python2.7/site-packages/ipykernel/__main__.py:11: SettingWithCopyWarning: \n",
      "A value is trying to be set on a copy of a slice from a DataFrame.\n",
      "Try using .loc[row_indexer,col_indexer] = value instead\n",
      "\n",
      "See the caveats in the documentation: http://pandas.pydata.org/pandas-docs/stable/indexing.html#indexing-view-versus-copy\n",
      "/home/kyohei/anaconda2/lib/python2.7/site-packages/ipykernel/__main__.py:13: SettingWithCopyWarning: \n",
      "A value is trying to be set on a copy of a slice from a DataFrame.\n",
      "Try using .loc[row_indexer,col_indexer] = value instead\n",
      "\n",
      "See the caveats in the documentation: http://pandas.pydata.org/pandas-docs/stable/indexing.html#indexing-view-versus-copy\n",
      "/home/kyohei/anaconda2/lib/python2.7/site-packages/ipykernel/__main__.py:16: SettingWithCopyWarning: \n",
      "A value is trying to be set on a copy of a slice from a DataFrame.\n",
      "Try using .loc[row_indexer,col_indexer] = value instead\n",
      "\n",
      "See the caveats in the documentation: http://pandas.pydata.org/pandas-docs/stable/indexing.html#indexing-view-versus-copy\n",
      "/home/kyohei/anaconda2/lib/python2.7/site-packages/ipykernel/__main__.py:19: SettingWithCopyWarning: \n",
      "A value is trying to be set on a copy of a slice from a DataFrame.\n",
      "Try using .loc[row_indexer,col_indexer] = value instead\n",
      "\n",
      "See the caveats in the documentation: http://pandas.pydata.org/pandas-docs/stable/indexing.html#indexing-view-versus-copy\n"
     ]
    }
   ],
   "source": [
    "#Status\n",
    "#status_sub = status[['bikes_available','docks_available','time','time_hour_minute']]\n",
    "\n",
    "#年\n",
    "status_sub['year'] = status_sub['time'].apply(lambda x:x.year)\n",
    "\n",
    "#月\n",
    "status_sub['month'] = status_sub['time'].apply(lambda x:x.month)\n",
    "\n",
    "#曜日\n",
    "status_sub['dayofweek'] = status_sub['time'].apply(lambda x:x.dayofweek)\n",
    "weekday = {0:'monday',1:'tuseday',2:'wednseday',3:'thursday',4:'friday',5:'saturday',6:'sunday'}\n",
    "status_sub['dayofweek'] = status_sub['dayofweek'].map(weekday)\n",
    "\n",
    "#時\n",
    "status_sub['hour'] = status_sub['time'].apply(lambda x:x.hour)\n",
    "\n",
    "#日付\n",
    "status_sub['day'] = status['time'].apply(lambda x:pd.to_datetime(x.date()))"
   ]
  },
  {
   "cell_type": "code",
   "execution_count": 48,
   "metadata": {
    "collapsed": false
   },
   "outputs": [],
   "source": [
    "#dummy変数づくり\n",
    "#年\n",
    "dummy_year = pd.get_dummies(status_sub.year,prefix='year')\n",
    "\n",
    "#時刻\n",
    "#dummy_time = pd.get_dummies(status_sub.time_hour_minute)\n",
    "dummy_hour = pd.get_dummies(status_sub.hour,prefix='time')\n",
    "\n",
    "#月\n",
    "dummy_month = pd.get_dummies(status_sub.month,prefix='month')\n",
    "\n",
    "#曜日\n",
    "dummy_weekday = pd.get_dummies(status_sub.dayofweek)\n"
   ]
  },
  {
   "cell_type": "code",
   "execution_count": 49,
   "metadata": {
    "collapsed": false
   },
   "outputs": [
    {
     "data": {
      "text/html": [
       "<div>\n",
       "<table border=\"1\" class=\"dataframe\">\n",
       "  <thead>\n",
       "    <tr style=\"text-align: right;\">\n",
       "      <th></th>\n",
       "      <th>index</th>\n",
       "      <th>Unnamed: 0</th>\n",
       "      <th>station_id</th>\n",
       "      <th>bikes_available</th>\n",
       "      <th>docks_available</th>\n",
       "      <th>time</th>\n",
       "      <th>time_hour_minute</th>\n",
       "      <th>minute</th>\n",
       "      <th>year</th>\n",
       "      <th>month</th>\n",
       "      <th>dayofweek</th>\n",
       "      <th>hour</th>\n",
       "      <th>day</th>\n",
       "    </tr>\n",
       "  </thead>\n",
       "  <tbody>\n",
       "    <tr>\n",
       "      <th>48</th>\n",
       "      <td>48</td>\n",
       "      <td>9809462</td>\n",
       "      <td>50</td>\n",
       "      <td>9</td>\n",
       "      <td>14</td>\n",
       "      <td>2013-08-29 13:00:00</td>\n",
       "      <td>13:00:00</td>\n",
       "      <td>0</td>\n",
       "      <td>2013</td>\n",
       "      <td>8</td>\n",
       "      <td>thursday</td>\n",
       "      <td>13</td>\n",
       "      <td>2013-08-29</td>\n",
       "    </tr>\n",
       "    <tr>\n",
       "      <th>101</th>\n",
       "      <td>101</td>\n",
       "      <td>9809515</td>\n",
       "      <td>50</td>\n",
       "      <td>7</td>\n",
       "      <td>16</td>\n",
       "      <td>2013-08-29 14:00:00</td>\n",
       "      <td>14:00:00</td>\n",
       "      <td>0</td>\n",
       "      <td>2013</td>\n",
       "      <td>8</td>\n",
       "      <td>thursday</td>\n",
       "      <td>14</td>\n",
       "      <td>2013-08-29</td>\n",
       "    </tr>\n",
       "    <tr>\n",
       "      <th>157</th>\n",
       "      <td>157</td>\n",
       "      <td>9809571</td>\n",
       "      <td>50</td>\n",
       "      <td>8</td>\n",
       "      <td>15</td>\n",
       "      <td>2013-08-29 15:00:00</td>\n",
       "      <td>15:00:00</td>\n",
       "      <td>0</td>\n",
       "      <td>2013</td>\n",
       "      <td>8</td>\n",
       "      <td>thursday</td>\n",
       "      <td>15</td>\n",
       "      <td>2013-08-29</td>\n",
       "    </tr>\n",
       "    <tr>\n",
       "      <th>211</th>\n",
       "      <td>211</td>\n",
       "      <td>9809625</td>\n",
       "      <td>50</td>\n",
       "      <td>13</td>\n",
       "      <td>10</td>\n",
       "      <td>2013-08-29 16:00:00</td>\n",
       "      <td>16:00:00</td>\n",
       "      <td>0</td>\n",
       "      <td>2013</td>\n",
       "      <td>8</td>\n",
       "      <td>thursday</td>\n",
       "      <td>16</td>\n",
       "      <td>2013-08-29</td>\n",
       "    </tr>\n",
       "    <tr>\n",
       "      <th>266</th>\n",
       "      <td>266</td>\n",
       "      <td>9809680</td>\n",
       "      <td>50</td>\n",
       "      <td>6</td>\n",
       "      <td>17</td>\n",
       "      <td>2013-08-29 17:00:00</td>\n",
       "      <td>17:00:00</td>\n",
       "      <td>0</td>\n",
       "      <td>2013</td>\n",
       "      <td>8</td>\n",
       "      <td>thursday</td>\n",
       "      <td>17</td>\n",
       "      <td>2013-08-29</td>\n",
       "    </tr>\n",
       "  </tbody>\n",
       "</table>\n",
       "</div>"
      ],
      "text/plain": [
       "     index  Unnamed: 0  station_id  bikes_available  docks_available  \\\n",
       "48      48     9809462          50                9               14   \n",
       "101    101     9809515          50                7               16   \n",
       "157    157     9809571          50                8               15   \n",
       "211    211     9809625          50               13               10   \n",
       "266    266     9809680          50                6               17   \n",
       "\n",
       "                   time time_hour_minute  minute  year  month dayofweek  hour  \\\n",
       "48  2013-08-29 13:00:00         13:00:00       0  2013      8  thursday    13   \n",
       "101 2013-08-29 14:00:00         14:00:00       0  2013      8  thursday    14   \n",
       "157 2013-08-29 15:00:00         15:00:00       0  2013      8  thursday    15   \n",
       "211 2013-08-29 16:00:00         16:00:00       0  2013      8  thursday    16   \n",
       "266 2013-08-29 17:00:00         17:00:00       0  2013      8  thursday    17   \n",
       "\n",
       "           day  \n",
       "48  2013-08-29  \n",
       "101 2013-08-29  \n",
       "157 2013-08-29  \n",
       "211 2013-08-29  \n",
       "266 2013-08-29  "
      ]
     },
     "execution_count": 49,
     "metadata": {},
     "output_type": "execute_result"
    }
   ],
   "source": [
    "status_sub.head()"
   ]
  },
  {
   "cell_type": "code",
   "execution_count": 66,
   "metadata": {
    "collapsed": false,
    "scrolled": true
   },
   "outputs": [],
   "source": [
    "#一時間前のデータ\n",
    "status_hour_one_hour_ago = status_sub.shift(1)[['bikes_available','docks_available']]"
   ]
  },
  {
   "cell_type": "code",
   "execution_count": 68,
   "metadata": {
    "collapsed": false
   },
   "outputs": [],
   "source": [
    "#dummyの統合\n",
    "status_train = pd.concat([dummy_year,dummy_hour,dummy_month,dummy_weekday,status_hour_one_hour_ago,status_sub[['time','day']]],axis=1).dropna()"
   ]
  },
  {
   "cell_type": "code",
   "execution_count": 70,
   "metadata": {
    "collapsed": false
   },
   "outputs": [
    {
     "data": {
      "text/html": [
       "<div>\n",
       "<table border=\"1\" class=\"dataframe\">\n",
       "  <thead>\n",
       "    <tr style=\"text-align: right;\">\n",
       "      <th></th>\n",
       "      <th>year_2013</th>\n",
       "      <th>year_2014</th>\n",
       "      <th>year_2015</th>\n",
       "      <th>year_2016</th>\n",
       "      <th>time_0</th>\n",
       "      <th>time_1</th>\n",
       "      <th>time_2</th>\n",
       "      <th>time_3</th>\n",
       "      <th>time_4</th>\n",
       "      <th>time_5</th>\n",
       "      <th>...</th>\n",
       "      <th>monday</th>\n",
       "      <th>saturday</th>\n",
       "      <th>sunday</th>\n",
       "      <th>thursday</th>\n",
       "      <th>tuseday</th>\n",
       "      <th>wednseday</th>\n",
       "      <th>bikes_available</th>\n",
       "      <th>docks_available</th>\n",
       "      <th>time</th>\n",
       "      <th>day</th>\n",
       "    </tr>\n",
       "  </thead>\n",
       "  <tbody>\n",
       "    <tr>\n",
       "      <th>101</th>\n",
       "      <td>1.0</td>\n",
       "      <td>0.0</td>\n",
       "      <td>0.0</td>\n",
       "      <td>0.0</td>\n",
       "      <td>0.0</td>\n",
       "      <td>0.0</td>\n",
       "      <td>0.0</td>\n",
       "      <td>0.0</td>\n",
       "      <td>0.0</td>\n",
       "      <td>0.0</td>\n",
       "      <td>...</td>\n",
       "      <td>0.0</td>\n",
       "      <td>0.0</td>\n",
       "      <td>0.0</td>\n",
       "      <td>1.0</td>\n",
       "      <td>0.0</td>\n",
       "      <td>0.0</td>\n",
       "      <td>9.0</td>\n",
       "      <td>14.0</td>\n",
       "      <td>2013-08-29 14:00:00</td>\n",
       "      <td>2013-08-29</td>\n",
       "    </tr>\n",
       "    <tr>\n",
       "      <th>157</th>\n",
       "      <td>1.0</td>\n",
       "      <td>0.0</td>\n",
       "      <td>0.0</td>\n",
       "      <td>0.0</td>\n",
       "      <td>0.0</td>\n",
       "      <td>0.0</td>\n",
       "      <td>0.0</td>\n",
       "      <td>0.0</td>\n",
       "      <td>0.0</td>\n",
       "      <td>0.0</td>\n",
       "      <td>...</td>\n",
       "      <td>0.0</td>\n",
       "      <td>0.0</td>\n",
       "      <td>0.0</td>\n",
       "      <td>1.0</td>\n",
       "      <td>0.0</td>\n",
       "      <td>0.0</td>\n",
       "      <td>7.0</td>\n",
       "      <td>16.0</td>\n",
       "      <td>2013-08-29 15:00:00</td>\n",
       "      <td>2013-08-29</td>\n",
       "    </tr>\n",
       "    <tr>\n",
       "      <th>211</th>\n",
       "      <td>1.0</td>\n",
       "      <td>0.0</td>\n",
       "      <td>0.0</td>\n",
       "      <td>0.0</td>\n",
       "      <td>0.0</td>\n",
       "      <td>0.0</td>\n",
       "      <td>0.0</td>\n",
       "      <td>0.0</td>\n",
       "      <td>0.0</td>\n",
       "      <td>0.0</td>\n",
       "      <td>...</td>\n",
       "      <td>0.0</td>\n",
       "      <td>0.0</td>\n",
       "      <td>0.0</td>\n",
       "      <td>1.0</td>\n",
       "      <td>0.0</td>\n",
       "      <td>0.0</td>\n",
       "      <td>8.0</td>\n",
       "      <td>15.0</td>\n",
       "      <td>2013-08-29 16:00:00</td>\n",
       "      <td>2013-08-29</td>\n",
       "    </tr>\n",
       "    <tr>\n",
       "      <th>266</th>\n",
       "      <td>1.0</td>\n",
       "      <td>0.0</td>\n",
       "      <td>0.0</td>\n",
       "      <td>0.0</td>\n",
       "      <td>0.0</td>\n",
       "      <td>0.0</td>\n",
       "      <td>0.0</td>\n",
       "      <td>0.0</td>\n",
       "      <td>0.0</td>\n",
       "      <td>0.0</td>\n",
       "      <td>...</td>\n",
       "      <td>0.0</td>\n",
       "      <td>0.0</td>\n",
       "      <td>0.0</td>\n",
       "      <td>1.0</td>\n",
       "      <td>0.0</td>\n",
       "      <td>0.0</td>\n",
       "      <td>13.0</td>\n",
       "      <td>10.0</td>\n",
       "      <td>2013-08-29 17:00:00</td>\n",
       "      <td>2013-08-29</td>\n",
       "    </tr>\n",
       "    <tr>\n",
       "      <th>320</th>\n",
       "      <td>1.0</td>\n",
       "      <td>0.0</td>\n",
       "      <td>0.0</td>\n",
       "      <td>0.0</td>\n",
       "      <td>0.0</td>\n",
       "      <td>0.0</td>\n",
       "      <td>0.0</td>\n",
       "      <td>0.0</td>\n",
       "      <td>0.0</td>\n",
       "      <td>0.0</td>\n",
       "      <td>...</td>\n",
       "      <td>0.0</td>\n",
       "      <td>0.0</td>\n",
       "      <td>0.0</td>\n",
       "      <td>1.0</td>\n",
       "      <td>0.0</td>\n",
       "      <td>0.0</td>\n",
       "      <td>6.0</td>\n",
       "      <td>17.0</td>\n",
       "      <td>2013-08-29 18:00:00</td>\n",
       "      <td>2013-08-29</td>\n",
       "    </tr>\n",
       "  </tbody>\n",
       "</table>\n",
       "<p>5 rows × 51 columns</p>\n",
       "</div>"
      ],
      "text/plain": [
       "     year_2013  year_2014  year_2015  year_2016  time_0  time_1  time_2  \\\n",
       "101        1.0        0.0        0.0        0.0     0.0     0.0     0.0   \n",
       "157        1.0        0.0        0.0        0.0     0.0     0.0     0.0   \n",
       "211        1.0        0.0        0.0        0.0     0.0     0.0     0.0   \n",
       "266        1.0        0.0        0.0        0.0     0.0     0.0     0.0   \n",
       "320        1.0        0.0        0.0        0.0     0.0     0.0     0.0   \n",
       "\n",
       "     time_3  time_4  time_5    ...      monday  saturday  sunday  thursday  \\\n",
       "101     0.0     0.0     0.0    ...         0.0       0.0     0.0       1.0   \n",
       "157     0.0     0.0     0.0    ...         0.0       0.0     0.0       1.0   \n",
       "211     0.0     0.0     0.0    ...         0.0       0.0     0.0       1.0   \n",
       "266     0.0     0.0     0.0    ...         0.0       0.0     0.0       1.0   \n",
       "320     0.0     0.0     0.0    ...         0.0       0.0     0.0       1.0   \n",
       "\n",
       "     tuseday  wednseday  bikes_available  docks_available                time  \\\n",
       "101      0.0        0.0              9.0             14.0 2013-08-29 14:00:00   \n",
       "157      0.0        0.0              7.0             16.0 2013-08-29 15:00:00   \n",
       "211      0.0        0.0              8.0             15.0 2013-08-29 16:00:00   \n",
       "266      0.0        0.0             13.0             10.0 2013-08-29 17:00:00   \n",
       "320      0.0        0.0              6.0             17.0 2013-08-29 18:00:00   \n",
       "\n",
       "           day  \n",
       "101 2013-08-29  \n",
       "157 2013-08-29  \n",
       "211 2013-08-29  \n",
       "266 2013-08-29  \n",
       "320 2013-08-29  \n",
       "\n",
       "[5 rows x 51 columns]"
      ]
     },
     "execution_count": 70,
     "metadata": {},
     "output_type": "execute_result"
    }
   ],
   "source": [
    "status_train.head()"
   ]
  },
  {
   "cell_type": "markdown",
   "metadata": {},
   "source": [
    "### 天気、ステータス、目的変数の統合"
   ]
  },
  {
   "cell_type": "code",
   "execution_count": 71,
   "metadata": {
    "collapsed": false
   },
   "outputs": [],
   "source": [
    "data = status_train.merge(weather_SF_sub_yesterday,left_on='day',right_on='PDT',how='inner')"
   ]
  },
  {
   "cell_type": "code",
   "execution_count": 75,
   "metadata": {
    "collapsed": false
   },
   "outputs": [
    {
     "data": {
      "text/html": [
       "<div>\n",
       "<table border=\"1\" class=\"dataframe\">\n",
       "  <thead>\n",
       "    <tr style=\"text-align: right;\">\n",
       "      <th></th>\n",
       "      <th>Count</th>\n",
       "    </tr>\n",
       "    <tr>\n",
       "      <th>start_time_hour</th>\n",
       "      <th></th>\n",
       "    </tr>\n",
       "  </thead>\n",
       "  <tbody>\n",
       "    <tr>\n",
       "      <th>2013-08-29 11:00:00</th>\n",
       "      <td>4</td>\n",
       "    </tr>\n",
       "    <tr>\n",
       "      <th>2013-08-29 12:00:00</th>\n",
       "      <td>10</td>\n",
       "    </tr>\n",
       "    <tr>\n",
       "      <th>2013-08-29 13:00:00</th>\n",
       "      <td>3</td>\n",
       "    </tr>\n",
       "    <tr>\n",
       "      <th>2013-08-29 14:00:00</th>\n",
       "      <td>2</td>\n",
       "    </tr>\n",
       "    <tr>\n",
       "      <th>2013-08-29 15:00:00</th>\n",
       "      <td>4</td>\n",
       "    </tr>\n",
       "  </tbody>\n",
       "</table>\n",
       "</div>"
      ],
      "text/plain": [
       "                     Count\n",
       "start_time_hour           \n",
       "2013-08-29 11:00:00      4\n",
       "2013-08-29 12:00:00     10\n",
       "2013-08-29 13:00:00      3\n",
       "2013-08-29 14:00:00      2\n",
       "2013-08-29 15:00:00      4"
      ]
     },
     "execution_count": 75,
     "metadata": {},
     "output_type": "execute_result"
    }
   ],
   "source": [
    "target.head()"
   ]
  },
  {
   "cell_type": "code",
   "execution_count": 78,
   "metadata": {
    "collapsed": false
   },
   "outputs": [],
   "source": [
    "data_comp = data.merge(target,left_on='time',right_on='start_time_hour',how='left')"
   ]
  },
  {
   "cell_type": "code",
   "execution_count": 79,
   "metadata": {
    "collapsed": false,
    "scrolled": true
   },
   "outputs": [
    {
     "name": "stdout",
     "output_type": "stream",
     "text": [
      "<class 'pandas.core.frame.DataFrame'>\n",
      "Int64Index: 25952 entries, 0 to 25951\n",
      "Data columns (total 78 columns):\n",
      "year_2013                    25952 non-null float64\n",
      "year_2014                    25952 non-null float64\n",
      "year_2015                    25952 non-null float64\n",
      "year_2016                    25952 non-null float64\n",
      "time_0                       25952 non-null float64\n",
      "time_1                       25952 non-null float64\n",
      "time_2                       25952 non-null float64\n",
      "time_3                       25952 non-null float64\n",
      "time_4                       25952 non-null float64\n",
      "time_5                       25952 non-null float64\n",
      "time_6                       25952 non-null float64\n",
      "time_7                       25952 non-null float64\n",
      "time_8                       25952 non-null float64\n",
      "time_9                       25952 non-null float64\n",
      "time_10                      25952 non-null float64\n",
      "time_11                      25952 non-null float64\n",
      "time_12                      25952 non-null float64\n",
      "time_13                      25952 non-null float64\n",
      "time_14                      25952 non-null float64\n",
      "time_15                      25952 non-null float64\n",
      "time_16                      25952 non-null float64\n",
      "time_17                      25952 non-null float64\n",
      "time_18                      25952 non-null float64\n",
      "time_19                      25952 non-null float64\n",
      "time_20                      25952 non-null float64\n",
      "time_21                      25952 non-null float64\n",
      "time_22                      25952 non-null float64\n",
      "time_23                      25952 non-null float64\n",
      "month_1                      25952 non-null float64\n",
      "month_2                      25952 non-null float64\n",
      "month_3                      25952 non-null float64\n",
      "month_4                      25952 non-null float64\n",
      "month_5                      25952 non-null float64\n",
      "month_6                      25952 non-null float64\n",
      "month_7                      25952 non-null float64\n",
      "month_8                      25952 non-null float64\n",
      "month_9                      25952 non-null float64\n",
      "month_10                     25952 non-null float64\n",
      "month_11                     25952 non-null float64\n",
      "month_12                     25952 non-null float64\n",
      "friday                       25952 non-null float64\n",
      "monday                       25952 non-null float64\n",
      "saturday                     25952 non-null float64\n",
      "sunday                       25952 non-null float64\n",
      "thursday                     25952 non-null float64\n",
      "tuseday                      25952 non-null float64\n",
      "wednseday                    25952 non-null float64\n",
      "bikes_available              25952 non-null float64\n",
      "docks_available              25952 non-null float64\n",
      "time                         25952 non-null datetime64[ns]\n",
      "day                          25952 non-null datetime64[ns]\n",
      "PDT                          25952 non-null datetime64[ns]\n",
      "Max TemperatureF             25952 non-null float64\n",
      "Mean TemperatureF            25952 non-null float64\n",
      "Min TemperatureF             25952 non-null float64\n",
      "Max Dew PointF               25952 non-null float64\n",
      "MeanDew PointF               25952 non-null float64\n",
      "Min DewpointF                25952 non-null float64\n",
      "Max Humidity                 25952 non-null float64\n",
      "Mean Humidity                25952 non-null float64\n",
      "Min Humidity                 25952 non-null float64\n",
      "Max Sea Level PressureIn     25952 non-null float64\n",
      "Mean Sea Level PressureIn    25952 non-null float64\n",
      "Min Sea Level PressureIn     25952 non-null float64\n",
      "Max VisibilityMiles          25952 non-null float64\n",
      "Mean VisibilityMiles         25952 non-null float64\n",
      "Min VisibilityMiles          25952 non-null float64\n",
      "Max Wind SpeedMPH            25952 non-null float64\n",
      "Mean Wind SpeedMPH           25952 non-null float64\n",
      "PrecipitationIn              25952 non-null float64\n",
      "CloudCover                   25952 non-null float64\n",
      "WindDirDegrees               25952 non-null float64\n",
      "Fog                          25952 non-null float64\n",
      "Fog-Rain                     25952 non-null float64\n",
      "Rain                         25952 non-null float64\n",
      "Rain-Thunderstorm            25952 non-null float64\n",
      "start_time_hour              12988 non-null datetime64[ns]\n",
      "Count                        12988 non-null float64\n",
      "dtypes: datetime64[ns](4), float64(74)\n",
      "memory usage: 15.6 MB\n"
     ]
    }
   ],
   "source": [
    "data_comp.info()"
   ]
  },
  {
   "cell_type": "code",
   "execution_count": 80,
   "metadata": {
    "collapsed": false
   },
   "outputs": [],
   "source": [
    "data_comp_sub = data_comp.drop(['time','day','PDT','start_time_hour'],axis=1)"
   ]
  },
  {
   "cell_type": "code",
   "execution_count": 82,
   "metadata": {
    "collapsed": false
   },
   "outputs": [],
   "source": [
    "data_comp_sub.fillna(0,inplace=True)"
   ]
  },
  {
   "cell_type": "code",
   "execution_count": 162,
   "metadata": {
    "collapsed": true
   },
   "outputs": [],
   "source": [
    "simple_feature = ['bikes_available','time_0','time_1','time_2','time_3','time_4','time_5','time_6','time_7','time_8','time_9'\n",
    "                 ,'time_10','time_11','time_12','time_13','time_14','time_15','time_16','time_17','time_18','time_19','time_20'\n",
    "                  ,'time_21','time_22','time_23','monday','friday','saturday','sunday','thursday','tuseday','wednseday'\n",
    "                 ,'Fog','Fog-Rain','Rain','Rain-Thunderstorm']"
   ]
  },
  {
   "cell_type": "code",
   "execution_count": 84,
   "metadata": {
    "collapsed": false
   },
   "outputs": [],
   "source": [
    "y = data_comp_sub['Count']\n",
    "X = data_comp_sub.drop('Count',axis=1)"
   ]
  },
  {
   "cell_type": "code",
   "execution_count": 85,
   "metadata": {
    "collapsed": true
   },
   "outputs": [
    {
     "name": "stdout",
     "output_type": "stream",
     "text": [
      "<class 'pandas.core.frame.DataFrame'>\n",
      "Int64Index: 25952 entries, 0 to 25951\n",
      "Data columns (total 73 columns):\n",
      "year_2013                    25952 non-null float64\n",
      "year_2014                    25952 non-null float64\n",
      "year_2015                    25952 non-null float64\n",
      "year_2016                    25952 non-null float64\n",
      "time_0                       25952 non-null float64\n",
      "time_1                       25952 non-null float64\n",
      "time_2                       25952 non-null float64\n",
      "time_3                       25952 non-null float64\n",
      "time_4                       25952 non-null float64\n",
      "time_5                       25952 non-null float64\n",
      "time_6                       25952 non-null float64\n",
      "time_7                       25952 non-null float64\n",
      "time_8                       25952 non-null float64\n",
      "time_9                       25952 non-null float64\n",
      "time_10                      25952 non-null float64\n",
      "time_11                      25952 non-null float64\n",
      "time_12                      25952 non-null float64\n",
      "time_13                      25952 non-null float64\n",
      "time_14                      25952 non-null float64\n",
      "time_15                      25952 non-null float64\n",
      "time_16                      25952 non-null float64\n",
      "time_17                      25952 non-null float64\n",
      "time_18                      25952 non-null float64\n",
      "time_19                      25952 non-null float64\n",
      "time_20                      25952 non-null float64\n",
      "time_21                      25952 non-null float64\n",
      "time_22                      25952 non-null float64\n",
      "time_23                      25952 non-null float64\n",
      "month_1                      25952 non-null float64\n",
      "month_2                      25952 non-null float64\n",
      "month_3                      25952 non-null float64\n",
      "month_4                      25952 non-null float64\n",
      "month_5                      25952 non-null float64\n",
      "month_6                      25952 non-null float64\n",
      "month_7                      25952 non-null float64\n",
      "month_8                      25952 non-null float64\n",
      "month_9                      25952 non-null float64\n",
      "month_10                     25952 non-null float64\n",
      "month_11                     25952 non-null float64\n",
      "month_12                     25952 non-null float64\n",
      "friday                       25952 non-null float64\n",
      "monday                       25952 non-null float64\n",
      "saturday                     25952 non-null float64\n",
      "sunday                       25952 non-null float64\n",
      "thursday                     25952 non-null float64\n",
      "tuseday                      25952 non-null float64\n",
      "wednseday                    25952 non-null float64\n",
      "bikes_available              25952 non-null float64\n",
      "docks_available              25952 non-null float64\n",
      "Max TemperatureF             25952 non-null float64\n",
      "Mean TemperatureF            25952 non-null float64\n",
      "Min TemperatureF             25952 non-null float64\n",
      "Max Dew PointF               25952 non-null float64\n",
      "MeanDew PointF               25952 non-null float64\n",
      "Min DewpointF                25952 non-null float64\n",
      "Max Humidity                 25952 non-null float64\n",
      "Mean Humidity                25952 non-null float64\n",
      "Min Humidity                 25952 non-null float64\n",
      "Max Sea Level PressureIn     25952 non-null float64\n",
      "Mean Sea Level PressureIn    25952 non-null float64\n",
      "Min Sea Level PressureIn     25952 non-null float64\n",
      "Max VisibilityMiles          25952 non-null float64\n",
      "Mean VisibilityMiles         25952 non-null float64\n",
      "Min VisibilityMiles          25952 non-null float64\n",
      "Max Wind SpeedMPH            25952 non-null float64\n",
      "Mean Wind SpeedMPH           25952 non-null float64\n",
      "PrecipitationIn              25952 non-null float64\n",
      "CloudCover                   25952 non-null float64\n",
      "WindDirDegrees               25952 non-null float64\n",
      "Fog                          25952 non-null float64\n",
      "Fog-Rain                     25952 non-null float64\n",
      "Rain                         25952 non-null float64\n",
      "Rain-Thunderstorm            25952 non-null float64\n",
      "dtypes: float64(73)\n",
      "memory usage: 14.7 MB\n"
     ]
    }
   ],
   "source": [
    "X.info()"
   ]
  },
  {
   "cell_type": "code",
   "execution_count": 86,
   "metadata": {
    "collapsed": true
   },
   "outputs": [],
   "source": [
    "from sklearn.cross_validation import train_test_split\n",
    "\n",
    "X_train,X_test,y_train,y_test = train_test_split(X,y,random_state=0)"
   ]
  },
  {
   "cell_type": "code",
   "execution_count": 87,
   "metadata": {
    "collapsed": true
   },
   "outputs": [],
   "source": [
    "from sklearn.preprocessing import StandardScaler\n",
    "\n",
    "std = StandardScaler()\n",
    "#std_columns = ['bikes_available','docks_available','Max TemperatureF','Mean TemperatureF','Min TemperatureF','Max Dew PointF',\n",
    "#'MeanDew PointF','Min DewpointF','Max Humidity','Mean Humidity','Min Humidity','Max Sea Level PressureIn',\n",
    "#'Mean Sea Level PressureIn','Min Sea Level PressureIn','Max Wind SpeedMPH','Mean Wind SpeedMPH','PrecipitationIn',\n",
    "#'CloudCover','WindDirDegrees']\n",
    "std.fit(X_train)\n",
    "X_train_std = std.transform(X_train)\n",
    "X_test_std = std.transform(X_test)"
   ]
  },
  {
   "cell_type": "code",
   "execution_count": 88,
   "metadata": {
    "collapsed": false
   },
   "outputs": [
    {
     "name": "stdout",
     "output_type": "stream",
     "text": [
      "LinearRegression train_socre:0.494\n",
      "LinearRegression test_score:0.490\n",
      "\n",
      "\n",
      "DecisionTreeRegressor train_socre:1.000\n",
      "DecisionTreeRegressor test_score:0.453\n",
      "\n",
      "\n",
      "KNeighborsRegressor train_socre:0.736\n",
      "KNeighborsRegressor test_score:0.616\n",
      "\n",
      "\n",
      "RandomForestRegressor train_socre:0.941\n",
      "RandomForestRegressor test_score:0.685\n",
      "\n",
      "\n"
     ]
    }
   ],
   "source": [
    "from sklearn.linear_model import LinearRegression\n",
    "from sklearn.tree import DecisionTreeRegressor\n",
    "from sklearn.neighbors import KNeighborsRegressor\n",
    "from sklearn.ensemble import RandomForestRegressor\n",
    "\n",
    "models = [LinearRegression(),\n",
    "         DecisionTreeRegressor(),\n",
    "         KNeighborsRegressor(),\n",
    "         RandomForestRegressor()]\n",
    "\n",
    "\n",
    "for model in models:\n",
    "    model.fit(X_train_std,y_train)\n",
    "    print('%s train_socre:%.3f' %(model.__class__.__name__,model.score(X_train_std,y_train)))\n",
    "    print('%s test_score:%.3f' %(model.__class__.__name__,model.score(X_test_std,y_test)))\n",
    "    print('\\n')\n"
   ]
  },
  {
   "cell_type": "code",
   "execution_count": 93,
   "metadata": {
    "collapsed": false
   },
   "outputs": [
    {
     "name": "stdout",
     "output_type": "stream",
     "text": [
      "<class 'pandas.core.frame.DataFrame'>\n",
      "Int64Index: 25952 entries, 0 to 25951\n",
      "Data columns (total 74 columns):\n",
      "year_2013                    25952 non-null float64\n",
      "year_2014                    25952 non-null float64\n",
      "year_2015                    25952 non-null float64\n",
      "year_2016                    25952 non-null float64\n",
      "time_0                       25952 non-null float64\n",
      "time_1                       25952 non-null float64\n",
      "time_2                       25952 non-null float64\n",
      "time_3                       25952 non-null float64\n",
      "time_4                       25952 non-null float64\n",
      "time_5                       25952 non-null float64\n",
      "time_6                       25952 non-null float64\n",
      "time_7                       25952 non-null float64\n",
      "time_8                       25952 non-null float64\n",
      "time_9                       25952 non-null float64\n",
      "time_10                      25952 non-null float64\n",
      "time_11                      25952 non-null float64\n",
      "time_12                      25952 non-null float64\n",
      "time_13                      25952 non-null float64\n",
      "time_14                      25952 non-null float64\n",
      "time_15                      25952 non-null float64\n",
      "time_16                      25952 non-null float64\n",
      "time_17                      25952 non-null float64\n",
      "time_18                      25952 non-null float64\n",
      "time_19                      25952 non-null float64\n",
      "time_20                      25952 non-null float64\n",
      "time_21                      25952 non-null float64\n",
      "time_22                      25952 non-null float64\n",
      "time_23                      25952 non-null float64\n",
      "month_1                      25952 non-null float64\n",
      "month_2                      25952 non-null float64\n",
      "month_3                      25952 non-null float64\n",
      "month_4                      25952 non-null float64\n",
      "month_5                      25952 non-null float64\n",
      "month_6                      25952 non-null float64\n",
      "month_7                      25952 non-null float64\n",
      "month_8                      25952 non-null float64\n",
      "month_9                      25952 non-null float64\n",
      "month_10                     25952 non-null float64\n",
      "month_11                     25952 non-null float64\n",
      "month_12                     25952 non-null float64\n",
      "friday                       25952 non-null float64\n",
      "monday                       25952 non-null float64\n",
      "saturday                     25952 non-null float64\n",
      "sunday                       25952 non-null float64\n",
      "thursday                     25952 non-null float64\n",
      "tuseday                      25952 non-null float64\n",
      "wednseday                    25952 non-null float64\n",
      "bikes_available              25952 non-null float64\n",
      "docks_available              25952 non-null float64\n",
      "Max TemperatureF             25952 non-null float64\n",
      "Mean TemperatureF            25952 non-null float64\n",
      "Min TemperatureF             25952 non-null float64\n",
      "Max Dew PointF               25952 non-null float64\n",
      "MeanDew PointF               25952 non-null float64\n",
      "Min DewpointF                25952 non-null float64\n",
      "Max Humidity                 25952 non-null float64\n",
      "Mean Humidity                25952 non-null float64\n",
      "Min Humidity                 25952 non-null float64\n",
      "Max Sea Level PressureIn     25952 non-null float64\n",
      "Mean Sea Level PressureIn    25952 non-null float64\n",
      "Min Sea Level PressureIn     25952 non-null float64\n",
      "Max VisibilityMiles          25952 non-null float64\n",
      "Mean VisibilityMiles         25952 non-null float64\n",
      "Min VisibilityMiles          25952 non-null float64\n",
      "Max Wind SpeedMPH            25952 non-null float64\n",
      "Mean Wind SpeedMPH           25952 non-null float64\n",
      "PrecipitationIn              25952 non-null float64\n",
      "CloudCover                   25952 non-null float64\n",
      "WindDirDegrees               25952 non-null float64\n",
      "Fog                          25952 non-null float64\n",
      "Fog-Rain                     25952 non-null float64\n",
      "Rain                         25952 non-null float64\n",
      "Rain-Thunderstorm            25952 non-null float64\n",
      "Count                        25952 non-null float64\n",
      "dtypes: float64(74)\n",
      "memory usage: 14.8 MB\n"
     ]
    }
   ],
   "source": [
    "data_comp_sub.info()"
   ]
  },
  {
   "cell_type": "code",
   "execution_count": 111,
   "metadata": {
    "collapsed": true
   },
   "outputs": [],
   "source": [
    "data_8 = data_comp_sub[data_comp_sub['time_8']==1.]"
   ]
  },
  {
   "cell_type": "code",
   "execution_count": 112,
   "metadata": {
    "collapsed": false
   },
   "outputs": [
    {
     "data": {
      "text/plain": [
       "<matplotlib.collections.PathCollection at 0x7f156be1a3d0>"
      ]
     },
     "execution_count": 112,
     "metadata": {},
     "output_type": "execute_result"
    },
    {
     "data": {
      "image/png": "[encoded data removed]",
      "text/plain": [
       "<matplotlib.figure.Figure at 0x7f156cb9f210>"
      ]
     },
     "metadata": {},
     "output_type": "display_data"
    }
   ],
   "source": [
    "plt.scatter(data_8.bikes_available,data_8.Count)"
   ]
  },
  {
   "cell_type": "code",
   "execution_count": 113,
   "metadata": {
    "collapsed": false
   },
   "outputs": [
    {
     "data": {
      "text/plain": [
       "<matplotlib.axes._subplots.AxesSubplot at 0x7f156be48d50>"
      ]
     },
     "execution_count": 113,
     "metadata": {},
     "output_type": "execute_result"
    },
    {
     "data": {
      "image/png": "[encoded data removed]",
      "text/plain": [
       "<matplotlib.figure.Figure at 0x7f156caac250>"
      ]
     },
     "metadata": {},
     "output_type": "display_data"
    }
   ],
   "source": [
    "(data_8.groupby('bikes_available')['Count'].sum() / data_8.groupby('bikes_available')['Count'].size()).plot(kind='bar')"
   ]
  },
  {
   "cell_type": "code",
   "execution_count": 114,
   "metadata": {
    "collapsed": false
   },
   "outputs": [
    {
     "data": {
      "text/plain": [
       "<matplotlib.axes._subplots.AxesSubplot at 0x7f156bd20710>"
      ]
     },
     "execution_count": 114,
     "metadata": {},
     "output_type": "execute_result"
    },
    {
     "data": {
      "image/png": "[encoded data removed]",
      "text/plain": [
       "<matplotlib.figure.Figure at 0x7f156d6c3050>"
      ]
     },
     "metadata": {},
     "output_type": "display_data"
    }
   ],
   "source": [
    "data_8.groupby('bikes_available')['Count'].size().plot(kind='bar')"
   ]
  },
  {
   "cell_type": "code",
   "execution_count": 124,
   "metadata": {
    "collapsed": false
   },
   "outputs": [
    {
     "data": {
      "text/html": [
       "<div>\n",
       "<table border=\"1\" class=\"dataframe\">\n",
       "  <thead>\n",
       "    <tr style=\"text-align: right;\">\n",
       "      <th></th>\n",
       "      <th>Trip ID</th>\n",
       "      <th>Duration</th>\n",
       "      <th>Start Date</th>\n",
       "      <th>Start Station</th>\n",
       "      <th>Start Terminal</th>\n",
       "      <th>End Date</th>\n",
       "      <th>End Station</th>\n",
       "      <th>End Terminal</th>\n",
       "      <th>Bike #</th>\n",
       "      <th>Subscriber Type</th>\n",
       "      <th>Zip Code</th>\n",
       "      <th>start_year</th>\n",
       "      <th>start_month</th>\n",
       "      <th>start_dayofweek</th>\n",
       "      <th>start_time</th>\n",
       "      <th>hour</th>\n",
       "      <th>start_time_hour</th>\n",
       "      <th>dayofweek</th>\n",
       "    </tr>\n",
       "  </thead>\n",
       "  <tbody>\n",
       "    <tr>\n",
       "      <th>1053</th>\n",
       "      <td>5178</td>\n",
       "      <td>638</td>\n",
       "      <td>2013-08-30 08:39:00</td>\n",
       "      <td>Harry Bridges Plaza (Ferry Building)</td>\n",
       "      <td>50</td>\n",
       "      <td>8/30/2013 8:50</td>\n",
       "      <td>Powell Street BART</td>\n",
       "      <td>39</td>\n",
       "      <td>564</td>\n",
       "      <td>Subscriber</td>\n",
       "      <td>94102</td>\n",
       "      <td>2013</td>\n",
       "      <td>8</td>\n",
       "      <td>4</td>\n",
       "      <td>08:39:00</td>\n",
       "      <td>8</td>\n",
       "      <td>2013-08-30 08:00:00</td>\n",
       "      <td>4</td>\n",
       "    </tr>\n",
       "    <tr>\n",
       "      <th>1075</th>\n",
       "      <td>5143</td>\n",
       "      <td>678</td>\n",
       "      <td>2013-08-30 08:02:00</td>\n",
       "      <td>Harry Bridges Plaza (Ferry Building)</td>\n",
       "      <td>50</td>\n",
       "      <td>8/30/2013 8:13</td>\n",
       "      <td>Embarcadero at Sansome</td>\n",
       "      <td>60</td>\n",
       "      <td>539</td>\n",
       "      <td>Subscriber</td>\n",
       "      <td>94110</td>\n",
       "      <td>2013</td>\n",
       "      <td>8</td>\n",
       "      <td>4</td>\n",
       "      <td>08:02:00</td>\n",
       "      <td>8</td>\n",
       "      <td>2013-08-30 08:00:00</td>\n",
       "      <td>4</td>\n",
       "    </tr>\n",
       "    <tr>\n",
       "      <th>1272</th>\n",
       "      <td>5163</td>\n",
       "      <td>1209</td>\n",
       "      <td>2013-08-30 08:24:00</td>\n",
       "      <td>Harry Bridges Plaza (Ferry Building)</td>\n",
       "      <td>50</td>\n",
       "      <td>8/30/2013 8:44</td>\n",
       "      <td>Embarcadero at Sansome</td>\n",
       "      <td>60</td>\n",
       "      <td>607</td>\n",
       "      <td>Customer</td>\n",
       "      <td>83714</td>\n",
       "      <td>2013</td>\n",
       "      <td>8</td>\n",
       "      <td>4</td>\n",
       "      <td>08:24:00</td>\n",
       "      <td>8</td>\n",
       "      <td>2013-08-30 08:00:00</td>\n",
       "      <td>4</td>\n",
       "    </tr>\n",
       "    <tr>\n",
       "      <th>1281</th>\n",
       "      <td>5149</td>\n",
       "      <td>1238</td>\n",
       "      <td>2013-08-30 08:08:00</td>\n",
       "      <td>Harry Bridges Plaza (Ferry Building)</td>\n",
       "      <td>50</td>\n",
       "      <td>8/30/2013 8:28</td>\n",
       "      <td>South Van Ness at Market</td>\n",
       "      <td>66</td>\n",
       "      <td>270</td>\n",
       "      <td>Subscriber</td>\n",
       "      <td>94945</td>\n",
       "      <td>2013</td>\n",
       "      <td>8</td>\n",
       "      <td>4</td>\n",
       "      <td>08:08:00</td>\n",
       "      <td>8</td>\n",
       "      <td>2013-08-30 08:00:00</td>\n",
       "      <td>4</td>\n",
       "    </tr>\n",
       "    <tr>\n",
       "      <th>1456</th>\n",
       "      <td>5182</td>\n",
       "      <td>36255</td>\n",
       "      <td>2013-08-30 08:42:00</td>\n",
       "      <td>Harry Bridges Plaza (Ferry Building)</td>\n",
       "      <td>50</td>\n",
       "      <td>8/30/2013 18:47</td>\n",
       "      <td>Harry Bridges Plaza (Ferry Building)</td>\n",
       "      <td>50</td>\n",
       "      <td>350</td>\n",
       "      <td>Customer</td>\n",
       "      <td>94707</td>\n",
       "      <td>2013</td>\n",
       "      <td>8</td>\n",
       "      <td>4</td>\n",
       "      <td>08:42:00</td>\n",
       "      <td>8</td>\n",
       "      <td>2013-08-30 08:00:00</td>\n",
       "      <td>4</td>\n",
       "    </tr>\n",
       "  </tbody>\n",
       "</table>\n",
       "</div>"
      ],
      "text/plain": [
       "      Trip ID  Duration          Start Date  \\\n",
       "1053     5178       638 2013-08-30 08:39:00   \n",
       "1075     5143       678 2013-08-30 08:02:00   \n",
       "1272     5163      1209 2013-08-30 08:24:00   \n",
       "1281     5149      1238 2013-08-30 08:08:00   \n",
       "1456     5182     36255 2013-08-30 08:42:00   \n",
       "\n",
       "                             Start Station  Start Terminal         End Date  \\\n",
       "1053  Harry Bridges Plaza (Ferry Building)              50   8/30/2013 8:50   \n",
       "1075  Harry Bridges Plaza (Ferry Building)              50   8/30/2013 8:13   \n",
       "1272  Harry Bridges Plaza (Ferry Building)              50   8/30/2013 8:44   \n",
       "1281  Harry Bridges Plaza (Ferry Building)              50   8/30/2013 8:28   \n",
       "1456  Harry Bridges Plaza (Ferry Building)              50  8/30/2013 18:47   \n",
       "\n",
       "                               End Station  End Terminal  Bike #  \\\n",
       "1053                    Powell Street BART            39     564   \n",
       "1075                Embarcadero at Sansome            60     539   \n",
       "1272                Embarcadero at Sansome            60     607   \n",
       "1281              South Van Ness at Market            66     270   \n",
       "1456  Harry Bridges Plaza (Ferry Building)            50     350   \n",
       "\n",
       "     Subscriber Type Zip Code  start_year  start_month  start_dayofweek  \\\n",
       "1053      Subscriber    94102        2013            8                4   \n",
       "1075      Subscriber    94110        2013            8                4   \n",
       "1272        Customer    83714        2013            8                4   \n",
       "1281      Subscriber    94945        2013            8                4   \n",
       "1456        Customer    94707        2013            8                4   \n",
       "\n",
       "     start_time  hour     start_time_hour  dayofweek  \n",
       "1053   08:39:00     8 2013-08-30 08:00:00          4  \n",
       "1075   08:02:00     8 2013-08-30 08:00:00          4  \n",
       "1272   08:24:00     8 2013-08-30 08:00:00          4  \n",
       "1281   08:08:00     8 2013-08-30 08:00:00          4  \n",
       "1456   08:42:00     8 2013-08-30 08:00:00          4  "
      ]
     },
     "execution_count": 124,
     "metadata": {},
     "output_type": "execute_result"
    }
   ],
   "source": [
    "trip_hbp_start[(trip_hbp_start.hour==8) & (trip_hbp_start.dayofweek<=4)].head()"
   ]
  },
  {
   "cell_type": "code",
   "execution_count": 120,
   "metadata": {
    "collapsed": false
   },
   "outputs": [
    {
     "name": "stderr",
     "output_type": "stream",
     "text": [
      "/home/kyohei/anaconda2/lib/python2.7/site-packages/ipykernel/__main__.py:1: SettingWithCopyWarning: \n",
      "A value is trying to be set on a copy of a slice from a DataFrame.\n",
      "Try using .loc[row_indexer,col_indexer] = value instead\n",
      "\n",
      "See the caveats in the documentation: http://pandas.pydata.org/pandas-docs/stable/indexing.html#indexing-view-versus-copy\n",
      "  if __name__ == '__main__':\n"
     ]
    }
   ],
   "source": [
    "trip_hbp_start['dayofweek'] = trip_hbp_start['Start Date'].apply(lambda x:x.dayofweek)"
   ]
  },
  {
   "cell_type": "code",
   "execution_count": 123,
   "metadata": {
    "collapsed": false
   },
   "outputs": [
    {
     "data": {
      "text/plain": [
       "Subscriber    11456\n",
       "Customer        338\n",
       "Name: Subscriber Type, dtype: int64"
      ]
     },
     "execution_count": 123,
     "metadata": {},
     "output_type": "execute_result"
    }
   ],
   "source": [
    "trip_hbp_start[(trip_hbp_start.hour==8) & (trip_hbp_start.dayofweek<=4)]['Subscriber Type'].value_counts()"
   ]
  },
  {
   "cell_type": "code",
   "execution_count": 127,
   "metadata": {
    "collapsed": false
   },
   "outputs": [
    {
     "data": {
      "text/plain": [
       "15.39686684073107"
      ]
     },
     "execution_count": 127,
     "metadata": {},
     "output_type": "execute_result"
    }
   ],
   "source": [
    "trip_hbp_start[(trip_hbp_start.hour==8) & (trip_hbp_start.dayofweek<=4)].groupby('start_time_hour').size().mean()"
   ]
  },
  {
   "cell_type": "code",
   "execution_count": null,
   "metadata": {
    "collapsed": true
   },
   "outputs": [],
   "source": []
  }
 ],
 "metadata": {
  "anaconda-cloud": {},
  "kernelspec": {
   "display_name": "Python [conda root]",
   "language": "python",
   "name": "conda-root-py"
  },
  "language_info": {
   "codemirror_mode": {
    "name": "ipython",
    "version": 2
   },
   "file_extension": ".py",
   "mimetype": "text/x-python",
   "name": "python",
   "nbconvert_exporter": "python",
   "pygments_lexer": "ipython2",
   "version": "2.7.12"
  }
 },
 "nbformat": 4,
 "nbformat_minor": 1
}
