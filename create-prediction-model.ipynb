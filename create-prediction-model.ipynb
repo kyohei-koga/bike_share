{
 "cells": [
  {
   "cell_type": "code",
   "execution_count": 1,
   "metadata": {
    "collapsed": true
   },
   "outputs": [],
   "source": [
    "import pandas as pd\n",
    "import numpy as np\n",
    "import matplotlib.pyplot as plt\n",
    "import seaborn as sns\n",
    "import datetime\n",
    "from sklearn.cross_validation import train_test_split\n",
    "from sklearn.preprocessing import StandardScaler\n",
    "from sklearn.ensemble import RandomForestRegressor\n",
    "%matplotlib inline"
   ]
  },
  {
   "cell_type": "markdown",
   "metadata": {},
   "source": [
    "# データの準備"
   ]
  },
  {
   "cell_type": "markdown",
   "metadata": {},
   "source": [
    "### ステーションデータ"
   ]
  },
  {
   "cell_type": "code",
   "execution_count": 8,
   "metadata": {
    "collapsed": true
   },
   "outputs": [],
   "source": [
    "#ステーションデータ\n",
    "station = pd.read_csv('/home/kyohei/bike_share_data/201608_station_data.csv')\n",
    "\n",
    "station_SF = station[station['landmark']=='San Francisco']\n",
    "\n",
    "#サンフランシスコに限定\n",
    "station_SF_sub = station_SF[['station_id']]"
   ]
  },
  {
   "cell_type": "code",
   "execution_count": 238,
   "metadata": {
    "collapsed": true
   },
   "outputs": [],
   "source": [
    "#サンフランシスコのステーションID\n",
    "station_id = station_SF_sub.station_id.astype(int)[:-2]"
   ]
  },
  {
   "cell_type": "markdown",
   "metadata": {},
   "source": [
    "### トリップデータ"
   ]
  },
  {
   "cell_type": "code",
   "execution_count": 2,
   "metadata": {
    "collapsed": true
   },
   "outputs": [],
   "source": [
    "#トリップデータ\n",
    "trip = pd.read_csv('/home/kyohei/bike_share_data/201608_trip_data.csv')"
   ]
  },
  {
   "cell_type": "code",
   "execution_count": 10,
   "metadata": {
    "collapsed": true
   },
   "outputs": [],
   "source": [
    "#tripデータをsanfransiscoに限定\n",
    "trip_SF_start = trip.merge(station_SF_sub,left_on='Start Terminal',right_on='station_id')\n",
    "trip_SF_end = trip.merge(station_SF_sub,left_on='End Terminal',right_on='station_id')"
   ]
  },
  {
   "cell_type": "code",
   "execution_count": 221,
   "metadata": {
    "collapsed": false
   },
   "outputs": [],
   "source": [
    "#スタートデータの変換\n",
    "trip_SF_start['Start Date'] = trip_SF_start['Start Date'].apply(lambda x:pd.to_datetime(x))\n",
    "trip_SF_start['start_time_hour'] = trip_SF_start['Start Date'].apply(lambda x:datetime.datetime(x.year,x.month,x.day,x.hour))\n",
    "\n",
    "#エンドデータの変換\n",
    "trip_SF_end['End Date'] = trip_SF_end['End Date'].apply(lambda x:pd.to_datetime(x))\n",
    "trip_SF_end['end_time_hour'] = trip_SF_end['End Date'].apply(lambda x:datetime.datetime(x.year,x.month,x.day,x.hour))"
   ]
  },
  {
   "cell_type": "markdown",
   "metadata": {},
   "source": [
    "### 天気データ"
   ]
  },
  {
   "cell_type": "code",
   "execution_count": 13,
   "metadata": {
    "collapsed": true
   },
   "outputs": [],
   "source": [
    "#天気データ\n",
    "weather = pd.read_csv('/home/kyohei/bike_share_data/201608_weather_data.csv')"
   ]
  },
  {
   "cell_type": "code",
   "execution_count": 14,
   "metadata": {
    "collapsed": false
   },
   "outputs": [],
   "source": [
    "#dateの変換\n",
    "weather['PDT'] = weather['PDT'].apply(lambda x:pd.to_datetime(x))\n",
    "\n",
    "#カラムの表示を修正\n",
    "weather.columns = weather.columns.str.strip()\n",
    "\n",
    "#サンフランシスコのデータに限定\n",
    "weather_SF = weather[weather.ZIP==95113]"
   ]
  },
  {
   "cell_type": "code",
   "execution_count": 242,
   "metadata": {
    "collapsed": true
   },
   "outputs": [
    {
     "name": "stderr",
     "output_type": "stream",
     "text": [
      "/home/kyohei/anaconda2/lib/python2.7/site-packages/ipykernel/__main__.py:4: SettingWithCopyWarning: \n",
      "A value is trying to be set on a copy of a slice from a DataFrame.\n",
      "Try using .loc[row_indexer,col_indexer] = value instead\n",
      "\n",
      "See the caveats in the documentation: http://pandas.pydata.org/pandas-docs/stable/indexing.html#indexing-view-versus-copy\n"
     ]
    }
   ],
   "source": [
    "#天気データの一部の変換\n",
    "T_mapping = {'T':0}\n",
    "f = lambda x:T_mapping.get(x,x)\n",
    "weather_SF['PrecipitationIn'] = weather_SF.PrecipitationIn.map(f).astype(float)"
   ]
  },
  {
   "cell_type": "code",
   "execution_count": 245,
   "metadata": {
    "collapsed": false
   },
   "outputs": [],
   "source": [
    "#weatherのダミー変数化\n",
    "event_dummy = pd.get_dummies(weather_SF.Events)\n",
    "\n",
    "weather_SF_mod = pd.concat([weather_SF,event_dummy],axis=1)\n",
    "\n",
    "#いらないデータを落とす\n",
    "weather_SF_sub = weather_SF_mod[['PDT','PrecipitationIn','CloudCover','Fog','Fog-Rain','Rain','Rain-Thunderstorm']]\n",
    "\n",
    "#前日データ\n",
    "weather_SF_sub_yesterday = pd.concat([weather_SF_sub[['PDT']],weather_SF_sub.shift(1).drop(['PDT'],axis=1)],axis=1).dropna()"
   ]
  },
  {
   "cell_type": "markdown",
   "metadata": {},
   "source": [
    "### 関数の作成"
   ]
  },
  {
   "cell_type": "code",
   "execution_count": 247,
   "metadata": {
    "collapsed": true
   },
   "outputs": [],
   "source": [
    "#statusデータの変換\n",
    "def status_translate(status):\n",
    "    status['time'] = status['time'].apply(lambda x:pd.to_datetime(x))\n",
    "    \n",
    "    status['time'] = status['time'].apply(lambda x:datetime.datetime(x.year,x.month,x.day,x.hour))\n",
    "    \n",
    "    return status"
   ]
  },
  {
   "cell_type": "markdown",
   "metadata": {},
   "source": [
    "### For文のスタート"
   ]
  },
  {
   "cell_type": "code",
   "execution_count": 337,
   "metadata": {
    "collapsed": false,
    "scrolled": true
   },
   "outputs": [],
   "source": [
    "scores = []\n",
    "for number in station_id:\n",
    "    folder = '/home/kyohei/bike_share/data_split_2015/San Francisco_station_status_stid%d.csv' %number\n",
    "    status = pd.read_csv(folder)\n",
    "    \n",
    "    status = status_translate(status)\n",
    "    \n",
    "    #データの抽出\n",
    "    trip_start_target = trip_SF_start[trip_SF_start['station_id']==number]\n",
    "    \n",
    "    trip_end_target = trip_SF_end[trip_SF_end['station_id']==number]\n",
    "    \n",
    "    #目的変数の作成\n",
    "    target_start = pd.DataFrame(trip_start_target.groupby('start_time_hour').size()).reset_index()\n",
    "    target_start.rename(columns={0:'count'},inplace=True)\n",
    "    \n",
    "    target_end = pd.DataFrame(trip_end_target.groupby('end_time_hour').size()).reset_index()\n",
    "    target_end.rename(columns={0:'count'},inplace=True)\n",
    "    \n",
    "    #statusデータの手入れ\n",
    "    #bikes_available,docks_availableが0になるかどうか\n",
    "    status['bikes_available_0'] = (status['bikes_available']==0).astype(int)\n",
    "    status['docks_available_0'] = (status['docks_available']==0).astype(int)\n",
    "    \n",
    "    #1時間のうちにavailable bikes,abailable docksが0になる回数、1回1分\n",
    "    status_sub_bikes = pd.DataFrame(status.groupby(['time'])['bikes_available_0'].sum()).reset_index()\n",
    "    status_sub_docks = pd.DataFrame(status.groupby(['time'])['docks_available_0'].sum()).reset_index()\n",
    "    \n",
    "    #statusのデータに曜日、時間を付加\n",
    "    weekday = {0:'monday',1:'tuseday',2:'wednseday',3:'thursday',4:'friday',5:'saturday',6:'sunday'}\n",
    "    \n",
    "    status_sub_bikes['dayofweek'] = status_sub_bikes['time'].apply(lambda x:x.dayofweek)\n",
    "    status_sub_bikes['dayofweek'] = status_sub_bikes['dayofweek'].map(weekday)\n",
    "    \n",
    "    status_sub_docks['dayofweek'] = status_sub_docks['time'].apply(lambda x:x.dayofweek)\n",
    "    status_sub_docks['dayofweek'] = status_sub_docks['dayofweek'].map(weekday)\n",
    "    \n",
    "    status_sub_bikes['hour'] = status_sub_bikes['time'].apply(lambda x:x.hour)\n",
    "    status_sub_docks['hour'] = status_sub_docks['time'].apply(lambda x:x.hour)\n",
    "    \n",
    "    ##status_sub_bikes['day'] = status_sub_bikes['time'].apply(lambda x:x.date())\n",
    "    ##status_sub_docks['day'] = status_sub_docks['time'].apply(lambda x:x.date())\n",
    "    \n",
    "    #ダミー変数作成\n",
    "    #時間\n",
    "    dummy_hour_bikes = pd.get_dummies(status_sub_bikes.hour,prefix='time')\n",
    "    dummy_hour_docks = pd.get_dummies(status_sub_docks.hour,prefix='time')\n",
    "    \n",
    "    #曜日\n",
    "    dummy_weekday_bikes = pd.get_dummies(status_sub_bikes.dayofweek)\n",
    "    dummy_weekday_docks = pd.get_dummies(status_sub_docks.dayofweek)\n",
    "    \n",
    "    #学習データの作成\n",
    "    status_train_bikes = pd.concat([dummy_hour_bikes,dummy_weekday_bikes,status_sub_bikes[['time','bikes_available_0']]],axis=1).dropna()\n",
    "    status_train_docks = pd.concat([dummy_hour_docks,dummy_weekday_docks,status_sub_docks[['time','docks_available_0']]],axis=1).dropna()\n",
    "    \n",
    "    #日付の付与\n",
    "    status_train_bikes['day'] = status_train_bikes['time'].apply(lambda x:datetime.datetime(x.year,x.month,x.day))\n",
    "    status_train_docks['day'] = status_train_docks['time'].apply(lambda x:datetime.datetime(x.year,x.month,x.day))\n",
    "    \n",
    "    \n",
    "    data_bikes = status_train_bikes.merge(weather_SF_sub_yesterday,left_on='day',right_on='PDT',how='inner')\n",
    "    data_docks = status_train_docks.merge(weather_SF_sub_yesterday,left_on='day',right_on='PDT',how='inner')\n",
    "    \n",
    "    data_comp_bikes = data_bikes.merge(target_start,left_on='time',right_on='start_time_hour',how='left')\n",
    "    data_comp_docks = data_docks.merge(target_end,left_on='time',right_on='end_time_hour',how='left')\n",
    "    \n",
    "    data_comp_sub_bikes = data_comp_bikes.drop(['time','day','PDT','start_time_hour'],axis=1)\n",
    "    data_comp_sub_docks = data_comp_docks.drop(['time','day','PDT','end_time_hour'],axis=1)\n",
    "    \n",
    "    data_comp_sub_bikes.fillna(0,inplace=True)\n",
    "    data_comp_sub_docks.fillna(0,inplace=True)\n",
    "    \n",
    "    #学習データの完成\n",
    "    data_comp_sub_bikes = data_comp_sub_bikes[data_comp_sub_bikes.bikes_available_0<10]\n",
    "    data_comp_sub_docks = data_comp_sub_docks[data_comp_sub_docks.docks_available_0<10]\n",
    "    \n",
    "    \n",
    "    y_bikes = data_comp_sub_bikes['count']\n",
    "    X_bikes = data_comp_sub_bikes.drop('count',axis=1)\n",
    "    \n",
    "    y_docks = data_comp_sub_docks['count']\n",
    "    X_docks = data_comp_sub_docks.drop('count',axis=1)\n",
    "    \n",
    "    X_bikes_train,X_bikes_test,y_bikes_train,y_bikes_test = train_test_split(X_bikes,y_bikes,random_state=0)\n",
    "    X_docks_train,X_docks_test,y_docks_train,y_docks_test = train_test_split(X_docks,y_docks,random_state=0)\n",
    "    \n",
    "    #標準化\n",
    "    std_bikes = StandardScaler()\n",
    "    std_docks = StandardScaler()\n",
    "    \n",
    "    std_bikes.fit(X_bikes_train)\n",
    "    X_bikes_train_std = std_bikes.transform(X_bikes_train)\n",
    "    X_bikes_test_std = std_bikes.transform(X_bikes_test)\n",
    "    \n",
    "    std_docks.fit(X_docks_train)\n",
    "    X_docks_train_std = std_docks.transform(X_docks_train)\n",
    "    X_docks_test_std = std_docks.transform(X_docks_test)\n",
    "    \n",
    "    clf_bikes = RandomForestRegressor(n_estimators=20,n_jobs=-1)\n",
    "    clf_docks = RandomForestRegressor(n_estimators=20,n_jobs=-1)\n",
    "    \n",
    "    clf_bikes.fit(X_bikes_train_std,y_bikes_train)\n",
    "    clf_docks.fit(X_docks_train_std,y_docks_train)\n",
    "    \n",
    "    scores.append([number,\n",
    "                   clf_bikes.score(X_bikes_train_std,y_bikes_train),\n",
    "                   clf_bikes.score(X_bikes_test_std,y_bikes_test),\n",
    "                   clf_docks.score(X_docks_train_std,y_docks_train),\n",
    "                   clf_docks.score(X_docks_test_std,y_docks_test)\n",
    "                  ])\n",
    "    "
   ]
  },
  {
   "cell_type": "code",
   "execution_count": 340,
   "metadata": {
    "collapsed": false
   },
   "outputs": [],
   "source": [
    "scores = pd.DataFrame(scores)"
   ]
  },
  {
   "cell_type": "code",
   "execution_count": 341,
   "metadata": {
    "collapsed": true
   },
   "outputs": [],
   "source": [
    "scores.columns = ['station_id','lend_bikes_model_train','lend_bikes_model_test','return_bikes_model_train','return_bikes_model_test']"
   ]
  },
  {
   "cell_type": "code",
   "execution_count": 347,
   "metadata": {
    "collapsed": false
   },
   "outputs": [],
   "source": [
    "start_count = pd.DataFrame(trip_SF_start.groupby('Start Terminal').size()).reset_index()\n",
    "end_count = pd.DataFrame(trip_SF_start.groupby('End Terminal').size()).reset_index()"
   ]
  },
  {
   "cell_type": "code",
   "execution_count": 349,
   "metadata": {
    "collapsed": false
   },
   "outputs": [],
   "source": [
    "start_count.rename(columns={0:'start_count'},inplace=True)\n",
    "end_count.rename(columns={0:'end_count'},inplace=True)"
   ]
  },
  {
   "cell_type": "code",
   "execution_count": 350,
   "metadata": {
    "collapsed": true
   },
   "outputs": [],
   "source": [
    "count_merge = start_count.merge(end_count,left_on='Start Terminal',right_on='End Terminal')"
   ]
  },
  {
   "cell_type": "code",
   "execution_count": 352,
   "metadata": {
    "collapsed": false
   },
   "outputs": [],
   "source": [
    "scores_count_merge = scores.merge(count_merge,left_on='station_id',right_on='Start Terminal',how='inner')"
   ]
  },
  {
   "cell_type": "code",
   "execution_count": 367,
   "metadata": {
    "collapsed": false
   },
   "outputs": [],
   "source": [
    "a = scores_count_merge.drop(['Start Terminal','End Terminal'],axis=1)"
   ]
  },
  {
   "cell_type": "code",
   "execution_count": 368,
   "metadata": {
    "collapsed": true
   },
   "outputs": [],
   "source": [
    "a.to_excel('machine_laerning_result.xlsm',index=False)"
   ]
  },
  {
   "cell_type": "code",
   "execution_count": 366,
   "metadata": {
    "collapsed": false
   },
   "outputs": [
    {
     "data": {
      "text/plain": [
       "([<matplotlib.axis.YTick at 0x7ff856f18c50>,\n",
       "  <matplotlib.axis.YTick at 0x7ff856f18dd0>,\n",
       "  <matplotlib.axis.YTick at 0x7ff856e95e10>,\n",
       "  <matplotlib.axis.YTick at 0x7ff856e98390>,\n",
       "  <matplotlib.axis.YTick at 0x7ff856e989d0>,\n",
       "  <matplotlib.axis.YTick at 0x7ff856ea8190>,\n",
       "  <matplotlib.axis.YTick at 0x7ff856ea8910>],\n",
       " <a list of 7 Text yticklabel objects>)"
      ]
     },
     "execution_count": 366,
     "metadata": {},
     "output_type": "execute_result"
    },
    {
     "data": {
      "image/png": "[encoded data removed]",
      "text/plain": [
       "<matplotlib.figure.Figure at 0x7ff857043e50>"
      ]
     },
     "metadata": {},
     "output_type": "display_data"
    }
   ],
   "source": [
    "scores_count_merge.plot(y='lend_bikes_model_test',x='start_count',kind='scatter')\n",
    "plt.xlabel('')\n",
    "plt.ylabel('')\n",
    "plt.ylim([-0.2,1.0])\n",
    "plt.yticks([-0.2,0.0,0.2,0.4,0.6,0.8,1.0])"
   ]
  },
  {
   "cell_type": "code",
   "execution_count": 362,
   "metadata": {
    "collapsed": false
   },
   "outputs": [
    {
     "data": {
      "text/plain": [
       "<matplotlib.text.Text at 0x7ff8571de910>"
      ]
     },
     "execution_count": 362,
     "metadata": {},
     "output_type": "execute_result"
    },
    {
     "data": {
      "image/png": "[encoded data removed]",
      "text/plain": [
       "<matplotlib.figure.Figure at 0x7ff857372550>"
      ]
     },
     "metadata": {},
     "output_type": "display_data"
    }
   ],
   "source": [
    "scores_count_merge.plot(y='return_bikes_model_test',x='end_count',kind='scatter')\n",
    "plt.xlabel('')\n",
    "plt.ylabel('')"
   ]
  },
  {
   "cell_type": "code",
   "execution_count": null,
   "metadata": {
    "collapsed": true
   },
   "outputs": [],
   "source": []
  }
 ],
 "metadata": {
  "anaconda-cloud": {},
  "kernelspec": {
   "display_name": "Python [conda root]",
   "language": "python",
   "name": "conda-root-py"
  },
  "language_info": {
   "codemirror_mode": {
    "name": "ipython",
    "version": 2
   },
   "file_extension": ".py",
   "mimetype": "text/x-python",
   "name": "python",
   "nbconvert_exporter": "python",
   "pygments_lexer": "ipython2",
   "version": "2.7.12"
  }
 },
 "nbformat": 4,
 "nbformat_minor": 1
}
