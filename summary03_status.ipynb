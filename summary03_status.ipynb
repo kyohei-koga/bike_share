{
 "cells": [
  {
   "cell_type": "code",
   "execution_count": 1,
   "metadata": {
    "collapsed": true
   },
   "outputs": [],
   "source": [
    "import pandas as pd\n",
    "import numpy as np\n",
    "import matplotlib.pyplot as plt\n",
    "import seaborn as sns\n",
    "%matplotlib inline"
   ]
  },
  {
   "cell_type": "code",
   "execution_count": 2,
   "metadata": {
    "collapsed": true
   },
   "outputs": [],
   "source": [
    "status = pd.read_csv('/home/kyohei/bike_share_data/201608_status_data.csv')"
   ]
  },
  {
   "cell_type": "code",
   "execution_count": 3,
   "metadata": {
    "collapsed": false
   },
   "outputs": [
    {
     "name": "stdout",
     "output_type": "stream",
     "text": [
      "<class 'pandas.core.frame.DataFrame'>\n",
      "RangeIndex: 35517185 entries, 0 to 35517184\n",
      "Data columns (total 4 columns):\n",
      "station_id         int64\n",
      "bikes_available    int64\n",
      "docks_available    int64\n",
      "time               object\n",
      "dtypes: int64(3), object(1)\n",
      "memory usage: 1.1+ GB\n"
     ]
    }
   ],
   "source": [
    "status.info()"
   ]
  },
  {
   "cell_type": "code",
   "execution_count": 4,
   "metadata": {
    "collapsed": false
   },
   "outputs": [
    {
     "data": {
      "text/html": [
       "<div>\n",
       "<table border=\"1\" class=\"dataframe\">\n",
       "  <thead>\n",
       "    <tr style=\"text-align: right;\">\n",
       "      <th></th>\n",
       "      <th>station_id</th>\n",
       "      <th>bikes_available</th>\n",
       "      <th>docks_available</th>\n",
       "      <th>time</th>\n",
       "    </tr>\n",
       "  </thead>\n",
       "  <tbody>\n",
       "    <tr>\n",
       "      <th>0</th>\n",
       "      <td>2</td>\n",
       "      <td>18</td>\n",
       "      <td>9</td>\n",
       "      <td>9/1/2015 00:00:02</td>\n",
       "    </tr>\n",
       "    <tr>\n",
       "      <th>1</th>\n",
       "      <td>2</td>\n",
       "      <td>18</td>\n",
       "      <td>9</td>\n",
       "      <td>9/1/2015 00:01:02</td>\n",
       "    </tr>\n",
       "    <tr>\n",
       "      <th>2</th>\n",
       "      <td>2</td>\n",
       "      <td>18</td>\n",
       "      <td>9</td>\n",
       "      <td>9/1/2015 00:02:02</td>\n",
       "    </tr>\n",
       "    <tr>\n",
       "      <th>3</th>\n",
       "      <td>2</td>\n",
       "      <td>18</td>\n",
       "      <td>9</td>\n",
       "      <td>9/1/2015 00:03:03</td>\n",
       "    </tr>\n",
       "    <tr>\n",
       "      <th>4</th>\n",
       "      <td>2</td>\n",
       "      <td>18</td>\n",
       "      <td>9</td>\n",
       "      <td>9/1/2015 00:04:02</td>\n",
       "    </tr>\n",
       "  </tbody>\n",
       "</table>\n",
       "</div>"
      ],
      "text/plain": [
       "   station_id  bikes_available  docks_available               time\n",
       "0           2               18                9  9/1/2015 00:00:02\n",
       "1           2               18                9  9/1/2015 00:01:02\n",
       "2           2               18                9  9/1/2015 00:02:02\n",
       "3           2               18                9  9/1/2015 00:03:03\n",
       "4           2               18                9  9/1/2015 00:04:02"
      ]
     },
     "execution_count": 4,
     "metadata": {},
     "output_type": "execute_result"
    }
   ],
   "source": [
    "status.head()"
   ]
  },
  {
   "cell_type": "markdown",
   "metadata": {},
   "source": [
    "# スタートが多いステーション\n",
    "- 70,San Francisco Caltrain\n",
    "- 69,San Francisco Caltrain 2\n",
    "- 50,Harry Bridges Plaza"
   ]
  },
  {
   "cell_type": "code",
   "execution_count": 5,
   "metadata": {
    "collapsed": true
   },
   "outputs": [],
   "source": [
    "SF_cal = status[status.station_id==70]\n",
    "SF_cal_2 = status[status.station_id==69]\n",
    "HB_plaza = status[status.station_id==50]"
   ]
  },
  {
   "cell_type": "code",
   "execution_count": 6,
   "metadata": {
    "collapsed": false
   },
   "outputs": [
    {
     "data": {
      "text/html": [
       "<div>\n",
       "<table border=\"1\" class=\"dataframe\">\n",
       "  <thead>\n",
       "    <tr style=\"text-align: right;\">\n",
       "      <th></th>\n",
       "      <th>station_id</th>\n",
       "      <th>bikes_available</th>\n",
       "      <th>docks_available</th>\n",
       "      <th>time</th>\n",
       "    </tr>\n",
       "  </thead>\n",
       "  <tbody>\n",
       "    <tr>\n",
       "      <th>29412951</th>\n",
       "      <td>70</td>\n",
       "      <td>15</td>\n",
       "      <td>4</td>\n",
       "      <td>9/1/2015 00:00:02</td>\n",
       "    </tr>\n",
       "    <tr>\n",
       "      <th>29412952</th>\n",
       "      <td>70</td>\n",
       "      <td>15</td>\n",
       "      <td>4</td>\n",
       "      <td>9/1/2015 00:01:02</td>\n",
       "    </tr>\n",
       "    <tr>\n",
       "      <th>29412953</th>\n",
       "      <td>70</td>\n",
       "      <td>15</td>\n",
       "      <td>4</td>\n",
       "      <td>9/1/2015 00:02:02</td>\n",
       "    </tr>\n",
       "    <tr>\n",
       "      <th>29412954</th>\n",
       "      <td>70</td>\n",
       "      <td>15</td>\n",
       "      <td>4</td>\n",
       "      <td>9/1/2015 00:03:03</td>\n",
       "    </tr>\n",
       "    <tr>\n",
       "      <th>29412955</th>\n",
       "      <td>70</td>\n",
       "      <td>15</td>\n",
       "      <td>4</td>\n",
       "      <td>9/1/2015 00:04:02</td>\n",
       "    </tr>\n",
       "  </tbody>\n",
       "</table>\n",
       "</div>"
      ],
      "text/plain": [
       "          station_id  bikes_available  docks_available               time\n",
       "29412951          70               15                4  9/1/2015 00:00:02\n",
       "29412952          70               15                4  9/1/2015 00:01:02\n",
       "29412953          70               15                4  9/1/2015 00:02:02\n",
       "29412954          70               15                4  9/1/2015 00:03:03\n",
       "29412955          70               15                4  9/1/2015 00:04:02"
      ]
     },
     "execution_count": 6,
     "metadata": {},
     "output_type": "execute_result"
    }
   ],
   "source": [
    "SF_cal.head()"
   ]
  },
  {
   "cell_type": "markdown",
   "metadata": {},
   "source": [
    "# スタートが平均的なステーション\n",
    "- 51,Embarcadero as Folsom\n",
    "- 62,2nd as Folsom\n",
    "- 56,Beale as Market"
   ]
  },
  {
   "cell_type": "markdown",
   "metadata": {},
   "source": [
    "# スタートが少ないステーション\n",
    "- 91,Cyril Magnin St as Ellis St\n",
    "- 90,5th St as Folsom St\n",
    "- 58,San Francisco City Hall"
   ]
  },
  {
   "cell_type": "markdown",
   "metadata": {},
   "source": [
    "# 返却が多いステーション\n",
    "- スタートが多い場合と一緒なので省略"
   ]
  },
  {
   "cell_type": "markdown",
   "metadata": {},
   "source": [
    "# 返却が平均的なステーション\n",
    "- 51,Embarcadero as Folsom←スタートが平均的な時と一緒\n",
    "- 64,2nd at South Park\n",
    "- 39,Powell Street BART"
   ]
  },
  {
   "cell_type": "markdown",
   "metadata": {},
   "source": [
    "# スタートが少ないステーション\n",
    "- スタートの場合と一緒なので省略"
   ]
  },
  {
   "cell_type": "code",
   "execution_count": null,
   "metadata": {
    "collapsed": true
   },
   "outputs": [],
   "source": []
  }
 ],
 "metadata": {
  "anaconda-cloud": {},
  "kernelspec": {
   "display_name": "Python [default]",
   "language": "python",
   "name": "python2"
  },
  "language_info": {
   "codemirror_mode": {
    "name": "ipython",
    "version": 2
   },
   "file_extension": ".py",
   "mimetype": "text/x-python",
   "name": "python",
   "nbconvert_exporter": "python",
   "pygments_lexer": "ipython2",
   "version": "2.7.12"
  }
 },
 "nbformat": 4,
 "nbformat_minor": 1
}
