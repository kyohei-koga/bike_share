{
 "cells": [
  {
   "cell_type": "code",
   "execution_count": 1,
   "metadata": {
    "collapsed": true
   },
   "outputs": [],
   "source": [
    "import pandas as pd\n",
    "import numpy as np\n",
    "import matplotlib.pyplot as plt\n",
    "%matplotlib inline"
   ]
  },
  {
   "cell_type": "code",
   "execution_count": 2,
   "metadata": {
    "collapsed": true
   },
   "outputs": [],
   "source": [
    "trip1 = pd.read_csv('/home/kyohei/bike_share_data/201402_babs_open_data/201402_trip_data.csv')\n",
    "trip2 = pd.read_csv('/home/kyohei/bike_share_data/201408_babs_open_data/201408_trip_data.csv')\n",
    "trip3 = pd.read_csv('/home/kyohei/bike_share_data/201508_trip_data.csv')\n",
    "trip4 = pd.read_csv('/home/kyohei/bike_share_data/201608_trip_data.csv')"
   ]
  },
  {
   "cell_type": "code",
   "execution_count": 3,
   "metadata": {
    "collapsed": false
   },
   "outputs": [],
   "source": [
    "trip1.rename(columns={'Subscription Type':'Subscriber Type'},inplace=True)"
   ]
  },
  {
   "cell_type": "code",
   "execution_count": 4,
   "metadata": {
    "collapsed": false
   },
   "outputs": [],
   "source": [
    "trip = pd.concat([trip1,trip2,trip3,trip4],axis=0,ignore_index=True)"
   ]
  },
  {
   "cell_type": "code",
   "execution_count": 5,
   "metadata": {
    "collapsed": false
   },
   "outputs": [
    {
     "name": "stdout",
     "output_type": "stream",
     "text": [
      "<class 'pandas.core.frame.DataFrame'>\n",
      "RangeIndex: 983648 entries, 0 to 983647\n",
      "Data columns (total 11 columns):\n",
      "Trip ID            983648 non-null int64\n",
      "Duration           983648 non-null int64\n",
      "Start Date         983648 non-null object\n",
      "Start Station      983648 non-null object\n",
      "Start Terminal     983648 non-null int64\n",
      "End Date           983648 non-null object\n",
      "End Station        983648 non-null object\n",
      "End Terminal       983648 non-null int64\n",
      "Bike #             983648 non-null int64\n",
      "Subscriber Type    983648 non-null object\n",
      "Zip Code           976838 non-null object\n",
      "dtypes: int64(5), object(6)\n",
      "memory usage: 82.6+ MB\n"
     ]
    }
   ],
   "source": [
    "trip.info()"
   ]
  },
  {
   "cell_type": "code",
   "execution_count": 18,
   "metadata": {
    "collapsed": true
   },
   "outputs": [],
   "source": [
    "trip.to_csv('trip_all.csv')"
   ]
  }
 ],
 "metadata": {
  "anaconda-cloud": {},
  "kernelspec": {
   "display_name": "Python [conda root]",
   "language": "python",
   "name": "conda-root-py"
  },
  "language_info": {
   "codemirror_mode": {
    "name": "ipython",
    "version": 2
   },
   "file_extension": ".py",
   "mimetype": "text/x-python",
   "name": "python",
   "nbconvert_exporter": "python",
   "pygments_lexer": "ipython2",
   "version": "2.7.12"
  }
 },
 "nbformat": 4,
 "nbformat_minor": 1
}
