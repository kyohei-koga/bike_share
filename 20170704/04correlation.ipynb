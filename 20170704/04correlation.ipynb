{
 "cells": [
  {
   "cell_type": "code",
   "execution_count": 1,
   "metadata": {
    "collapsed": true
   },
   "outputs": [],
   "source": [
    "import pandas as pd\n",
    "import numpy as np\n",
    "import matplotlib.pyplot as plt\n",
    "import datetime\n",
    "import seaborn as sns\n",
    "from sklearn.linear_model import LinearRegression\n",
    "%matplotlib inline"
   ]
  },
  {
   "cell_type": "markdown",
   "metadata": {},
   "source": [
    "# trip"
   ]
  },
  {
   "cell_type": "code",
   "execution_count": 2,
   "metadata": {
    "collapsed": true
   },
   "outputs": [],
   "source": [
    "trip = pd.read_csv('/home/kyohei/bike_share_data/trip_all.csv')"
   ]
  },
  {
   "cell_type": "code",
   "execution_count": 3,
   "metadata": {
    "collapsed": false
   },
   "outputs": [],
   "source": [
    "trip_sub_start = trip[trip['Start Terminal']==69]\n",
    "trip_sub_end = trip[trip['End Terminal']==69]"
   ]
  },
  {
   "cell_type": "code",
   "execution_count": 4,
   "metadata": {
    "collapsed": false
   },
   "outputs": [
    {
     "data": {
      "text/html": [
       "<div>\n",
       "<table border=\"1\" class=\"dataframe\">\n",
       "  <thead>\n",
       "    <tr style=\"text-align: right;\">\n",
       "      <th></th>\n",
       "      <th>Trip ID</th>\n",
       "      <th>Duration</th>\n",
       "      <th>Start Date</th>\n",
       "      <th>Start Station</th>\n",
       "      <th>Start Terminal</th>\n",
       "      <th>End Date</th>\n",
       "      <th>End Station</th>\n",
       "      <th>End Terminal</th>\n",
       "      <th>Bike #</th>\n",
       "      <th>Subscriber Type</th>\n",
       "      <th>Zip Code</th>\n",
       "    </tr>\n",
       "  </thead>\n",
       "  <tbody>\n",
       "    <tr>\n",
       "      <th>54</th>\n",
       "      <td>5074</td>\n",
       "      <td>216</td>\n",
       "      <td>8/29/2013 21:45</td>\n",
       "      <td>San Francisco Caltrain 2 (330 Townsend)</td>\n",
       "      <td>69</td>\n",
       "      <td>8/29/2013 21:49</td>\n",
       "      <td>San Francisco Caltrain 2 (330 Townsend)</td>\n",
       "      <td>69</td>\n",
       "      <td>268</td>\n",
       "      <td>Subscriber</td>\n",
       "      <td>94133</td>\n",
       "    </tr>\n",
       "    <tr>\n",
       "      <th>71</th>\n",
       "      <td>4668</td>\n",
       "      <td>243</td>\n",
       "      <td>8/29/2013 15:39</td>\n",
       "      <td>San Francisco Caltrain 2 (330 Townsend)</td>\n",
       "      <td>69</td>\n",
       "      <td>8/29/2013 15:43</td>\n",
       "      <td>Townsend at 7th</td>\n",
       "      <td>65</td>\n",
       "      <td>489</td>\n",
       "      <td>Subscriber</td>\n",
       "      <td>94107</td>\n",
       "    </tr>\n",
       "    <tr>\n",
       "      <th>72</th>\n",
       "      <td>4667</td>\n",
       "      <td>244</td>\n",
       "      <td>8/29/2013 15:39</td>\n",
       "      <td>San Francisco Caltrain 2 (330 Townsend)</td>\n",
       "      <td>69</td>\n",
       "      <td>8/29/2013 15:43</td>\n",
       "      <td>Townsend at 7th</td>\n",
       "      <td>65</td>\n",
       "      <td>431</td>\n",
       "      <td>Subscriber</td>\n",
       "      <td>94109</td>\n",
       "    </tr>\n",
       "    <tr>\n",
       "      <th>166</th>\n",
       "      <td>4414</td>\n",
       "      <td>393</td>\n",
       "      <td>8/29/2013 12:44</td>\n",
       "      <td>San Francisco Caltrain 2 (330 Townsend)</td>\n",
       "      <td>69</td>\n",
       "      <td>8/29/2013 12:50</td>\n",
       "      <td>San Francisco Caltrain 2 (330 Townsend)</td>\n",
       "      <td>69</td>\n",
       "      <td>259</td>\n",
       "      <td>Customer</td>\n",
       "      <td>91127</td>\n",
       "    </tr>\n",
       "    <tr>\n",
       "      <th>194</th>\n",
       "      <td>4464</td>\n",
       "      <td>425</td>\n",
       "      <td>8/29/2013 13:09</td>\n",
       "      <td>San Francisco Caltrain 2 (330 Townsend)</td>\n",
       "      <td>69</td>\n",
       "      <td>8/29/2013 13:16</td>\n",
       "      <td>Townsend at 7th</td>\n",
       "      <td>65</td>\n",
       "      <td>318</td>\n",
       "      <td>Subscriber</td>\n",
       "      <td>94107</td>\n",
       "    </tr>\n",
       "  </tbody>\n",
       "</table>\n",
       "</div>"
      ],
      "text/plain": [
       "     Trip ID  Duration       Start Date  \\\n",
       "54      5074       216  8/29/2013 21:45   \n",
       "71      4668       243  8/29/2013 15:39   \n",
       "72      4667       244  8/29/2013 15:39   \n",
       "166     4414       393  8/29/2013 12:44   \n",
       "194     4464       425  8/29/2013 13:09   \n",
       "\n",
       "                               Start Station  Start Terminal         End Date  \\\n",
       "54   San Francisco Caltrain 2 (330 Townsend)              69  8/29/2013 21:49   \n",
       "71   San Francisco Caltrain 2 (330 Townsend)              69  8/29/2013 15:43   \n",
       "72   San Francisco Caltrain 2 (330 Townsend)              69  8/29/2013 15:43   \n",
       "166  San Francisco Caltrain 2 (330 Townsend)              69  8/29/2013 12:50   \n",
       "194  San Francisco Caltrain 2 (330 Townsend)              69  8/29/2013 13:16   \n",
       "\n",
       "                                 End Station  End Terminal  Bike #  \\\n",
       "54   San Francisco Caltrain 2 (330 Townsend)            69     268   \n",
       "71                           Townsend at 7th            65     489   \n",
       "72                           Townsend at 7th            65     431   \n",
       "166  San Francisco Caltrain 2 (330 Townsend)            69     259   \n",
       "194                          Townsend at 7th            65     318   \n",
       "\n",
       "    Subscriber Type Zip Code  \n",
       "54       Subscriber    94133  \n",
       "71       Subscriber    94107  \n",
       "72       Subscriber    94109  \n",
       "166        Customer    91127  \n",
       "194      Subscriber    94107  "
      ]
     },
     "execution_count": 4,
     "metadata": {},
     "output_type": "execute_result"
    }
   ],
   "source": [
    "trip_sub_start.head()"
   ]
  },
  {
   "cell_type": "code",
   "execution_count": 5,
   "metadata": {
    "collapsed": false
   },
   "outputs": [
    {
     "name": "stderr",
     "output_type": "stream",
     "text": [
      "/home/kyohei/anaconda2/lib/python2.7/site-packages/ipykernel/__main__.py:1: SettingWithCopyWarning: \n",
      "A value is trying to be set on a copy of a slice from a DataFrame.\n",
      "Try using .loc[row_indexer,col_indexer] = value instead\n",
      "\n",
      "See the caveats in the documentation: http://pandas.pydata.org/pandas-docs/stable/indexing.html#indexing-view-versus-copy\n",
      "  if __name__ == '__main__':\n",
      "/home/kyohei/anaconda2/lib/python2.7/site-packages/ipykernel/__main__.py:3: SettingWithCopyWarning: \n",
      "A value is trying to be set on a copy of a slice from a DataFrame.\n",
      "Try using .loc[row_indexer,col_indexer] = value instead\n",
      "\n",
      "See the caveats in the documentation: http://pandas.pydata.org/pandas-docs/stable/indexing.html#indexing-view-versus-copy\n",
      "  app.launch_new_instance()\n"
     ]
    }
   ],
   "source": [
    "trip_sub_start['Start Date'] = trip_sub_start['Start Date'].apply(lambda x:pd.to_datetime(x))\n",
    "\n",
    "trip_sub_start['Start time hour'] = trip_sub_start['Start Date'].apply(lambda x:datetime.datetime(x.year,x.month,x.day,x.hour))"
   ]
  },
  {
   "cell_type": "code",
   "execution_count": 6,
   "metadata": {
    "collapsed": false
   },
   "outputs": [],
   "source": [
    "target = pd.DataFrame(trip_sub_start.groupby('Start time hour').size()).reset_index()\n",
    "target.rename(columns={0:'count'},inplace=True)"
   ]
  },
  {
   "cell_type": "markdown",
   "metadata": {},
   "source": [
    "# status"
   ]
  },
  {
   "cell_type": "code",
   "execution_count": 7,
   "metadata": {
    "collapsed": true
   },
   "outputs": [],
   "source": [
    "status = pd.read_csv('/home/kyohei/bike_share/data_split_2015/San Francisco_station_status_stid69.csv')"
   ]
  },
  {
   "cell_type": "code",
   "execution_count": 8,
   "metadata": {
    "collapsed": false
   },
   "outputs": [
    {
     "data": {
      "text/html": [
       "<div>\n",
       "<table border=\"1\" class=\"dataframe\">\n",
       "  <thead>\n",
       "    <tr style=\"text-align: right;\">\n",
       "      <th></th>\n",
       "      <th>Unnamed: 0</th>\n",
       "      <th>station_id</th>\n",
       "      <th>bikes_available</th>\n",
       "      <th>docks_available</th>\n",
       "      <th>time</th>\n",
       "    </tr>\n",
       "  </thead>\n",
       "  <tbody>\n",
       "    <tr>\n",
       "      <th>0</th>\n",
       "      <td>28900495</td>\n",
       "      <td>69</td>\n",
       "      <td>15</td>\n",
       "      <td>8</td>\n",
       "      <td>9/1/2015 00:00:02</td>\n",
       "    </tr>\n",
       "    <tr>\n",
       "      <th>1</th>\n",
       "      <td>28900496</td>\n",
       "      <td>69</td>\n",
       "      <td>15</td>\n",
       "      <td>8</td>\n",
       "      <td>9/1/2015 00:01:02</td>\n",
       "    </tr>\n",
       "    <tr>\n",
       "      <th>2</th>\n",
       "      <td>28900497</td>\n",
       "      <td>69</td>\n",
       "      <td>15</td>\n",
       "      <td>8</td>\n",
       "      <td>9/1/2015 00:02:02</td>\n",
       "    </tr>\n",
       "    <tr>\n",
       "      <th>3</th>\n",
       "      <td>28900498</td>\n",
       "      <td>69</td>\n",
       "      <td>15</td>\n",
       "      <td>8</td>\n",
       "      <td>9/1/2015 00:03:03</td>\n",
       "    </tr>\n",
       "    <tr>\n",
       "      <th>4</th>\n",
       "      <td>28900499</td>\n",
       "      <td>69</td>\n",
       "      <td>15</td>\n",
       "      <td>8</td>\n",
       "      <td>9/1/2015 00:04:02</td>\n",
       "    </tr>\n",
       "  </tbody>\n",
       "</table>\n",
       "</div>"
      ],
      "text/plain": [
       "   Unnamed: 0  station_id  bikes_available  docks_available               time\n",
       "0    28900495          69               15                8  9/1/2015 00:00:02\n",
       "1    28900496          69               15                8  9/1/2015 00:01:02\n",
       "2    28900497          69               15                8  9/1/2015 00:02:02\n",
       "3    28900498          69               15                8  9/1/2015 00:03:03\n",
       "4    28900499          69               15                8  9/1/2015 00:04:02"
      ]
     },
     "execution_count": 8,
     "metadata": {},
     "output_type": "execute_result"
    }
   ],
   "source": [
    "status.head()"
   ]
  },
  {
   "cell_type": "code",
   "execution_count": 9,
   "metadata": {
    "collapsed": true
   },
   "outputs": [],
   "source": [
    "import datetime\n",
    "status['time'] = status['time'].apply(lambda x:pd.to_datetime(x))\n",
    "\n",
    "status['minute'] = status['time'].apply(lambda x:x.minute)\n",
    "\n",
    "status['start_time_hour'] = status['time'].apply(lambda x:datetime.datetime(x.year,x.month,x.day,x.hour,x.minute))"
   ]
  },
  {
   "cell_type": "code",
   "execution_count": 10,
   "metadata": {
    "collapsed": false
   },
   "outputs": [],
   "source": [
    "status_minute_0 = status[status.minute==0]"
   ]
  },
  {
   "cell_type": "code",
   "execution_count": 11,
   "metadata": {
    "collapsed": false
   },
   "outputs": [
    {
     "data": {
      "text/html": [
       "<div>\n",
       "<table border=\"1\" class=\"dataframe\">\n",
       "  <thead>\n",
       "    <tr style=\"text-align: right;\">\n",
       "      <th></th>\n",
       "      <th>Unnamed: 0</th>\n",
       "      <th>station_id</th>\n",
       "      <th>bikes_available</th>\n",
       "      <th>docks_available</th>\n",
       "      <th>time</th>\n",
       "      <th>minute</th>\n",
       "      <th>start_time_hour</th>\n",
       "    </tr>\n",
       "  </thead>\n",
       "  <tbody>\n",
       "    <tr>\n",
       "      <th>0</th>\n",
       "      <td>28900495</td>\n",
       "      <td>69</td>\n",
       "      <td>15</td>\n",
       "      <td>8</td>\n",
       "      <td>2015-09-01 00:00:02</td>\n",
       "      <td>0</td>\n",
       "      <td>2015-09-01 00:00:00</td>\n",
       "    </tr>\n",
       "    <tr>\n",
       "      <th>60</th>\n",
       "      <td>28900555</td>\n",
       "      <td>69</td>\n",
       "      <td>14</td>\n",
       "      <td>9</td>\n",
       "      <td>2015-09-01 01:00:02</td>\n",
       "      <td>0</td>\n",
       "      <td>2015-09-01 01:00:00</td>\n",
       "    </tr>\n",
       "    <tr>\n",
       "      <th>120</th>\n",
       "      <td>28900615</td>\n",
       "      <td>69</td>\n",
       "      <td>15</td>\n",
       "      <td>8</td>\n",
       "      <td>2015-09-01 02:00:02</td>\n",
       "      <td>0</td>\n",
       "      <td>2015-09-01 02:00:00</td>\n",
       "    </tr>\n",
       "    <tr>\n",
       "      <th>180</th>\n",
       "      <td>28900675</td>\n",
       "      <td>69</td>\n",
       "      <td>15</td>\n",
       "      <td>8</td>\n",
       "      <td>2015-09-01 03:00:02</td>\n",
       "      <td>0</td>\n",
       "      <td>2015-09-01 03:00:00</td>\n",
       "    </tr>\n",
       "    <tr>\n",
       "      <th>240</th>\n",
       "      <td>28900735</td>\n",
       "      <td>69</td>\n",
       "      <td>15</td>\n",
       "      <td>8</td>\n",
       "      <td>2015-09-01 04:00:03</td>\n",
       "      <td>0</td>\n",
       "      <td>2015-09-01 04:00:00</td>\n",
       "    </tr>\n",
       "  </tbody>\n",
       "</table>\n",
       "</div>"
      ],
      "text/plain": [
       "     Unnamed: 0  station_id  bikes_available  docks_available  \\\n",
       "0      28900495          69               15                8   \n",
       "60     28900555          69               14                9   \n",
       "120    28900615          69               15                8   \n",
       "180    28900675          69               15                8   \n",
       "240    28900735          69               15                8   \n",
       "\n",
       "                   time  minute     start_time_hour  \n",
       "0   2015-09-01 00:00:02       0 2015-09-01 00:00:00  \n",
       "60  2015-09-01 01:00:02       0 2015-09-01 01:00:00  \n",
       "120 2015-09-01 02:00:02       0 2015-09-01 02:00:00  \n",
       "180 2015-09-01 03:00:02       0 2015-09-01 03:00:00  \n",
       "240 2015-09-01 04:00:03       0 2015-09-01 04:00:00  "
      ]
     },
     "execution_count": 11,
     "metadata": {},
     "output_type": "execute_result"
    }
   ],
   "source": [
    "status_minute_0.head()"
   ]
  },
  {
   "cell_type": "code",
   "execution_count": 12,
   "metadata": {
    "collapsed": false
   },
   "outputs": [],
   "source": [
    "status_yesterday = pd.concat([status_minute_0[['station_id','time','start_time_hour']],status_minute_0.shift(1)[['bikes_available','docks_available']]],axis=1)"
   ]
  },
  {
   "cell_type": "code",
   "execution_count": 13,
   "metadata": {
    "collapsed": false
   },
   "outputs": [
    {
     "data": {
      "text/html": [
       "<div>\n",
       "<table border=\"1\" class=\"dataframe\">\n",
       "  <thead>\n",
       "    <tr style=\"text-align: right;\">\n",
       "      <th></th>\n",
       "      <th>station_id</th>\n",
       "      <th>time</th>\n",
       "      <th>start_time_hour</th>\n",
       "      <th>bikes_available</th>\n",
       "      <th>docks_available</th>\n",
       "    </tr>\n",
       "  </thead>\n",
       "  <tbody>\n",
       "    <tr>\n",
       "      <th>0</th>\n",
       "      <td>69</td>\n",
       "      <td>2015-09-01 00:00:02</td>\n",
       "      <td>2015-09-01 00:00:00</td>\n",
       "      <td>NaN</td>\n",
       "      <td>NaN</td>\n",
       "    </tr>\n",
       "    <tr>\n",
       "      <th>60</th>\n",
       "      <td>69</td>\n",
       "      <td>2015-09-01 01:00:02</td>\n",
       "      <td>2015-09-01 01:00:00</td>\n",
       "      <td>15.0</td>\n",
       "      <td>8.0</td>\n",
       "    </tr>\n",
       "    <tr>\n",
       "      <th>120</th>\n",
       "      <td>69</td>\n",
       "      <td>2015-09-01 02:00:02</td>\n",
       "      <td>2015-09-01 02:00:00</td>\n",
       "      <td>14.0</td>\n",
       "      <td>9.0</td>\n",
       "    </tr>\n",
       "    <tr>\n",
       "      <th>180</th>\n",
       "      <td>69</td>\n",
       "      <td>2015-09-01 03:00:02</td>\n",
       "      <td>2015-09-01 03:00:00</td>\n",
       "      <td>15.0</td>\n",
       "      <td>8.0</td>\n",
       "    </tr>\n",
       "    <tr>\n",
       "      <th>240</th>\n",
       "      <td>69</td>\n",
       "      <td>2015-09-01 04:00:03</td>\n",
       "      <td>2015-09-01 04:00:00</td>\n",
       "      <td>15.0</td>\n",
       "      <td>8.0</td>\n",
       "    </tr>\n",
       "  </tbody>\n",
       "</table>\n",
       "</div>"
      ],
      "text/plain": [
       "     station_id                time     start_time_hour  bikes_available  \\\n",
       "0            69 2015-09-01 00:00:02 2015-09-01 00:00:00              NaN   \n",
       "60           69 2015-09-01 01:00:02 2015-09-01 01:00:00             15.0   \n",
       "120          69 2015-09-01 02:00:02 2015-09-01 02:00:00             14.0   \n",
       "180          69 2015-09-01 03:00:02 2015-09-01 03:00:00             15.0   \n",
       "240          69 2015-09-01 04:00:03 2015-09-01 04:00:00             15.0   \n",
       "\n",
       "     docks_available  \n",
       "0                NaN  \n",
       "60               8.0  \n",
       "120              9.0  \n",
       "180              8.0  \n",
       "240              8.0  "
      ]
     },
     "execution_count": 13,
     "metadata": {},
     "output_type": "execute_result"
    }
   ],
   "source": [
    "status_yesterday.head()"
   ]
  },
  {
   "cell_type": "code",
   "execution_count": 14,
   "metadata": {
    "collapsed": false
   },
   "outputs": [],
   "source": [
    "status_yesterday.dropna(inplace=True)"
   ]
  },
  {
   "cell_type": "code",
   "execution_count": 15,
   "metadata": {
    "collapsed": false
   },
   "outputs": [
    {
     "data": {
      "text/html": [
       "<div>\n",
       "<table border=\"1\" class=\"dataframe\">\n",
       "  <thead>\n",
       "    <tr style=\"text-align: right;\">\n",
       "      <th></th>\n",
       "      <th>station_id</th>\n",
       "      <th>time</th>\n",
       "      <th>start_time_hour</th>\n",
       "      <th>bikes_available</th>\n",
       "      <th>docks_available</th>\n",
       "    </tr>\n",
       "  </thead>\n",
       "  <tbody>\n",
       "    <tr>\n",
       "      <th>60</th>\n",
       "      <td>69</td>\n",
       "      <td>2015-09-01 01:00:02</td>\n",
       "      <td>2015-09-01 01:00:00</td>\n",
       "      <td>15.0</td>\n",
       "      <td>8.0</td>\n",
       "    </tr>\n",
       "    <tr>\n",
       "      <th>120</th>\n",
       "      <td>69</td>\n",
       "      <td>2015-09-01 02:00:02</td>\n",
       "      <td>2015-09-01 02:00:00</td>\n",
       "      <td>14.0</td>\n",
       "      <td>9.0</td>\n",
       "    </tr>\n",
       "    <tr>\n",
       "      <th>180</th>\n",
       "      <td>69</td>\n",
       "      <td>2015-09-01 03:00:02</td>\n",
       "      <td>2015-09-01 03:00:00</td>\n",
       "      <td>15.0</td>\n",
       "      <td>8.0</td>\n",
       "    </tr>\n",
       "    <tr>\n",
       "      <th>240</th>\n",
       "      <td>69</td>\n",
       "      <td>2015-09-01 04:00:03</td>\n",
       "      <td>2015-09-01 04:00:00</td>\n",
       "      <td>15.0</td>\n",
       "      <td>8.0</td>\n",
       "    </tr>\n",
       "    <tr>\n",
       "      <th>300</th>\n",
       "      <td>69</td>\n",
       "      <td>2015-09-01 05:00:02</td>\n",
       "      <td>2015-09-01 05:00:00</td>\n",
       "      <td>15.0</td>\n",
       "      <td>8.0</td>\n",
       "    </tr>\n",
       "  </tbody>\n",
       "</table>\n",
       "</div>"
      ],
      "text/plain": [
       "     station_id                time     start_time_hour  bikes_available  \\\n",
       "60           69 2015-09-01 01:00:02 2015-09-01 01:00:00             15.0   \n",
       "120          69 2015-09-01 02:00:02 2015-09-01 02:00:00             14.0   \n",
       "180          69 2015-09-01 03:00:02 2015-09-01 03:00:00             15.0   \n",
       "240          69 2015-09-01 04:00:03 2015-09-01 04:00:00             15.0   \n",
       "300          69 2015-09-01 05:00:02 2015-09-01 05:00:00             15.0   \n",
       "\n",
       "     docks_available  \n",
       "60               8.0  \n",
       "120              9.0  \n",
       "180              8.0  \n",
       "240              8.0  \n",
       "300              8.0  "
      ]
     },
     "execution_count": 15,
     "metadata": {},
     "output_type": "execute_result"
    }
   ],
   "source": [
    "status_yesterday.head()"
   ]
  },
  {
   "cell_type": "code",
   "execution_count": 16,
   "metadata": {
    "collapsed": false
   },
   "outputs": [
    {
     "data": {
      "text/html": [
       "<div>\n",
       "<table border=\"1\" class=\"dataframe\">\n",
       "  <thead>\n",
       "    <tr style=\"text-align: right;\">\n",
       "      <th></th>\n",
       "      <th>Start time hour</th>\n",
       "      <th>count</th>\n",
       "    </tr>\n",
       "  </thead>\n",
       "  <tbody>\n",
       "    <tr>\n",
       "      <th>0</th>\n",
       "      <td>2013-08-29 10:00:00</td>\n",
       "      <td>1</td>\n",
       "    </tr>\n",
       "    <tr>\n",
       "      <th>1</th>\n",
       "      <td>2013-08-29 11:00:00</td>\n",
       "      <td>4</td>\n",
       "    </tr>\n",
       "    <tr>\n",
       "      <th>2</th>\n",
       "      <td>2013-08-29 12:00:00</td>\n",
       "      <td>6</td>\n",
       "    </tr>\n",
       "    <tr>\n",
       "      <th>3</th>\n",
       "      <td>2013-08-29 13:00:00</td>\n",
       "      <td>3</td>\n",
       "    </tr>\n",
       "    <tr>\n",
       "      <th>4</th>\n",
       "      <td>2013-08-29 14:00:00</td>\n",
       "      <td>2</td>\n",
       "    </tr>\n",
       "  </tbody>\n",
       "</table>\n",
       "</div>"
      ],
      "text/plain": [
       "      Start time hour  count\n",
       "0 2013-08-29 10:00:00      1\n",
       "1 2013-08-29 11:00:00      4\n",
       "2 2013-08-29 12:00:00      6\n",
       "3 2013-08-29 13:00:00      3\n",
       "4 2013-08-29 14:00:00      2"
      ]
     },
     "execution_count": 16,
     "metadata": {},
     "output_type": "execute_result"
    }
   ],
   "source": [
    "target.head()"
   ]
  },
  {
   "cell_type": "code",
   "execution_count": 17,
   "metadata": {
    "collapsed": true
   },
   "outputs": [],
   "source": [
    "merge_data = target.merge(status_yesterday,left_on='Start time hour',right_on='start_time_hour',how='outer')"
   ]
  },
  {
   "cell_type": "code",
   "execution_count": 18,
   "metadata": {
    "collapsed": false,
    "scrolled": true
   },
   "outputs": [],
   "source": [
    "merge_data.drop('Start time hour',axis=1,inplace=True)\n",
    "\n",
    "merge_data['count'] = merge_data['count'].fillna(0)\n",
    "\n",
    "merge_data.dropna(inplace=True)"
   ]
  },
  {
   "cell_type": "code",
   "execution_count": 19,
   "metadata": {
    "collapsed": false
   },
   "outputs": [],
   "source": [
    "merge_data['hour'] = merge_data['time'].apply(lambda x:x.hour)"
   ]
  },
  {
   "cell_type": "code",
   "execution_count": 20,
   "metadata": {
    "collapsed": false
   },
   "outputs": [],
   "source": [
    "#AM8\n",
    "merge_data_trans_am = pd.DataFrame(merge_data[merge_data['hour']==8].groupby(['bikes_available'])['count'].mean()).reset_index()"
   ]
  },
  {
   "cell_type": "code",
   "execution_count": 21,
   "metadata": {
    "collapsed": false
   },
   "outputs": [
    {
     "data": {
      "text/plain": [
       "<matplotlib.axes._subplots.AxesSubplot at 0x7f7beed0ba90>"
      ]
     },
     "execution_count": 21,
     "metadata": {},
     "output_type": "execute_result"
    },
    {
     "data": {
      "image/png": "[encoded data removed]",
      "text/plain": [
       "<matplotlib.figure.Figure at 0x7f7c245b1290>"
      ]
     },
     "metadata": {},
     "output_type": "display_data"
    }
   ],
   "source": [
    "merge_data_trans_am.plot('bikes_available','count',kind='bar')"
   ]
  },
  {
   "cell_type": "code",
   "execution_count": null,
   "metadata": {
    "collapsed": true
   },
   "outputs": [],
   "source": []
  }
 ],
 "metadata": {
  "anaconda-cloud": {},
  "kernelspec": {
   "display_name": "Python [conda root]",
   "language": "python",
   "name": "conda-root-py"
  },
  "language_info": {
   "codemirror_mode": {
    "name": "ipython",
    "version": 2
   },
   "file_extension": ".py",
   "mimetype": "text/x-python",
   "name": "python",
   "nbconvert_exporter": "python",
   "pygments_lexer": "ipython2",
   "version": "2.7.12"
  }
 },
 "nbformat": 4,
 "nbformat_minor": 1
}
