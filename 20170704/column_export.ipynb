{
 "cells": [
  {
   "cell_type": "code",
   "execution_count": 1,
   "metadata": {
    "collapsed": true
   },
   "outputs": [],
   "source": [
    "import pandas as pd\n"
   ]
  },
  {
   "cell_type": "code",
   "execution_count": 2,
   "metadata": {
    "collapsed": true
   },
   "outputs": [],
   "source": [
    "trip = pd.read_csv('/home/kyohei/bike_share_data/201508_trip_data.csv')\n",
    "status = pd.read_csv('/home/kyohei/bike_share/data_split_2013/Palo Alto_station_status_stid37.csv')\n",
    "station = pd.read_csv('/home/kyohei/bike_share_data/201608_station_data.csv')\n",
    "weather = pd.read_csv('/home/kyohei/bike_share_data/201608_weather_data.csv')"
   ]
  },
  {
   "cell_type": "code",
   "execution_count": 5,
   "metadata": {
    "collapsed": false
   },
   "outputs": [],
   "source": [
    "trip.head().to_excel('/home/kyohei/bike_share_data/columns_export/trip.xls')"
   ]
  },
  {
   "cell_type": "code",
   "execution_count": 6,
   "metadata": {
    "collapsed": true
   },
   "outputs": [],
   "source": [
    "status.head().to_excel('/home/kyohei/bike_share_data/columns_export/status.xls')\n",
    "station.head().to_excel('/home/kyohei/bike_share_data/columns_export/station.xls')\n",
    "weather.head().to_excel('/home/kyohei/bike_share_data/columns_export/weather.xls')"
   ]
  },
  {
   "cell_type": "code",
   "execution_count": null,
   "metadata": {
    "collapsed": true
   },
   "outputs": [],
   "source": []
  }
 ],
 "metadata": {
  "anaconda-cloud": {},
  "kernelspec": {
   "display_name": "Python [conda root]",
   "language": "python",
   "name": "conda-root-py"
  },
  "language_info": {
   "codemirror_mode": {
    "name": "ipython",
    "version": 2
   },
   "file_extension": ".py",
   "mimetype": "text/x-python",
   "name": "python",
   "nbconvert_exporter": "python",
   "pygments_lexer": "ipython2",
   "version": "2.7.12"
  }
 },
 "nbformat": 4,
 "nbformat_minor": 1
}
