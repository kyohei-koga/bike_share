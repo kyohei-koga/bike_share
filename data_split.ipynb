{
 "cells": [
  {
   "cell_type": "code",
   "execution_count": 1,
   "metadata": {
    "collapsed": true
   },
   "outputs": [],
   "source": [
    "import pandas as pd"
   ]
  },
  {
   "cell_type": "markdown",
   "metadata": {},
   "source": [
    "# 一個目"
   ]
  },
  {
   "cell_type": "code",
   "execution_count": 28,
   "metadata": {
    "collapsed": true
   },
   "outputs": [],
   "source": [
    "status1 = pd.read_csv('/home/kyohei/bike_share_data/201402_babs_open_data/201402_status_data.csv')\n",
    "status2 = pd.read_csv('/home/kyohei/bike_share_data/201408_babs_open_data/201408_status_data.csv')\n",
    "#status3 = pd.read_csv('/home/kyohei/bike_share_data/201508_status_data.csv')\n",
    "#status4 = pd.read_csv('/home/kyohei/bike_share_data/201608_status_data.csv')"
   ]
  },
  {
   "cell_type": "code",
   "execution_count": 55,
   "metadata": {
    "collapsed": false
   },
   "outputs": [],
   "source": [
    "status = pd.concat([status1,status2],axis=0,ignore_index=True)"
   ]
  },
  {
   "cell_type": "code",
   "execution_count": 29,
   "metadata": {
    "collapsed": false
   },
   "outputs": [],
   "source": [
    "station1 = pd.read_csv('/home/kyohei/bike_share_data/201402_babs_open_data/201402_station_data.csv')\n",
    "station2 = pd.read_csv('/home/kyohei/bike_share_data/201408_babs_open_data/201408_station_data.csv')"
   ]
  },
  {
   "cell_type": "code",
   "execution_count": 34,
   "metadata": {
    "collapsed": false
   },
   "outputs": [],
   "source": [
    "station = pd.concat([station1,station2],axis=0,ignore_index=True)"
   ]
  },
  {
   "cell_type": "code",
   "execution_count": 42,
   "metadata": {
    "collapsed": false
   },
   "outputs": [],
   "source": [
    "station.drop_duplicates(inplace=True)"
   ]
  },
  {
   "cell_type": "code",
   "execution_count": 56,
   "metadata": {
    "collapsed": false,
    "scrolled": true
   },
   "outputs": [],
   "source": [
    "for st in station.iterrows():\n",
    "    status_split = status[status.station_id==st[1]['station_id']]\n",
    "    status_split.to_csv('/home/kyohei/bike_share/data_split_2013/'+st[1]['landmark']+'_station_status_stid'+str(st[1]['station_id'])+'.csv')\n",
    "    \n",
    "    #print('/home/kyohei/bike_share/data_split/'+st[1]['landmark']+'_station_status_stid'+str(st[1]['station_id'])+'.csv')"
   ]
  },
  {
   "cell_type": "markdown",
   "metadata": {},
   "source": [
    "# 二回目"
   ]
  },
  {
   "cell_type": "code",
   "execution_count": 2,
   "metadata": {
    "collapsed": true
   },
   "outputs": [],
   "source": [
    "status3 = pd.read_csv('/home/kyohei/bike_share_data/201508_status_data.csv')"
   ]
  },
  {
   "cell_type": "code",
   "execution_count": 3,
   "metadata": {
    "collapsed": true
   },
   "outputs": [],
   "source": [
    "station3 = pd.read_csv('/home/kyohei/bike_share_data/201508_station_data.csv')"
   ]
  },
  {
   "cell_type": "code",
   "execution_count": 4,
   "metadata": {
    "collapsed": true
   },
   "outputs": [],
   "source": [
    "for st in station3.iterrows():\n",
    "    status_split = status3[status3.station_id==st[1]['station_id']]\n",
    "    status_split.to_csv('/home/kyohei/bike_share/data_split_2014/'+st[1]['landmark']+'_station_status_stid'+str(st[1]['station_id'])+'.csv')"
   ]
  },
  {
   "cell_type": "markdown",
   "metadata": {},
   "source": [
    "# 三回目"
   ]
  },
  {
   "cell_type": "code",
   "execution_count": 2,
   "metadata": {
    "collapsed": true
   },
   "outputs": [],
   "source": [
    "status4 = pd.read_csv('/home/kyohei/bike_share_data/201608_status_data.csv')"
   ]
  },
  {
   "cell_type": "code",
   "execution_count": 3,
   "metadata": {
    "collapsed": true
   },
   "outputs": [],
   "source": [
    "station4 = pd.read_csv('/home/kyohei/bike_share_data/201608_station_data.csv')"
   ]
  },
  {
   "cell_type": "code",
   "execution_count": null,
   "metadata": {
    "collapsed": true
   },
   "outputs": [],
   "source": [
    "station4.dropna(inplace=True)"
   ]
  },
  {
   "cell_type": "code",
   "execution_count": 12,
   "metadata": {
    "collapsed": false
   },
   "outputs": [],
   "source": [
    "for st in station4.iterrows():\n",
    "    status_split = status4[status4.station_id==st[1]['station_id']]\n",
    "    status_split.to_csv('/home/kyohei/bike_share/data_split_2015/'+st[1]['landmark']+'_station_status_stid'+str(int(st[1]['station_id']))+'.csv')"
   ]
  },
  {
   "cell_type": "code",
   "execution_count": null,
   "metadata": {
    "collapsed": true
   },
   "outputs": [],
   "source": []
  }
 ],
 "metadata": {
  "anaconda-cloud": {},
  "kernelspec": {
   "display_name": "Python [conda root]",
   "language": "python",
   "name": "conda-root-py"
  },
  "language_info": {
   "codemirror_mode": {
    "name": "ipython",
    "version": 2
   },
   "file_extension": ".py",
   "mimetype": "text/x-python",
   "name": "python",
   "nbconvert_exporter": "python",
   "pygments_lexer": "ipython2",
   "version": "2.7.12"
  }
 },
 "nbformat": 4,
 "nbformat_minor": 1
}
