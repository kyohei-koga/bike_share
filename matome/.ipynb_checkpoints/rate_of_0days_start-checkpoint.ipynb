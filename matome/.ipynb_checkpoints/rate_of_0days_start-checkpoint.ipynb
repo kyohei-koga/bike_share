{
 "cells": [
  {
   "cell_type": "code",
   "execution_count": null,
   "metadata": {
    "collapsed": true
   },
   "outputs": [],
   "source": [
    "import pandas as pd"
   ]
  },
  {
   "cell_type": "markdown",
   "metadata": {},
   "source": [
    "### スタート、到着が多いステーションの0になる日数を調べる AM\n",
    "- start 69,70,50,55,73\n",
    "- end 63,65,48"
   ]
  },
  {
   "cell_type": "code",
   "execution_count": null,
   "metadata": {
    "collapsed": true
   },
   "outputs": [],
   "source": [
    "import os\n",
    "file_path = '/home/'"
   ]
  },
  {
   "cell_type": "code",
   "execution_count": 55,
   "metadata": {
    "collapsed": true
   },
   "outputs": [],
   "source": [
    "status69 = pd.read_csv('/home/kyohei/bike_share/data_split_2015/San Francisco_station_status_stid69.csv')\n",
    "status70 = pd.read_csv('/home/kyohei/bike_share/data_split_2015/San Francisco_station_status_stid70.csv')\n",
    "status50 = pd.read_csv('/home/kyohei/bike_share/data_split_2015/San Francisco_station_status_stid50.csv')\n",
    "status55 = pd.read_csv('/home/kyohei/bike_share/data_split_2015/San Francisco_station_status_stid55.csv')\n",
    "status73 = pd.read_csv('/home/kyohei/bike_share/data_split_2015/San Francisco_station_status_stid73.csv')\n",
    "status63 = pd.read_csv('/home/kyohei/bike_share/data_split_2015/San Francisco_station_status_stid63.csv')\n",
    "status54 = pd.read_csv('/home/kyohei/bike_share/data_split_2015/San Francisco_station_status_stid54.csv')\n",
    "status74 = pd.read_csv('/home/kyohei/bike_share/data_split_2015/San Francisco_station_status_stid74.csv')\n",
    "\n",
    "status65 = pd.read_csv('/home/kyohei/bike_share/data_split_2015/San Francisco_station_status_stid65.csv')\n",
    "status48 = pd.read_csv('/home/kyohei/bike_share/data_split_2015/San Francisco_station_status_stid48.csv')"
   ]
  },
  {
   "cell_type": "code",
   "execution_count": 56,
   "metadata": {
    "collapsed": true
   },
   "outputs": [],
   "source": [
    "#日数\n",
    "num_of_days = 366\n",
    "num_of_dayofweek = 262"
   ]
  },
  {
   "cell_type": "code",
   "execution_count": 57,
   "metadata": {
    "collapsed": true
   },
   "outputs": [],
   "source": [
    "start_list = [status69,status70,status50,status55,status73,status54,status74]\n",
    "end_list= [status63,status65,status48]"
   ]
  },
  {
   "cell_type": "code",
   "execution_count": 58,
   "metadata": {
    "collapsed": true
   },
   "outputs": [],
   "source": [
    "#0のデータに限定\n",
    "start_list_0 = []\n",
    "for status in start_list:\n",
    "    status = status[status.bikes_available==0]\n",
    "    start_list_0.append(status)\n",
    "    \n",
    "end_list_0 = []\n",
    "for status in end_list:\n",
    "    status = status[status.docks_available==0]\n",
    "    end_list_0.append(status)"
   ]
  },
  {
   "cell_type": "code",
   "execution_count": 59,
   "metadata": {
    "collapsed": false
   },
   "outputs": [
    {
     "name": "stderr",
     "output_type": "stream",
     "text": [
      "/home/kyohei/anaconda2/lib/python2.7/site-packages/ipykernel/__main__.py:3: SettingWithCopyWarning: \n",
      "A value is trying to be set on a copy of a slice from a DataFrame.\n",
      "Try using .loc[row_indexer,col_indexer] = value instead\n",
      "\n",
      "See the caveats in the documentation: http://pandas.pydata.org/pandas-docs/stable/indexing.html#indexing-view-versus-copy\n",
      "  app.launch_new_instance()\n",
      "/home/kyohei/anaconda2/lib/python2.7/site-packages/ipykernel/__main__.py:4: SettingWithCopyWarning: \n",
      "A value is trying to be set on a copy of a slice from a DataFrame.\n",
      "Try using .loc[row_indexer,col_indexer] = value instead\n",
      "\n",
      "See the caveats in the documentation: http://pandas.pydata.org/pandas-docs/stable/indexing.html#indexing-view-versus-copy\n",
      "/home/kyohei/anaconda2/lib/python2.7/site-packages/ipykernel/__main__.py:5: SettingWithCopyWarning: \n",
      "A value is trying to be set on a copy of a slice from a DataFrame.\n",
      "Try using .loc[row_indexer,col_indexer] = value instead\n",
      "\n",
      "See the caveats in the documentation: http://pandas.pydata.org/pandas-docs/stable/indexing.html#indexing-view-versus-copy\n",
      "/home/kyohei/anaconda2/lib/python2.7/site-packages/ipykernel/__main__.py:6: SettingWithCopyWarning: \n",
      "A value is trying to be set on a copy of a slice from a DataFrame.\n",
      "Try using .loc[row_indexer,col_indexer] = value instead\n",
      "\n",
      "See the caveats in the documentation: http://pandas.pydata.org/pandas-docs/stable/indexing.html#indexing-view-versus-copy\n",
      "/home/kyohei/anaconda2/lib/python2.7/site-packages/ipykernel/__main__.py:9: SettingWithCopyWarning: \n",
      "A value is trying to be set on a copy of a slice from a DataFrame.\n",
      "Try using .loc[row_indexer,col_indexer] = value instead\n",
      "\n",
      "See the caveats in the documentation: http://pandas.pydata.org/pandas-docs/stable/indexing.html#indexing-view-versus-copy\n",
      "/home/kyohei/anaconda2/lib/python2.7/site-packages/ipykernel/__main__.py:10: SettingWithCopyWarning: \n",
      "A value is trying to be set on a copy of a slice from a DataFrame.\n",
      "Try using .loc[row_indexer,col_indexer] = value instead\n",
      "\n",
      "See the caveats in the documentation: http://pandas.pydata.org/pandas-docs/stable/indexing.html#indexing-view-versus-copy\n",
      "/home/kyohei/anaconda2/lib/python2.7/site-packages/ipykernel/__main__.py:11: SettingWithCopyWarning: \n",
      "A value is trying to be set on a copy of a slice from a DataFrame.\n",
      "Try using .loc[row_indexer,col_indexer] = value instead\n",
      "\n",
      "See the caveats in the documentation: http://pandas.pydata.org/pandas-docs/stable/indexing.html#indexing-view-versus-copy\n",
      "/home/kyohei/anaconda2/lib/python2.7/site-packages/ipykernel/__main__.py:12: SettingWithCopyWarning: \n",
      "A value is trying to be set on a copy of a slice from a DataFrame.\n",
      "Try using .loc[row_indexer,col_indexer] = value instead\n",
      "\n",
      "See the caveats in the documentation: http://pandas.pydata.org/pandas-docs/stable/indexing.html#indexing-view-versus-copy\n"
     ]
    }
   ],
   "source": [
    "#日付データの変換\n",
    "for status in start_list_0:\n",
    "    status['time'] = status['time'].apply(lambda x:pd.to_datetime(x))\n",
    "    status['Date'] = status['time'].apply(lambda x:x.date())\n",
    "    status['hour'] = status['time'].apply(lambda x:x.hour)\n",
    "    status['dayofweek'] = status['time'].apply(lambda x:x.dayofweek)\n",
    "\n",
    "for status in end_list_0:\n",
    "    status['time'] = status['time'].apply(lambda x:pd.to_datetime(x))\n",
    "    status['Date'] = status['time'].apply(lambda x:x.date())\n",
    "    status['hour'] = status['time'].apply(lambda x:x.hour)\n",
    "    status['dayofweek'] = status['time'].apply(lambda x:x.dayofweek)"
   ]
  },
  {
   "cell_type": "code",
   "execution_count": 60,
   "metadata": {
    "collapsed": true
   },
   "outputs": [],
   "source": [
    "#曜日の限定\n",
    "start_dayofweek = []\n",
    "for status in start_list_0:\n",
    "    dayofweek = status[status.dayofweek<=4]\n",
    "    start_dayofweek.append(dayofweek)\n",
    "\n",
    "end_dayofweek = []\n",
    "for status in end_list_0:\n",
    "    dayofweek = status[status.dayofweek<=4]\n",
    "    end_dayofweek.append(dayofweek)"
   ]
  },
  {
   "cell_type": "code",
   "execution_count": 61,
   "metadata": {
    "collapsed": true
   },
   "outputs": [],
   "source": [
    "#時間帯と曜日の限定\n",
    "AM_start_list = []\n",
    "for status in start_dayofweek:\n",
    "    AM = status[(status.hour>=7) & (status.hour<=9)]\n",
    "    AM_start_list.append(AM)\n",
    "    \n",
    "AM_end_list = []\n",
    "for status in end_dayofweek:\n",
    "    AM = status[(status.hour>=8) & (status.hour<=10)]\n",
    "    AM_end_list.append(AM)"
   ]
  },
  {
   "cell_type": "code",
   "execution_count": 62,
   "metadata": {
    "collapsed": false
   },
   "outputs": [],
   "source": [
    "#AMで10分以上空車があった日数\n",
    "AM_rate_start = []\n",
    "for status in AM_start_list:\n",
    "    rate = (status['Date'].value_counts()>=10).sum() / float(262)\n",
    "    AM_rate_start.append(rate)\n",
    "    \n",
    "AM_rate_end = []\n",
    "for status in AM_end_list:\n",
    "    rate = (status['Date'].value_counts()>=10).sum() / float(262)\n",
    "    AM_rate_end.append(rate)"
   ]
  },
  {
   "cell_type": "code",
   "execution_count": 63,
   "metadata": {
    "collapsed": false
   },
   "outputs": [
    {
     "data": {
      "text/plain": [
       "[0.33206106870229007,\n",
       " 0.51908396946564883,\n",
       " 0.28244274809160308,\n",
       " 0.35877862595419846,\n",
       " 0.25190839694656486,\n",
       " 0.24809160305343511,\n",
       " 0.14503816793893129]"
      ]
     },
     "execution_count": 63,
     "metadata": {},
     "output_type": "execute_result"
    }
   ],
   "source": [
    "AM_rate_start"
   ]
  },
  {
   "cell_type": "code",
   "execution_count": 64,
   "metadata": {
    "collapsed": false
   },
   "outputs": [
    {
     "data": {
      "text/plain": [
       "[0.31679389312977096, 0.17938931297709923, 0.16412213740458015]"
      ]
     },
     "execution_count": 64,
     "metadata": {},
     "output_type": "execute_result"
    }
   ],
   "source": [
    "AM_rate_end"
   ]
  },
  {
   "cell_type": "code",
   "execution_count": null,
   "metadata": {
    "collapsed": true
   },
   "outputs": [],
   "source": []
  }
 ],
 "metadata": {
  "anaconda-cloud": {},
  "kernelspec": {
   "display_name": "Python [conda root]",
   "language": "python",
   "name": "conda-root-py"
  },
  "language_info": {
   "codemirror_mode": {
    "name": "ipython",
    "version": 2
   },
   "file_extension": ".py",
   "mimetype": "text/x-python",
   "name": "python",
   "nbconvert_exporter": "python",
   "pygments_lexer": "ipython2",
   "version": "2.7.12"
  }
 },
 "nbformat": 4,
 "nbformat_minor": 1
}
